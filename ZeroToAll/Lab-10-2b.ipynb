{
 "cells": [
  {
   "cell_type": "raw",
   "metadata": {
    "ExecuteTime": {
     "end_time": "2020-05-29T11:07:50.621807Z",
     "start_time": "2020-05-29T11:07:50.617815Z"
    }
   },
   "source": [
    "import torch\n",
    "import torchvision.datasets as dsets\n",
    "import torchvision.transforms as transforms\n",
    "import torch.nn as nn\n",
    "\n",
    "import os\n",
    "img_path=\"E:/kaggle_imgs/\""
   ]
  },
  {
   "cell_type": "code",
   "execution_count": 48,
   "metadata": {
    "ExecuteTime": {
     "end_time": "2020-05-29T11:15:57.129427Z",
     "start_time": "2020-05-29T11:15:57.126426Z"
    }
   },
   "outputs": [],
   "source": [
    "device = 'cuda' if torch.cuda.is_available else \"cpu\"\n",
    "torch.manual_seed(777)\n",
    "if device==\"cuda\":\n",
    "    torch.cuda.manual_seed_all(777)"
   ]
  },
  {
   "cell_type": "code",
   "execution_count": 49,
   "metadata": {
    "ExecuteTime": {
     "end_time": "2020-05-29T11:15:57.294693Z",
     "start_time": "2020-05-29T11:15:57.291693Z"
    }
   },
   "outputs": [],
   "source": [
    "learning_rate=1e-3\n",
    "training_epochs=15\n",
    "batch_size=100"
   ]
  },
  {
   "cell_type": "code",
   "execution_count": 50,
   "metadata": {
    "ExecuteTime": {
     "end_time": "2020-05-29T11:15:57.487348Z",
     "start_time": "2020-05-29T11:15:57.455342Z"
    }
   },
   "outputs": [],
   "source": [
    "mnist_train=dsets.MNIST(root=os.path.join(img_path,\"MNIST_data/\"),\n",
    "               train=True,\n",
    "               transform=transforms.ToTensor(),\n",
    "               download=True)\n",
    "mnist_test=dsets.MNIST(root=os.path.join(img_path,\"MNIST_data/\"),\n",
    "               train=False,\n",
    "               transform=transforms.ToTensor(),\n",
    "               download=True)"
   ]
  },
  {
   "cell_type": "code",
   "execution_count": 51,
   "metadata": {
    "ExecuteTime": {
     "end_time": "2020-05-29T11:15:57.618398Z",
     "start_time": "2020-05-29T11:15:57.615396Z"
    }
   },
   "outputs": [],
   "source": [
    "data_loader=torch.utils.data.DataLoader(dataset=mnist_train,\n",
    "                                 batch_size=batch_size,\n",
    "                                 shuffle=True,\n",
    "                                 drop_last=True)"
   ]
  },
  {
   "cell_type": "code",
   "execution_count": 52,
   "metadata": {
    "ExecuteTime": {
     "end_time": "2020-05-29T11:15:57.789126Z",
     "start_time": "2020-05-29T11:15:57.781125Z"
    }
   },
   "outputs": [],
   "source": [
    "class CNN(nn.Module):\n",
    "    def __init__(self):\n",
    "        super(CNN,self).__init__()\n",
    "        self.layer1=nn.Sequential(\n",
    "        nn.Conv2d(1,32,3,padding=1),\n",
    "        nn.ReLU(),\n",
    "        nn.MaxPool2d(2))\n",
    "        self.layer2=nn.Sequential(\n",
    "        nn.Conv2d(32,64,3,padding=1),\n",
    "        nn.ReLU(),\n",
    "        nn.MaxPool2d(2))\n",
    "        self.fc=nn.Linear(7*7*64,10,bias=True)\n",
    "        torch.nn.init.xavier_uniform_(self.fc.weight)\n",
    "    \n",
    "    def forward(self,x):\n",
    "        out=self.layer1(x)\n",
    "        out=self.layer2(out)\n",
    "        out=out.view(out.size(0),-1)\n",
    "        out=self.fc(out)\n",
    "        return out"
   ]
  },
  {
   "cell_type": "code",
   "execution_count": 53,
   "metadata": {
    "ExecuteTime": {
     "end_time": "2020-05-29T11:15:57.947269Z",
     "start_time": "2020-05-29T11:15:57.941242Z"
    }
   },
   "outputs": [],
   "source": [
    "model=CNN().to(device)"
   ]
  },
  {
   "cell_type": "code",
   "execution_count": 54,
   "metadata": {
    "ExecuteTime": {
     "end_time": "2020-05-29T11:15:58.108660Z",
     "start_time": "2020-05-29T11:15:58.105659Z"
    }
   },
   "outputs": [],
   "source": [
    "criterion=nn.CrossEntropyLoss().to(device)\n",
    "optimizer=torch.optim.Adam(model.parameters(),lr=learning_rate)"
   ]
  },
  {
   "cell_type": "code",
   "execution_count": 55,
   "metadata": {
    "ExecuteTime": {
     "end_time": "2020-05-29T11:17:56.452854Z",
     "start_time": "2020-05-29T11:15:59.079174Z"
    }
   },
   "outputs": [
    {
     "name": "stdout",
     "output_type": "stream",
     "text": [
      "0 cost tensor(0.2238, device='cuda:0', grad_fn=<AddBackward0>)\n",
      "1 cost tensor(0.0621, device='cuda:0', grad_fn=<AddBackward0>)\n",
      "2 cost tensor(0.0448, device='cuda:0', grad_fn=<AddBackward0>)\n",
      "3 cost tensor(0.0355, device='cuda:0', grad_fn=<AddBackward0>)\n",
      "4 cost tensor(0.0290, device='cuda:0', grad_fn=<AddBackward0>)\n",
      "5 cost tensor(0.0249, device='cuda:0', grad_fn=<AddBackward0>)\n",
      "6 cost tensor(0.0209, device='cuda:0', grad_fn=<AddBackward0>)\n",
      "7 cost tensor(0.0180, device='cuda:0', grad_fn=<AddBackward0>)\n",
      "8 cost tensor(0.0150, device='cuda:0', grad_fn=<AddBackward0>)\n",
      "9 cost tensor(0.0125, device='cuda:0', grad_fn=<AddBackward0>)\n",
      "10 cost tensor(0.0103, device='cuda:0', grad_fn=<AddBackward0>)\n",
      "11 cost tensor(0.0097, device='cuda:0', grad_fn=<AddBackward0>)\n",
      "12 cost tensor(0.0085, device='cuda:0', grad_fn=<AddBackward0>)\n",
      "13 cost tensor(0.0075, device='cuda:0', grad_fn=<AddBackward0>)\n",
      "14 cost tensor(0.0066, device='cuda:0', grad_fn=<AddBackward0>)\n",
      "learning complete\n"
     ]
    }
   ],
   "source": [
    "total_batch=len(data_loader)\n",
    "for epoch in range(training_epochs):\n",
    "    avg_cost=0\n",
    "    for X,y in data_loader:\n",
    "        X=X.to(device)\n",
    "        y=y.to(device)\n",
    "        \n",
    "        optimizer.zero_grad()\n",
    "        hypothesis=model(X)\n",
    "        cost=criterion(hypothesis,y)\n",
    "        cost.backward()\n",
    "        optimizer.step()\n",
    "        \n",
    "        avg_cost+=cost/total_batch\n",
    "    print(epoch,\"cost\",avg_cost)\n",
    "print(\"learning complete\")\n",
    "        "
   ]
  },
  {
   "cell_type": "code",
   "execution_count": 66,
   "metadata": {
    "ExecuteTime": {
     "end_time": "2020-05-29T11:21:17.173224Z",
     "start_time": "2020-05-29T11:21:17.096207Z"
    }
   },
   "outputs": [
    {
     "name": "stdout",
     "output_type": "stream",
     "text": [
      "tensor(0.9862, device='cuda:0')\n"
     ]
    }
   ],
   "source": [
    "with torch.no_grad():\n",
    "    X_test=mnist_test.test_data.view(len(mnist_test),1,28,28).float().to(device)\n",
    "    y_test=mnist_test.test_labels.to(device)\n",
    "    pred=model(X_test)\n",
    "    correct_pred=torch.argmax(pred,1)==y_test\n",
    "    accuracy=correct_pred.float().mean()\n",
    "    print(accuracy)\n",
    "    \n",
    "    "
   ]
  },
  {
   "cell_type": "code",
   "execution_count": 62,
   "metadata": {
    "ExecuteTime": {
     "end_time": "2020-05-29T11:19:21.120361Z",
     "start_time": "2020-05-29T11:19:21.116361Z"
    }
   },
   "outputs": [
    {
     "data": {
      "text/plain": [
       "3"
      ]
     },
     "execution_count": 62,
     "metadata": {},
     "output_type": "execute_result"
    }
   ],
   "source": [
    "len(mnist_test.test_data.size())"
   ]
  },
  {
   "cell_type": "code",
   "execution_count": null,
   "metadata": {},
   "outputs": [],
   "source": []
  }
 ],
 "metadata": {
  "kernelspec": {
   "display_name": "Python 3",
   "language": "python",
   "name": "python3"
  },
  "language_info": {
   "codemirror_mode": {
    "name": "ipython",
    "version": 3
   },
   "file_extension": ".py",
   "mimetype": "text/x-python",
   "name": "python",
   "nbconvert_exporter": "python",
   "pygments_lexer": "ipython3",
   "version": "3.7.7"
  }
 },
 "nbformat": 4,
 "nbformat_minor": 4
}
