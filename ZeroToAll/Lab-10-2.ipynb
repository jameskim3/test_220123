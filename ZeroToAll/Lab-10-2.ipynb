{
 "cells": [
  {
   "cell_type": "code",
   "execution_count": 58,
   "metadata": {
    "ExecuteTime": {
     "end_time": "2020-05-28T13:08:43.384778Z",
     "start_time": "2020-05-28T13:08:43.381778Z"
    }
   },
   "outputs": [],
   "source": [
    "import torch\n",
    "import torchvision.datasets as dsets\n",
    "import torchvision.transforms as transforms\n",
    "import torch.nn.init\n",
    "import warnings\n",
    "warnings.filterwarnings('ignore')"
   ]
  },
  {
   "cell_type": "code",
   "execution_count": 37,
   "metadata": {
    "ExecuteTime": {
     "end_time": "2020-05-28T12:51:17.283236Z",
     "start_time": "2020-05-28T12:51:17.225234Z"
    }
   },
   "outputs": [],
   "source": [
    "device= 'cuda' if torch.cuda.is_available() else 'cpu'\n",
    "torch.manual_seed(777)\n",
    "if device=='cuda':\n",
    "    torch.cuda.manual_seed_all(777)"
   ]
  },
  {
   "cell_type": "code",
   "execution_count": 39,
   "metadata": {
    "ExecuteTime": {
     "end_time": "2020-05-28T12:51:42.451306Z",
     "start_time": "2020-05-28T12:51:42.449305Z"
    }
   },
   "outputs": [],
   "source": [
    "learnning_rate=0.001\n",
    "training_epochs=15\n",
    "batch_size=100"
   ]
  },
  {
   "cell_type": "code",
   "execution_count": 43,
   "metadata": {
    "ExecuteTime": {
     "end_time": "2020-05-28T12:53:33.151688Z",
     "start_time": "2020-05-28T12:53:33.117175Z"
    }
   },
   "outputs": [],
   "source": [
    "mnist_train=dsets.MNIST(root=\"MNIST_data/\",\n",
    "                       train=True,\n",
    "                       transform=transforms.ToTensor(),\n",
    "                       download=True)\n",
    "mnist_test=dsets.MNIST(root=\"MNIST_data/\",\n",
    "                      train=False,\n",
    "                      transform=transforms.ToTensor(),\n",
    "                      download=True)"
   ]
  },
  {
   "cell_type": "code",
   "execution_count": 44,
   "metadata": {
    "ExecuteTime": {
     "end_time": "2020-05-28T12:54:11.982652Z",
     "start_time": "2020-05-28T12:54:11.979651Z"
    }
   },
   "outputs": [],
   "source": [
    "data_loader=torch.utils.data.DataLoader(dataset=mnist_train,\n",
    "                                       batch_size=batch_size,\n",
    "                                       shuffle=True,\n",
    "                                       drop_last=True)"
   ]
  },
  {
   "cell_type": "code",
   "execution_count": 47,
   "metadata": {
    "ExecuteTime": {
     "end_time": "2020-05-28T12:58:34.087823Z",
     "start_time": "2020-05-28T12:58:34.080820Z"
    }
   },
   "outputs": [],
   "source": [
    "class CNN(nn.Module):\n",
    "    def __init__(self):\n",
    "        super(CNN,self).__init__()\n",
    "        self.layer1=nn.Sequential(\n",
    "        nn.Conv2d(1,32,kernel_size=3,stride=1,padding=1),\n",
    "        nn.ReLU(),\n",
    "        nn.MaxPool2d(2))\n",
    "        self.layer2=nn.Sequential(\n",
    "        nn.Conv2d(32,64,kernel_size=3,stride=1,padding=1),\n",
    "        nn.ReLU(),\n",
    "        nn.MaxPool2d(2))\n",
    "        \n",
    "        self.fc=nn.Linear(7*7*64, 10,bias=True)\n",
    "        torch.nn.init.xavier_uniform_(self.fc.weight)\n",
    "    \n",
    "    def forward(self,x):\n",
    "        out=self.layer1(x)\n",
    "        out=self.layer2(out)\n",
    "        out=out.view(out.size(0),-1)\n",
    "        \n",
    "        out=self.fc(out)\n",
    "        return out\n",
    "    "
   ]
  },
  {
   "cell_type": "code",
   "execution_count": 48,
   "metadata": {
    "ExecuteTime": {
     "end_time": "2020-05-28T12:58:36.598483Z",
     "start_time": "2020-05-28T12:58:34.669437Z"
    }
   },
   "outputs": [],
   "source": [
    "model=CNN().to(device)"
   ]
  },
  {
   "cell_type": "code",
   "execution_count": 50,
   "metadata": {
    "ExecuteTime": {
     "end_time": "2020-05-28T12:59:20.673448Z",
     "start_time": "2020-05-28T12:59:20.668447Z"
    }
   },
   "outputs": [
    {
     "data": {
      "text/plain": [
       "CNN(\n",
       "  (layer1): Sequential(\n",
       "    (0): Conv2d(1, 32, kernel_size=(3, 3), stride=(1, 1), padding=(1, 1))\n",
       "    (1): ReLU()\n",
       "    (2): MaxPool2d(kernel_size=2, stride=2, padding=0, dilation=1, ceil_mode=False)\n",
       "  )\n",
       "  (layer2): Sequential(\n",
       "    (0): Conv2d(32, 64, kernel_size=(3, 3), stride=(1, 1), padding=(1, 1))\n",
       "    (1): ReLU()\n",
       "    (2): MaxPool2d(kernel_size=2, stride=2, padding=0, dilation=1, ceil_mode=False)\n",
       "  )\n",
       "  (fc): Linear(in_features=3136, out_features=10, bias=True)\n",
       ")"
      ]
     },
     "execution_count": 50,
     "metadata": {},
     "output_type": "execute_result"
    }
   ],
   "source": [
    "model"
   ]
  },
  {
   "cell_type": "code",
   "execution_count": 51,
   "metadata": {
    "ExecuteTime": {
     "end_time": "2020-05-28T13:00:11.979922Z",
     "start_time": "2020-05-28T13:00:11.976921Z"
    }
   },
   "outputs": [],
   "source": [
    "criterion=nn.CrossEntropyLoss().to(device)\n",
    "optimizer=torch.optim.Adam(model.parameters(),lr=learnning_rate)"
   ]
  },
  {
   "cell_type": "code",
   "execution_count": 56,
   "metadata": {
    "ExecuteTime": {
     "end_time": "2020-05-28T13:06:19.489531Z",
     "start_time": "2020-05-28T13:04:22.631368Z"
    }
   },
   "outputs": [
    {
     "name": "stdout",
     "output_type": "stream",
     "text": [
      "Epoch 0 cost tensor(0.2200, device='cuda:0', grad_fn=<AddBackward0>)\n",
      "Epoch 1 cost tensor(0.0618, device='cuda:0', grad_fn=<AddBackward0>)\n",
      "Epoch 2 cost tensor(0.0459, device='cuda:0', grad_fn=<AddBackward0>)\n",
      "Epoch 3 cost tensor(0.0376, device='cuda:0', grad_fn=<AddBackward0>)\n",
      "Epoch 4 cost tensor(0.0310, device='cuda:0', grad_fn=<AddBackward0>)\n",
      "Epoch 5 cost tensor(0.0253, device='cuda:0', grad_fn=<AddBackward0>)\n",
      "Epoch 6 cost tensor(0.0217, device='cuda:0', grad_fn=<AddBackward0>)\n",
      "Epoch 7 cost tensor(0.0183, device='cuda:0', grad_fn=<AddBackward0>)\n",
      "Epoch 8 cost tensor(0.0154, device='cuda:0', grad_fn=<AddBackward0>)\n",
      "Epoch 9 cost tensor(0.0134, device='cuda:0', grad_fn=<AddBackward0>)\n",
      "Epoch 10 cost tensor(0.0107, device='cuda:0', grad_fn=<AddBackward0>)\n",
      "Epoch 11 cost tensor(0.0102, device='cuda:0', grad_fn=<AddBackward0>)\n",
      "Epoch 12 cost tensor(0.0085, device='cuda:0', grad_fn=<AddBackward0>)\n",
      "Epoch 13 cost tensor(0.0078, device='cuda:0', grad_fn=<AddBackward0>)\n",
      "Epoch 14 cost tensor(0.0053, device='cuda:0', grad_fn=<AddBackward0>)\n",
      "Learning Finished\n"
     ]
    }
   ],
   "source": [
    "\n",
    "total_batch=len(data_loader)\n",
    "\n",
    "for epoch in range(training_epochs):\n",
    "    avg_cost=0\n",
    "    for X,y in data_loader:\n",
    "        X=X.to(device)\n",
    "        y=y.to(device)\n",
    "        \n",
    "        optimizer.zero_grad()\n",
    "        hypothesis=model(X)\n",
    "        cost=criterion(hypothesis,y)\n",
    "        cost.backward()\n",
    "        optimizer.step()\n",
    "        \n",
    "        avg_cost += cost/total_batch\n",
    "        \n",
    "    print(\"Epoch\",epoch,\"cost\",avg_cost)\n",
    "print(\"Learning Finished\")"
   ]
  },
  {
   "cell_type": "code",
   "execution_count": 65,
   "metadata": {
    "ExecuteTime": {
     "end_time": "2020-05-28T13:09:40.383305Z",
     "start_time": "2020-05-28T13:09:40.306289Z"
    }
   },
   "outputs": [
    {
     "name": "stdout",
     "output_type": "stream",
     "text": [
      "Accuracy 0.9865999817848206\n"
     ]
    }
   ],
   "source": [
    "with torch.no_grad():\n",
    "    X_test=mnist_test.test_data.view(len(mnist_test),1,28,28).float().to(device)\n",
    "    y_test=mnist_test.test_labels.to(device)\n",
    "    \n",
    "    prediction=model(X_test)\n",
    "    correct_prediction=torch.argmax(prediction,1)==y_test\n",
    "    accuracy=correct_prediction.float().mean()\n",
    "    print(\"Accuracy\",accuracy.item())"
   ]
  },
  {
   "cell_type": "code",
   "execution_count": null,
   "metadata": {},
   "outputs": [],
   "source": []
  }
 ],
 "metadata": {
  "kernelspec": {
   "display_name": "Python 3",
   "language": "python",
   "name": "python3"
  },
  "language_info": {
   "codemirror_mode": {
    "name": "ipython",
    "version": 3
   },
   "file_extension": ".py",
   "mimetype": "text/x-python",
   "name": "python",
   "nbconvert_exporter": "python",
   "pygments_lexer": "ipython3",
   "version": "3.7.7"
  }
 },
 "nbformat": 4,
 "nbformat_minor": 4
}
