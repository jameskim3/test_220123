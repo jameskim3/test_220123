{
 "cells": [
  {
   "cell_type": "code",
   "execution_count": null,
   "metadata": {
    "ExecuteTime": {
     "end_time": "2020-05-29T16:18:30.447743Z",
     "start_time": "2020-05-29T16:18:30.443742Z"
    }
   },
   "outputs": [],
   "source": [
    "import torchvision\n",
    "from torchvision import transforms\n",
    "from torch.utils.data import DataLoader\n",
    "import os"
   ]
  },
  {
   "cell_type": "code",
   "execution_count": null,
   "metadata": {
    "ExecuteTime": {
     "end_time": "2020-05-29T15:59:04.860776Z",
     "start_time": "2020-05-29T15:59:04.857775Z"
    }
   },
   "outputs": [],
   "source": [
    "import matplotlib.pyplot as plt\n",
    "img_path=\"E:/kaggle_imgs/Statefarm/Data/imgs/train/\"\n",
    "img_path2=\"E:/kaggle_imgs/Statefarm/Data/imgs/train2/\""
   ]
  },
  {
   "cell_type": "code",
   "execution_count": null,
   "metadata": {
    "ExecuteTime": {
     "end_time": "2020-05-29T16:13:55.972378Z",
     "start_time": "2020-05-29T16:13:55.969377Z"
    }
   },
   "outputs": [],
   "source": [
    "trans=transforms.Compose([\n",
    "    transforms.Resize((240,240)),\n",
    "    transforms.RandomAffine(30),\n",
    "    transforms.ToTensor()\n",
    "])"
   ]
  },
  {
   "cell_type": "code",
   "execution_count": null,
   "metadata": {
    "ExecuteTime": {
     "end_time": "2020-05-29T16:13:56.421421Z",
     "start_time": "2020-05-29T16:13:56.278388Z"
    }
   },
   "outputs": [],
   "source": [
    "train_data=torchvision.datasets.ImageFolder(root=img_path,\n",
    "                                           transform=trans)"
   ]
  },
  {
   "cell_type": "code",
   "execution_count": null,
   "metadata": {
    "ExecuteTime": {
     "end_time": "2020-05-29T16:13:56.481444Z",
     "start_time": "2020-05-29T16:13:56.478443Z"
    }
   },
   "outputs": [],
   "source": [
    "train_loader=DataLoader(train_data,batch_size=10,shuffle=True)"
   ]
  },
  {
   "cell_type": "code",
   "execution_count": null,
   "metadata": {
    "ExecuteTime": {
     "end_time": "2020-05-29T16:13:56.850499Z",
     "start_time": "2020-05-29T16:13:56.682459Z"
    }
   },
   "outputs": [],
   "source": [
    "for num,(imgs,labels) in enumerate(train_loader):\n",
    "    for img,label in zip(imgs,labels):\n",
    "        img.save(os.path.join(img_path2,\"c{}\".format(label))\n",
    "    \n",
    "    \n",
    "    \n",
    "    break\n",
    "    if num>100:\n",
    "        break"
   ]
  },
  {
   "cell_type": "code",
   "execution_count": null,
   "metadata": {
    "ExecuteTime": {
     "end_time": "2020-05-29T16:13:56.938519Z",
     "start_time": "2020-05-29T16:13:56.935518Z"
    }
   },
   "outputs": [],
   "source": [
    "num"
   ]
  },
  {
   "cell_type": "code",
   "execution_count": null,
   "metadata": {
    "ExecuteTime": {
     "end_time": "2020-05-29T16:13:58.669133Z",
     "start_time": "2020-05-29T16:13:57.343834Z"
    }
   },
   "outputs": [],
   "source": [
    "for img in imgs:\n",
    "    f,ax=plt.subplots()\n",
    "    plt.imshow(img.permute(1,2,0))\n",
    "    \n",
    "    if(l)"
   ]
  },
  {
   "cell_type": "code",
   "execution_count": null,
   "metadata": {
    "ExecuteTime": {
     "end_time": "2020-05-29T16:08:07.169203Z",
     "start_time": "2020-05-29T16:08:07.165201Z"
    }
   },
   "outputs": [],
   "source": [
    "labels"
   ]
  },
  {
   "cell_type": "code",
   "execution_count": null,
   "metadata": {
    "ExecuteTime": {
     "end_time": "2020-05-29T16:19:29.048777Z",
     "start_time": "2020-05-29T16:19:29.038774Z"
    }
   },
   "outputs": [],
   "source": [
    "imgs"
   ]
  },
  {
   "cell_type": "code",
   "execution_count": null,
   "metadata": {
    "ExecuteTime": {
     "end_time": "2020-05-29T16:19:31.601830Z",
     "start_time": "2020-05-29T16:19:31.596828Z"
    }
   },
   "outputs": [],
   "source": [
    "\n",
    "labels"
   ]
  },
  {
   "cell_type": "code",
   "execution_count": null,
   "metadata": {
    "ExecuteTime": {
     "end_time": "2020-05-29T16:19:51.371401Z",
     "start_time": "2020-05-29T16:19:51.368401Z"
    }
   },
   "outputs": [],
   "source": [
    "for img,label in zip(imgs,labels):\n",
    "    break"
   ]
  },
  {
   "cell_type": "code",
   "execution_count": null,
   "metadata": {
    "ExecuteTime": {
     "end_time": "2020-05-29T16:19:53.102347Z",
     "start_time": "2020-05-29T16:19:53.098346Z"
    }
   },
   "outputs": [],
   "source": [
    "\n",
    "img"
   ]
  },
  {
   "cell_type": "code",
   "execution_count": null,
   "metadata": {
    "ExecuteTime": {
     "end_time": "2020-05-29T16:19:57.680115Z",
     "start_time": "2020-05-29T16:19:57.676123Z"
    }
   },
   "outputs": [],
   "source": [
    "label"
   ]
  },
  {
   "cell_type": "code",
   "execution_count": null,
   "metadata": {},
   "outputs": [],
   "source": []
  }
 ],
 "metadata": {
  "kernelspec": {
   "display_name": "Python 3",
   "language": "python",
   "name": "python3"
  },
  "language_info": {
   "codemirror_mode": {
    "name": "ipython",
    "version": 3
   },
   "file_extension": ".py",
   "mimetype": "text/x-python",
   "name": "python",
   "nbconvert_exporter": "python",
   "pygments_lexer": "ipython3",
   "version": "3.7.7"
  }
 },
 "nbformat": 4,
 "nbformat_minor": 4
}
