{
 "cells": [
  {
   "cell_type": "code",
   "execution_count": 6,
   "metadata": {
    "ExecuteTime": {
     "end_time": "2020-05-21T11:56:34.985189Z",
     "start_time": "2020-05-21T11:56:33.961412Z"
    }
   },
   "outputs": [],
   "source": [
    "import numpy as np\n",
    "import torch"
   ]
  },
  {
   "cell_type": "code",
   "execution_count": 4,
   "metadata": {
    "ExecuteTime": {
     "end_time": "2020-05-21T11:56:23.418664Z",
     "start_time": "2020-05-21T11:56:23.416664Z"
    }
   },
   "outputs": [],
   "source": [
    "t=np.array(np.random.random((5,5)))"
   ]
  },
  {
   "cell_type": "code",
   "execution_count": 9,
   "metadata": {
    "ExecuteTime": {
     "end_time": "2020-05-21T11:57:28.521428Z",
     "start_time": "2020-05-21T11:57:28.517427Z"
    }
   },
   "outputs": [],
   "source": [
    "t=torch.FloatTensor(np.random.randint(0,10,10))"
   ]
  },
  {
   "cell_type": "code",
   "execution_count": 13,
   "metadata": {
    "ExecuteTime": {
     "end_time": "2020-05-21T12:00:29.791373Z",
     "start_time": "2020-05-21T12:00:29.785371Z"
    }
   },
   "outputs": [
    {
     "data": {
      "text/plain": [
       "(1,\n",
       " torch.Size([10]),\n",
       " torch.Size([10]),\n",
       " tensor(7.),\n",
       " tensor(2.),\n",
       " tensor(7.),\n",
       " tensor([7., 2., 7.]))"
      ]
     },
     "execution_count": 13,
     "metadata": {},
     "output_type": "execute_result"
    }
   ],
   "source": [
    "t.dim(),t.shape,t.size(),t[0],t[1],t[2],t[0:3]"
   ]
  },
  {
   "cell_type": "code",
   "execution_count": 36,
   "metadata": {
    "ExecuteTime": {
     "end_time": "2020-05-21T12:10:58.339883Z",
     "start_time": "2020-05-21T12:10:58.335883Z"
    }
   },
   "outputs": [],
   "source": [
    "t=torch.FloatTensor(np.random.randint(0,5,(5,5)))\n",
    "s=torch.FloatTensor(np.random.randint(0,10,(5,2)))"
   ]
  },
  {
   "cell_type": "code",
   "execution_count": 37,
   "metadata": {
    "ExecuteTime": {
     "end_time": "2020-05-21T12:11:00.325186Z",
     "start_time": "2020-05-21T12:11:00.319186Z"
    }
   },
   "outputs": [
    {
     "data": {
      "text/plain": [
       "(tensor([[0., 0., 4., 0., 2.],\n",
       "         [3., 0., 4., 3., 4.],\n",
       "         [3., 2., 1., 3., 1.],\n",
       "         [2., 3., 0., 3., 0.],\n",
       "         [2., 1., 0., 1., 0.]]),\n",
       " tensor([[0., 1.],\n",
       "         [1., 6.],\n",
       "         [0., 9.],\n",
       "         [1., 2.],\n",
       "         [5., 4.]]),\n",
       " tensor([[10., 44.],\n",
       "         [23., 61.],\n",
       "         [10., 34.],\n",
       "         [ 6., 26.],\n",
       "         [ 2., 10.]]))"
      ]
     },
     "execution_count": 37,
     "metadata": {},
     "output_type": "execute_result"
    }
   ],
   "source": [
    "t,s,t.matmul(s)"
   ]
  },
  {
   "cell_type": "code",
   "execution_count": 38,
   "metadata": {
    "ExecuteTime": {
     "end_time": "2020-05-21T12:11:10.881990Z",
     "start_time": "2020-05-21T12:11:10.876001Z"
    }
   },
   "outputs": [
    {
     "data": {
      "text/plain": [
       "(tensor(29.), tensor([1., 7., 9., 3., 9.]), tensor([ 7., 22.]))"
      ]
     },
     "execution_count": 38,
     "metadata": {},
     "output_type": "execute_result"
    }
   ],
   "source": [
    "s.sum(),s.sum(axis=1),s.sum(axis=0)"
   ]
  },
  {
   "cell_type": "code",
   "execution_count": 39,
   "metadata": {
    "ExecuteTime": {
     "end_time": "2020-05-21T12:11:11.924625Z",
     "start_time": "2020-05-21T12:11:11.918633Z"
    }
   },
   "outputs": [
    {
     "data": {
      "text/plain": [
       "(tensor(2.9000),\n",
       " tensor([0.5000, 3.5000, 4.5000, 1.5000, 4.5000]),\n",
       " tensor([1.4000, 4.4000]))"
      ]
     },
     "execution_count": 39,
     "metadata": {},
     "output_type": "execute_result"
    }
   ],
   "source": [
    "s.mean(),s.mean(axis=1),s.mean(axis=0)"
   ]
  },
  {
   "cell_type": "code",
   "execution_count": 40,
   "metadata": {
    "ExecuteTime": {
     "end_time": "2020-05-21T12:11:12.772022Z",
     "start_time": "2020-05-21T12:11:12.768019Z"
    }
   },
   "outputs": [
    {
     "data": {
      "text/plain": [
       "(tensor([4, 2]), tensor([1, 1, 1, 1, 0]), tensor(5))"
      ]
     },
     "execution_count": 40,
     "metadata": {},
     "output_type": "execute_result"
    }
   ],
   "source": [
    "s.argmax(axis=0),s.argmax(axis=1),s.argmax()"
   ]
  },
  {
   "cell_type": "markdown",
   "metadata": {},
   "source": [
    "## Section 2"
   ]
  },
  {
   "cell_type": "code",
   "execution_count": 41,
   "metadata": {
    "ExecuteTime": {
     "end_time": "2020-05-21T12:11:33.158794Z",
     "start_time": "2020-05-21T12:11:33.154793Z"
    }
   },
   "outputs": [
    {
     "data": {
      "text/plain": [
       "tensor([[0., 1.],\n",
       "        [1., 6.],\n",
       "        [0., 9.],\n",
       "        [1., 2.],\n",
       "        [5., 4.]])"
      ]
     },
     "execution_count": 41,
     "metadata": {},
     "output_type": "execute_result"
    }
   ],
   "source": [
    "s"
   ]
  },
  {
   "cell_type": "code",
   "execution_count": 45,
   "metadata": {
    "ExecuteTime": {
     "end_time": "2020-05-21T12:12:41.857132Z",
     "start_time": "2020-05-21T12:12:41.852131Z"
    }
   },
   "outputs": [
    {
     "data": {
      "text/plain": [
       "tensor([[0., 1., 1., 6., 0.],\n",
       "        [9., 1., 2., 5., 4.]])"
      ]
     },
     "execution_count": 45,
     "metadata": {},
     "output_type": "execute_result"
    }
   ],
   "source": [
    "s.view(2,5)"
   ]
  },
  {
   "cell_type": "code",
   "execution_count": 46,
   "metadata": {
    "ExecuteTime": {
     "end_time": "2020-05-21T12:13:29.712594Z",
     "start_time": "2020-05-21T12:13:29.708594Z"
    }
   },
   "outputs": [],
   "source": [
    "u=torch.FloatTensor(np.random.randint(0,10,(3,3)))"
   ]
  },
  {
   "cell_type": "code",
   "execution_count": 47,
   "metadata": {
    "ExecuteTime": {
     "end_time": "2020-05-21T12:13:30.788164Z",
     "start_time": "2020-05-21T12:13:30.782163Z"
    }
   },
   "outputs": [
    {
     "data": {
      "text/plain": [
       "tensor([[5., 1., 1.],\n",
       "        [0., 8., 2.],\n",
       "        [9., 5., 2.]])"
      ]
     },
     "execution_count": 47,
     "metadata": {},
     "output_type": "execute_result"
    }
   ],
   "source": [
    "u"
   ]
  },
  {
   "cell_type": "code",
   "execution_count": 55,
   "metadata": {
    "ExecuteTime": {
     "end_time": "2020-05-21T12:16:49.454757Z",
     "start_time": "2020-05-21T12:16:49.449756Z"
    }
   },
   "outputs": [
    {
     "data": {
      "text/plain": [
       "(tensor([[5., 1., 1.],\n",
       "         [0., 8., 2.],\n",
       "         [9., 5., 2.]]),\n",
       " tensor([[5., 0., 9.],\n",
       "         [1., 8., 5.],\n",
       "         [1., 2., 2.]]),\n",
       " tensor([[5., 1., 1.],\n",
       "         [0., 8., 2.],\n",
       "         [9., 5., 2.]]))"
      ]
     },
     "execution_count": 55,
     "metadata": {},
     "output_type": "execute_result"
    }
   ],
   "source": [
    "u.view(3,3),u.T,u.squeeze(axis=1)"
   ]
  },
  {
   "cell_type": "code",
   "execution_count": 62,
   "metadata": {
    "ExecuteTime": {
     "end_time": "2020-05-21T12:19:15.589554Z",
     "start_time": "2020-05-21T12:19:15.583553Z"
    }
   },
   "outputs": [
    {
     "data": {
      "text/plain": [
       "(tensor([[[5., 1., 1.],\n",
       "          [0., 8., 2.],\n",
       "          [9., 5., 2.]]]),\n",
       " tensor([[5., 1., 1.],\n",
       "         [0., 8., 2.],\n",
       "         [9., 5., 2.]]),\n",
       " torch.Size([1, 3, 3]),\n",
       " torch.Size([3, 3]))"
      ]
     },
     "execution_count": 62,
     "metadata": {},
     "output_type": "execute_result"
    }
   ],
   "source": [
    "v=u.view(1,3,3)\n",
    "v,v.squeeze(),v.shape,v.squeeze().shape"
   ]
  },
  {
   "cell_type": "code",
   "execution_count": null,
   "metadata": {},
   "outputs": [],
   "source": [
    "v.float().int()"
   ]
  },
  {
   "cell_type": "code",
   "execution_count": 76,
   "metadata": {
    "ExecuteTime": {
     "end_time": "2020-05-21T12:23:46.061745Z",
     "start_time": "2020-05-21T12:23:46.054744Z"
    }
   },
   "outputs": [
    {
     "data": {
      "text/plain": [
       "(tensor([[5., 1., 1.],\n",
       "         [0., 8., 2.],\n",
       "         [9., 5., 2.],\n",
       "         [5., 0., 9.],\n",
       "         [1., 8., 5.],\n",
       "         [1., 2., 2.]]),\n",
       " tensor([[5., 1., 1., 5., 0., 9.],\n",
       "         [0., 8., 2., 1., 8., 5.],\n",
       "         [9., 5., 2., 1., 2., 2.]]))"
      ]
     },
     "execution_count": 76,
     "metadata": {},
     "output_type": "execute_result"
    }
   ],
   "source": [
    "torch.cat([u,u.T],axis=0),torch.cat([u,u.T],axis=1)"
   ]
  },
  {
   "cell_type": "code",
   "execution_count": 77,
   "metadata": {
    "ExecuteTime": {
     "end_time": "2020-05-21T12:24:30.068346Z",
     "start_time": "2020-05-21T12:24:30.061345Z"
    }
   },
   "outputs": [
    {
     "data": {
      "text/plain": [
       "(tensor([[[5., 1., 1.],\n",
       "          [0., 8., 2.],\n",
       "          [9., 5., 2.]],\n",
       " \n",
       "         [[5., 0., 9.],\n",
       "          [1., 8., 5.],\n",
       "          [1., 2., 2.]]]),\n",
       " tensor([[[5., 1., 1.],\n",
       "          [5., 0., 9.]],\n",
       " \n",
       "         [[0., 8., 2.],\n",
       "          [1., 8., 5.]],\n",
       " \n",
       "         [[9., 5., 2.],\n",
       "          [1., 2., 2.]]]))"
      ]
     },
     "execution_count": 77,
     "metadata": {},
     "output_type": "execute_result"
    }
   ],
   "source": [
    "torch.stack([u,u.T],axis=0),torch.stack([u,u.T],axis=1)"
   ]
  },
  {
   "cell_type": "code",
   "execution_count": 79,
   "metadata": {
    "ExecuteTime": {
     "end_time": "2020-05-21T12:26:04.111460Z",
     "start_time": "2020-05-21T12:26:04.107459Z"
    }
   },
   "outputs": [
    {
     "data": {
      "text/plain": [
       "(torch.Size([2, 3, 3]), torch.Size([3, 3, 2]))"
      ]
     },
     "execution_count": 79,
     "metadata": {},
     "output_type": "execute_result"
    }
   ],
   "source": [
    "torch.stack([u,u.T],axis=0).shape,torch.stack([u,u.T],axis=2).shape"
   ]
  },
  {
   "cell_type": "code",
   "execution_count": 81,
   "metadata": {
    "ExecuteTime": {
     "end_time": "2020-05-21T12:27:18.775107Z",
     "start_time": "2020-05-21T12:27:18.769106Z"
    }
   },
   "outputs": [
    {
     "data": {
      "text/plain": [
       "(tensor([[1., 1., 1.],\n",
       "         [1., 1., 1.],\n",
       "         [1., 1., 1.]]),\n",
       " tensor([[0., 0., 0.],\n",
       "         [0., 0., 0.],\n",
       "         [0., 0., 0.]]))"
      ]
     },
     "execution_count": 81,
     "metadata": {},
     "output_type": "execute_result"
    }
   ],
   "source": [
    "torch.ones_like(u),torch.zeros_like(u),"
   ]
  },
  {
   "cell_type": "code",
   "execution_count": 98,
   "metadata": {
    "ExecuteTime": {
     "end_time": "2020-05-21T12:32:29.977649Z",
     "start_time": "2020-05-21T12:32:29.972647Z"
    }
   },
   "outputs": [
    {
     "data": {
      "text/plain": [
       "tensor([[1, 0, 0, 0, 0],\n",
       "        [0, 1, 0, 0, 0],\n",
       "        [0, 0, 1, 0, 0],\n",
       "        [0, 0, 0, 1, 0],\n",
       "        [0, 0, 0, 0, 1]], dtype=torch.uint8)"
      ]
     },
     "execution_count": 98,
     "metadata": {},
     "output_type": "execute_result"
    }
   ],
   "source": [
    "torch.tensor(np.eye(5)).byte()"
   ]
  },
  {
   "cell_type": "code",
   "execution_count": 106,
   "metadata": {
    "ExecuteTime": {
     "end_time": "2020-05-21T12:33:19.245440Z",
     "start_time": "2020-05-21T12:33:19.240439Z"
    }
   },
   "outputs": [
    {
     "data": {
      "text/plain": [
       "tensor([[False,  True,  True],\n",
       "        [False, False, False],\n",
       "        [False, False, False]])"
      ]
     },
     "execution_count": 106,
     "metadata": {},
     "output_type": "execute_result"
    }
   ],
   "source": [
    "(u==1).bool()"
   ]
  },
  {
   "cell_type": "code",
   "execution_count": null,
   "metadata": {},
   "outputs": [],
   "source": []
  }
 ],
 "metadata": {
  "kernelspec": {
   "display_name": "Python 3",
   "language": "python",
   "name": "python3"
  },
  "language_info": {
   "codemirror_mode": {
    "name": "ipython",
    "version": 3
   },
   "file_extension": ".py",
   "mimetype": "text/x-python",
   "name": "python",
   "nbconvert_exporter": "python",
   "pygments_lexer": "ipython3",
   "version": "3.7.7"
  }
 },
 "nbformat": 4,
 "nbformat_minor": 4
}
