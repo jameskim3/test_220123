{
 "cells": [
  {
   "cell_type": "code",
   "execution_count": 1,
   "metadata": {
    "ExecuteTime": {
     "end_time": "2020-05-27T12:31:03.728430Z",
     "start_time": "2020-05-27T12:31:03.314902Z"
    }
   },
   "outputs": [],
   "source": [
    "import numpy as np\n",
    "import time"
   ]
  },
  {
   "cell_type": "code",
   "execution_count": 18,
   "metadata": {
    "ExecuteTime": {
     "end_time": "2020-05-27T12:24:22.255922Z",
     "start_time": "2020-05-27T12:21:32.726518Z"
    }
   },
   "outputs": [
    {
     "name": "stdout",
     "output_type": "stream",
     "text": [
      "0 17.695101261138916\n",
      "1 17.249890327453613\n",
      "2 18.05111813545227\n",
      "3 16.048619508743286\n",
      "4 18.312129497528076\n",
      "5 16.24566388130188\n",
      "6 16.336683750152588\n",
      "7 16.949823141098022\n",
      "8 16.608744859695435\n",
      "9 16.021613836288452\n"
     ]
    }
   ],
   "source": [
    "for i in range(10):\n",
    "    start=time.time()\n",
    "    a=np.random.random((10000,10000))\n",
    "    b=np.random.random((10000,10001))\n",
    "    c=np.matmul(a,b)\n",
    "    print(i,time.time()-start)"
   ]
  },
  {
   "cell_type": "code",
   "execution_count": 2,
   "metadata": {
    "ExecuteTime": {
     "end_time": "2020-05-27T12:33:58.429159Z",
     "start_time": "2020-05-27T12:31:09.192724Z"
    }
   },
   "outputs": [
    {
     "name": "stdout",
     "output_type": "stream",
     "text": [
      "0 17.112593173980713\n",
      "1 16.552714824676514\n",
      "2 18.18897819519043\n",
      "3 17.220673084259033\n",
      "4 16.762996196746826\n",
      "5 16.78179121017456\n",
      "6 16.372938632965088\n",
      "7 17.05858325958252\n",
      "8 16.939958333969116\n",
      "9 16.231401920318604\n"
     ]
    }
   ],
   "source": [
    "for i in range(10):\n",
    "    start=time.time()\n",
    "    a=np.random.random((10000,10000))\n",
    "    b=np.random.random((10000,10001))\n",
    "    c=np.matmul(a,b)\n",
    "    print(i,time.time()-start)"
   ]
  },
  {
   "cell_type": "code",
   "execution_count": null,
   "metadata": {},
   "outputs": [],
   "source": []
  }
 ],
 "metadata": {
  "kernelspec": {
   "display_name": "Python 3",
   "language": "python",
   "name": "python3"
  },
  "language_info": {
   "codemirror_mode": {
    "name": "ipython",
    "version": 3
   },
   "file_extension": ".py",
   "mimetype": "text/x-python",
   "name": "python",
   "nbconvert_exporter": "python",
   "pygments_lexer": "ipython3",
   "version": "3.7.7"
  }
 },
 "nbformat": 4,
 "nbformat_minor": 4
}
