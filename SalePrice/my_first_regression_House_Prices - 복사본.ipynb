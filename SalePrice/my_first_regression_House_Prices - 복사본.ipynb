{
 "cells": [
  {
   "cell_type": "code",
   "execution_count": null,
   "metadata": {},
   "outputs": [],
   "source": [
    "import numpy as np\n",
    "import pandas as pd\n",
    "%matplotlib inline\n",
    "import matplotlib.pyplot as plt\n",
    "import seaborn as sns\n",
    "from sklearn.preprocessing import StandardScaler\n",
    "from scipy.stats import norm\n",
    "from scipy import stats\n",
    "\n"
   ]
  },
  {
   "cell_type": "code",
   "execution_count": null,
   "metadata": {},
   "outputs": [],
   "source": [
    "train=pd.read_csv('train.csv')\n",
    "test=pd.read_csv('test.csv')"
   ]
  },
  {
   "cell_type": "code",
   "execution_count": null,
   "metadata": {},
   "outputs": [],
   "source": [
    "#SalePrice 분석\n",
    "train[\"SalePrice\"].describe()"
   ]
  },
  {
   "cell_type": "code",
   "execution_count": null,
   "metadata": {},
   "outputs": [],
   "source": [
    "#SalePrice분석\n",
    "sns.distplot(train[\"SalePrice\"])"
   ]
  },
  {
   "cell_type": "code",
   "execution_count": null,
   "metadata": {},
   "outputs": [],
   "source": [
    "#SalePrice Analysis\n",
    "print(\"Skewness:{:.3f}\".format(train[\"SalePrice\"].skew()))\n",
    "print(\"Kurtosis:{:.3f}\".format(train[\"SalePrice\"].kurt()))"
   ]
  },
  {
   "cell_type": "code",
   "execution_count": null,
   "metadata": {},
   "outputs": [],
   "source": [
    "#Relationship with numerical variables\n",
    "f,ax=plt.subplots(1,2,figsize=(15,6))\n",
    "src=\"GrLivArea\"\n",
    "tar=\"SalePrice\"\n",
    "data=pd.concat([train[src],train[tar]],axis=1)\n",
    "data.plot.scatter(x=src,y=tar,ax=ax[0])\n",
    "ax[0].set_title(src,fontsize=30)\n",
    "src=\"TotalBsmtSF\"\n",
    "data=pd.concat([train[src],train[tar]],axis=1)\n",
    "data.plot.scatter(x=src,y=tar,ax=ax[1])\n",
    "ax[1].set_title(src,fontsize=30)"
   ]
  },
  {
   "cell_type": "code",
   "execution_count": null,
   "metadata": {},
   "outputs": [],
   "source": [
    "f,ax=plt.subplots(1,3,figsize=(28,6))\n",
    "src=\"GrLivArea\"\n",
    "tar=\"SalePrice\"\n",
    "sns.scatterplot(train[src],train[tar],ax=ax[0])\n",
    "ax[0].set_title(src,fontsize=30)\n",
    "\n",
    "src=\"TotalBsmtSF\"\n",
    "tar=\"SalePrice\"\n",
    "sns.scatterplot(train[src],train[tar],hue=train[\"MSZoning\"],ax=ax[1])\n",
    "ax[1].set_title(src,fontsize=30)\n",
    "\n",
    "src=\"OverallQual\"##\"TotalBsmtSF\"\n",
    "tar=\"SalePrice\"\n",
    "sns.boxplot(train[src],train[tar],ax=ax[2])\n",
    "ax[2].set_title(src,fontsize=30)\n",
    "\n",
    "# src=\"YearBuilt\"##\"TotalBsmtSF\"\n",
    "# tar=\"SalePrice\"\n",
    "# sns.boxplot(train[src],train[tar],ax=ax[3])\n",
    "# ax[3].set_title(src,fontsize=30)"
   ]
  },
  {
   "cell_type": "code",
   "execution_count": null,
   "metadata": {},
   "outputs": [],
   "source": [
    "f,ax=plt.subplots(1,1,figsize=(20,8))\n",
    "src=\"YearBuilt\"\n",
    "tar=\"SalePrice\"\n",
    "ax.set_title(tar,fontsize=20)\n",
    "sns.boxplot(train[src],train[tar])"
   ]
  },
  {
   "cell_type": "code",
   "execution_count": null,
   "metadata": {
    "scrolled": true
   },
   "outputs": [],
   "source": [
    "## Correlation matrix\n",
    "colormap=plt.cm.BuGn\n",
    "corrmat=train.corr()\n",
    "f,ax=plt.subplots(figsize=(12,9))\n",
    "sns.heatmap(corrmat,cmap=colormap)\n"
   ]
  },
  {
   "cell_type": "code",
   "execution_count": null,
   "metadata": {},
   "outputs": [],
   "source": [
    "k=10\n",
    "colormap=plt.cm.BuGn\n",
    "cols=corrmat.nlargest(k,\"SalePrice\")[\"SalePrice\"].index\n",
    "cm=np.corrcoef(train[cols].T.values)\n",
    "sns.set(font_scale=1.25)\n",
    "hm=sns.heatmap(cm,annot=True,annot_kws={\"size\":10},cmap=colormap,yticklabels=cols.values,xticklabels=cols.values)"
   ]
  },
  {
   "cell_type": "code",
   "execution_count": null,
   "metadata": {
    "scrolled": true
   },
   "outputs": [],
   "source": [
    "#SalePrice correlation matrix\n",
    "k=10\n",
    "colormap=plt.cm.BuGn\n",
    "cols=corrmat.nlargest(k,\"SalePrice\")[\"SalePrice\"].index\n",
    "cm=np.corrcoef(train[cols].values.T)\n",
    "sns.set(font_scale=1.25)\n",
    "hm=sns.heatmap(cm,cbar=True, annot=True,square=True,fmt=\".2f\",annot_kws={\"size\":10},yticklabels=cols.values,xticklabels=cols.values,cmap=colormap)\n",
    "plt.show()"
   ]
  },
  {
   "cell_type": "code",
   "execution_count": null,
   "metadata": {},
   "outputs": [],
   "source": [
    "sns.set()\n",
    "cols2=[\"SalePrice\",\"OverallQual\",\"GrLivArea\",\"GarageCars\",\"TotalBsmtSF\",\"FullBath\",\"YearBuilt\"]\n",
    "sns.pairplot(train[cols2],size=2.5)\n",
    "plt.show()\n"
   ]
  },
  {
   "cell_type": "code",
   "execution_count": null,
   "metadata": {},
   "outputs": [],
   "source": [
    "total=train.isnull().sum().sort_values(ascending=False)\n",
    "percent=train.isnull().mean().sort_values(ascending=False)\n",
    "missing_data=pd.concat([total,percent],axis=1,keys=[\"Total\",\"Percent\"])\n",
    "print(missing_data.head(20))\n",
    "print(missing_data.shape)"
   ]
  },
  {
   "cell_type": "code",
   "execution_count": null,
   "metadata": {},
   "outputs": [],
   "source": [
    "train=train.drop((missing_data[missing_data[\"Total\"]>0].index),axis=1)\n"
   ]
  },
  {
   "cell_type": "code",
   "execution_count": null,
   "metadata": {},
   "outputs": [],
   "source": [
    "#standarizing data\n",
    "saleprice_scaled=StandardScaler().fit_transform(train[\"SalePrice\"][:,np.newaxis])\n",
    "#print(type(saleprice_scaled),saleprice_scaled.shape,train.shape)\n",
    "low_range=saleprice_scaled[saleprice_scaled[:,0].argsort()][:10]\n",
    "high_range=saleprice_scaled[saleprice_scaled[:,0].argsort()][-10:]\n",
    "print(\"outer range (low) of the distribution:\")\n",
    "print(low_range,low_range.shape)\n",
    "print(\"\\nouter range (high) of the distribution:\")\n",
    "print(high_range,high_range.shape)"
   ]
  },
  {
   "cell_type": "code",
   "execution_count": null,
   "metadata": {},
   "outputs": [],
   "source": [
    "f,ax=plt.subplots(1,2,figsize=(15,8))\n",
    "sns.distplot(saleprice_scaled,ax=ax[0])\n",
    "ax[0].set_title(tar,fontsize=30)\n",
    "\n",
    "src=\"GrLivArea\"\n",
    "tar=\"SalePrice\"\n",
    "sns.scatterplot(train[src],train[tar],ax=ax[1])\n",
    "ax[1].set_title(src,fontsize=30)\n"
   ]
  },
  {
   "cell_type": "code",
   "execution_count": null,
   "metadata": {},
   "outputs": [],
   "source": [
    "src=\"GrLivArea\"\n",
    "tar=\"SalePrice\"\n",
    "print(train.shape)\n",
    "train.sort_values(by=src, ascending=False)[:2]\n",
    "train=train.drop(train[train[\"Id\"]==1299].index)\n",
    "train=train.drop(train[train[\"Id\"]==524].index)\n",
    "print(train.shape)"
   ]
  },
  {
   "cell_type": "code",
   "execution_count": null,
   "metadata": {},
   "outputs": [],
   "source": [
    "src=\"TotalBsmtSF\"\n",
    "tar=\"SalePrice\"\n",
    "f,ax=plt.subplots(1,2,figsize=(12,6))\n",
    "sns.scatterplot(train[src],train[tar],ax=ax[0])\n",
    "train[[src,tar]].plot.scatter(x=src,y=tar,ax=ax[1])\n"
   ]
  },
  {
   "cell_type": "code",
   "execution_count": null,
   "metadata": {},
   "outputs": [],
   "source": [
    "f,ax=plt.subplots(1,2,figsize=(14,6))\n",
    "tar=\"SalePrice\"\n",
    "sns.distplot(train[tar],ax=ax[0],fit=norm)\n",
    "stats.probplot(train[tar],plot=ax[1])"
   ]
  },
  {
   "cell_type": "code",
   "execution_count": null,
   "metadata": {},
   "outputs": [],
   "source": [
    "tar=\"SalePrice\"\n",
    "train[tar]=np.log(train[tar])"
   ]
  },
  {
   "cell_type": "code",
   "execution_count": null,
   "metadata": {},
   "outputs": [],
   "source": [
    "f,ax=plt.subplots(1,2,figsize=(14,6))\n",
    "tar=\"SalePrice\"\n",
    "sns.distplot(train[tar],ax=ax[0],fit=norm)\n",
    "stats.probplot(train[tar],plot=ax[1])\n"
   ]
  },
  {
   "cell_type": "code",
   "execution_count": null,
   "metadata": {},
   "outputs": [],
   "source": [
    "src=\"GrLivArea\"\n",
    "tar=\"SalePrice\"\n",
    "f,ax=plt.subplots(1,2,figsize=(14,6))\n",
    "sns.distplot(train[src],fit=norm,ax=ax[0])\n",
    "stats.probplot(train[src],plot=ax[1])"
   ]
  },
  {
   "cell_type": "code",
   "execution_count": null,
   "metadata": {},
   "outputs": [],
   "source": [
    "src=\"GrLivArea\"\n",
    "train[src]=np.log(train[src])"
   ]
  },
  {
   "cell_type": "code",
   "execution_count": null,
   "metadata": {
    "scrolled": true
   },
   "outputs": [],
   "source": [
    "src=\"GrLivArea\"\n",
    "tar=\"SalePrice\"\n",
    "f,ax=plt.subplots(1,2,figsize=(14,6))\n",
    "sns.distplot(train[src],fit=norm,ax=ax[0])\n",
    "stats.probplot(train[src],plot=ax[1])"
   ]
  },
  {
   "cell_type": "code",
   "execution_count": null,
   "metadata": {},
   "outputs": [],
   "source": [
    "src=\"TotalBsmtSF\"\n",
    "tar=\"SalePrice\"\n",
    "f,ax=plt.subplots(1,2,figsize=(14,6))\n",
    "sns.distplot(train[src],fit=norm,ax=ax[0])\n",
    "stats.probplot(train[src],plot=ax[1])"
   ]
  },
  {
   "cell_type": "code",
   "execution_count": null,
   "metadata": {},
   "outputs": [],
   "source": [
    "newsrc=\"HasBsmt\"\n",
    "src=\"TotalBsmtSF\"\n",
    "train[newsrc]=pd.Series(len(train[src]),index=train.index)\n",
    "train[newsrc]=0\n",
    "train.loc[train[src]>0,newsrc]=1"
   ]
  },
  {
   "cell_type": "code",
   "execution_count": null,
   "metadata": {
    "scrolled": true
   },
   "outputs": [],
   "source": [
    "train.loc[train[newsrc]==1,src]=np.log(train[src])"
   ]
  },
  {
   "cell_type": "code",
   "execution_count": null,
   "metadata": {},
   "outputs": [],
   "source": [
    "src=\"TotalBsmtSF\"\n",
    "tar=\"SalePrice\"\n",
    "f,ax=plt.subplots(1,2,figsize=(14,6))\n",
    "sns.distplot(train[train[src]>0][src],fit=norm,ax=ax[0])\n",
    "stats.probplot(train[train[src]>0][src],plot=ax[1])"
   ]
  },
  {
   "cell_type": "code",
   "execution_count": null,
   "metadata": {},
   "outputs": [],
   "source": []
  }
 ],
 "metadata": {
  "kernelspec": {
   "display_name": "Python 3",
   "language": "python",
   "name": "python3"
  },
  "language_info": {
   "codemirror_mode": {
    "name": "ipython",
    "version": 3
   },
   "file_extension": ".py",
   "mimetype": "text/x-python",
   "name": "python",
   "nbconvert_exporter": "python",
   "pygments_lexer": "ipython3",
   "version": "3.7.7"
  }
 },
 "nbformat": 4,
 "nbformat_minor": 2
}
