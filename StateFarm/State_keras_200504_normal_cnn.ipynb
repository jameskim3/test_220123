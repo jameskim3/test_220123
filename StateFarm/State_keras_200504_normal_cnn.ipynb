{
 "cells": [
  {
   "cell_type": "markdown",
   "metadata": {},
   "source": [
    "## Library import"
   ]
  },
  {
   "cell_type": "code",
   "execution_count": 1,
   "metadata": {},
   "outputs": [],
   "source": [
    "make_folder=0"
   ]
  },
  {
   "cell_type": "code",
   "execution_count": 2,
   "metadata": {},
   "outputs": [
    {
     "name": "stderr",
     "output_type": "stream",
     "text": [
      "Using TensorFlow backend.\n"
     ]
    }
   ],
   "source": [
    "import keras\n",
    "from keras.models import Model, Sequential\n",
    "from keras.layers import Input, Conv2D, MaxPooling2D\n",
    "from keras.layers.core import Dense, Dropout,Flatten,Activation\n",
    "from keras.optimizers import SGD\n",
    "from keras.callbacks import EarlyStopping,ModelCheckpoint,Callback\n",
    "from keras.preprocessing.image import ImageDataGenerator"
   ]
  },
  {
   "cell_type": "code",
   "execution_count": 3,
   "metadata": {},
   "outputs": [],
   "source": [
    "#file io\n",
    "import shutil\n",
    "import subprocess\n",
    "import os\n",
    "from glob import glob\n",
    "from datetime import datetime\n",
    "import argparse"
   ]
  },
  {
   "cell_type": "code",
   "execution_count": 4,
   "metadata": {},
   "outputs": [],
   "source": [
    "#data processing\n",
    "import pandas as pd\n",
    "import numpy as np\n",
    "from sklearn.model_selection import KFold"
   ]
  },
  {
   "cell_type": "code",
   "execution_count": 5,
   "metadata": {},
   "outputs": [],
   "source": [
    "#image processing\n",
    "import cv2\n",
    "from scipy.ndimage import rotate\n",
    "import scipy.misc"
   ]
  },
  {
   "cell_type": "markdown",
   "metadata": {},
   "source": [
    "## Argument"
   ]
  },
  {
   "cell_type": "code",
   "execution_count": 6,
   "metadata": {},
   "outputs": [],
   "source": [
    "#arguement parser\n",
    "parser=argparse.ArgumentParser()\n",
    "parser.add_argument(\"-f\")\n",
    "parser.add_argument('--model', required=False, default='vgg16', help='Model Architecture')\n",
    "parser.add_argument('--weights', required=False, default=None)\n",
    "parser.add_argument('--learning-rate', required=False, type=float, default=1e-2)\n",
    "parser.add_argument('--semi-train', required=False, default=None)\n",
    "parser.add_argument('--batch-size', required=False, type=int, default=8)\n",
    "parser.add_argument('--random-split', required=False, type=int, default=0)\n",
    "parser.add_argument('--data-augment', required=False, type=int, default=0)\n",
    "args = parser.parse_args()"
   ]
  },
  {
   "cell_type": "markdown",
   "metadata": {},
   "source": [
    "## Data load"
   ]
  },
  {
   "cell_type": "code",
   "execution_count": 7,
   "metadata": {},
   "outputs": [],
   "source": [
    "drivers=pd.read_csv(\"Data/driver_imgs_list.csv\")\n",
    "img_to_driver={}\n",
    "uniq_drivers=[]\n",
    "uniq_drivers=drivers.subject.unique()\n",
    "for i, row in drivers.iterrows():\n",
    "    label_n_driver = {}\n",
    "    label_n_driver['label'] = row['classname']\n",
    "    label_n_driver['driver'] = row['subject']\n",
    "    img_to_driver[row['img']] = label_n_driver\n",
    "# {'img_44733.jpg': {'label': 'c0', 'driver': 'p002'},\n",
    "#  'img_72999.jpg': {'label': 'c0', 'driver': 'p002'},\n",
    "#  'img_25094.jpg': {'label': 'c0', 'driver': 'p002'},"
   ]
  },
  {
   "cell_type": "markdown",
   "metadata": {},
   "source": [
    "## config"
   ]
  },
  {
   "cell_type": "code",
   "execution_count": 8,
   "metadata": {},
   "outputs": [],
   "source": [
    "#config\n",
    "fc_size=2048\n",
    "n_class=10\n",
    "seed=10\n",
    "nfolds=5\n",
    "test_nfolds=3\n",
    "img_row_size,img_col_size=224,224\n",
    "train_path = 'Data/imgs/train'\n",
    "test_path = 'Data/imgs/test'\n",
    "labels = ['c0', 'c1', 'c2', 'c3', 'c4', 'c5', 'c6', 'c7', 'c8', 'c9']"
   ]
  },
  {
   "cell_type": "code",
   "execution_count": 9,
   "metadata": {},
   "outputs": [
    {
     "name": "stdout",
     "output_type": "stream",
     "text": [
      "load old data\n"
     ]
    }
   ],
   "source": [
    "suffix = 'd{}.m{}.w{}.lr{}.s{}.nf{}.semi{}.b{}.row{}col{}.rsplit{}.augment{}'.format( \n",
    "    datetime.now().strftime(\"%m%d_%H%M\"),args.model, args.weights, args.learning_rate, \n",
    "    seed, nfolds, args.semi_train, args.batch_size, img_row_size, img_col_size, \n",
    "    args.random_split, args.data_augment)\n",
    "if make_folder:\n",
    "    temp_train_fold = 'e:/kaggle_imgs/StateFarm/train_{}'.format(suffix)\n",
    "    temp_valid_fold = 'e:/kaggle_imgs/StateFarm/valid_{}'.format(suffix)\n",
    "    temp_test = 'e:/kaggle_imgs/StateFarm/test'\n",
    "    cache = 'e:/kaggle_imgs/cache/{}'.format(suffix)\n",
    "    subm = 'e:/kaggle_imgs/subm/{}'.format(suffix)\n",
    "else:\n",
    "    temp_train_fold = 'e:/kaggle_imgs/StateFarm/train_d0503_1739.mvgg16.wNone.lr0.0001.s10.nf5.semiNone.b8.row224col224.rsplit0.augment0'\n",
    "    temp_valid_fold = 'e:/kaggle_imgs/StateFarm/valid_d0503_1739.mvgg16.wNone.lr0.0001.s10.nf5.semiNone.b8.row224col224.rsplit0.augment0'\n",
    "    temp_test = 'e:/kaggle_imgs/StateFarm/test'\n",
    "    cache = 'e:/kaggle_imgs/cache/d0503_1418.mvgg16.wNone.lr0.0001.s10.nf5.semiNone.b8.row224col224.rsplit0.augment0'\n",
    "    subm = 'e:/kaggle_imgs/subm/d0503_1418.mvgg16.wNone.lr0.0001.s10.nf5.semiNone.b8.row224col224.rsplit0.augment0'\n",
    "    print(\"load old data\")"
   ]
  },
  {
   "cell_type": "markdown",
   "metadata": {},
   "source": [
    "## model - vgg16"
   ]
  },
  {
   "cell_type": "code",
   "execution_count": 10,
   "metadata": {},
   "outputs": [],
   "source": [
    "# def get_model():\n",
    "#     base_model=keras.applications.vgg16.VGG16(include_top=False,\n",
    "#                                               weights=args.weights,\n",
    "#                                               input_shape=(img_row_size,img_col_size,3))\n",
    "    \n",
    "#     out = Flatten()(base_model.output)\n",
    "#     out=Dense(fc_size,activation=\"relu\")(out)\n",
    "#     out=Dropout(0.5)(out)\n",
    "#     out=Dense(fc_size,activation=\"relu\")(out)\n",
    "#     out=Dropout(0.5)(out)\n",
    "#     output=Dense(n_class,activation=\"softmax\")(out)\n",
    "#     model=Model(inputs=base_model.input,outputs=output)\n",
    "    \n",
    "#     sgd=SGD(lr=args.learning_rate,decay=1e-6,momentum=0.9,nesterov=True)\n",
    "#     model.compile(optimizer=sgd,loss=\"categorical_crossentropy\",metrics=[\"accuracy\"])\n",
    "    \n",
    "#     return model"
   ]
  },
  {
   "cell_type": "markdown",
   "metadata": {},
   "source": [
    "## model - cnn"
   ]
  },
  {
   "cell_type": "code",
   "execution_count": 11,
   "metadata": {},
   "outputs": [
    {
     "name": "stdout",
     "output_type": "stream",
     "text": [
      "Model: \"model_1\"\n",
      "_________________________________________________________________\n",
      "Layer (type)                 Output Shape              Param #   \n",
      "=================================================================\n",
      "input_1 (InputLayer)         (None, 224, 224, 3)       0         \n",
      "_________________________________________________________________\n",
      "conv2d_1 (Conv2D)            (None, 222, 222, 32)      896       \n",
      "_________________________________________________________________\n",
      "conv2d_2 (Conv2D)            (None, 220, 220, 32)      9248      \n",
      "_________________________________________________________________\n",
      "conv2d_3 (Conv2D)            (None, 218, 218, 32)      9248      \n",
      "_________________________________________________________________\n",
      "max_pooling2d_1 (MaxPooling2 (None, 109, 109, 32)      0         \n",
      "_________________________________________________________________\n",
      "conv2d_4 (Conv2D)            (None, 107, 107, 64)      18496     \n",
      "_________________________________________________________________\n",
      "conv2d_5 (Conv2D)            (None, 105, 105, 64)      36928     \n",
      "_________________________________________________________________\n",
      "conv2d_6 (Conv2D)            (None, 103, 103, 64)      36928     \n",
      "_________________________________________________________________\n",
      "max_pooling2d_2 (MaxPooling2 (None, 25, 25, 64)        0         \n",
      "_________________________________________________________________\n",
      "conv2d_7 (Conv2D)            (None, 23, 23, 128)       73856     \n",
      "_________________________________________________________________\n",
      "conv2d_8 (Conv2D)            (None, 21, 21, 128)       147584    \n",
      "_________________________________________________________________\n",
      "conv2d_9 (Conv2D)            (None, 19, 19, 128)       147584    \n",
      "_________________________________________________________________\n",
      "max_pooling2d_3 (MaxPooling2 (None, 2, 2, 128)         0         \n",
      "_________________________________________________________________\n",
      "flatten_1 (Flatten)          (None, 512)               0         \n",
      "_________________________________________________________________\n",
      "dense_1 (Dense)              (None, 64)                32832     \n",
      "_________________________________________________________________\n",
      "dense_2 (Dense)              (None, 10)                650       \n",
      "=================================================================\n",
      "Total params: 514,250\n",
      "Trainable params: 514,250\n",
      "Non-trainable params: 0\n",
      "_________________________________________________________________\n"
     ]
    }
   ],
   "source": [
    "def get_model():\n",
    "    input_layer = Input((img_row_size, img_col_size, 3))\n",
    "    x = Conv2D(32, (3, 3))(input_layer)\n",
    "    x = Conv2D(32, (3, 3))(x)\n",
    "    x = Conv2D(32, (3, 3))(x)\n",
    "    x = MaxPooling2D(pool_size=2)(x)\n",
    "    x = Conv2D(64, (3, 3))(x)\n",
    "    x = Conv2D(64, (3, 3))(x)\n",
    "    x = Conv2D(64, (3, 3))(x)\n",
    "    x = MaxPooling2D(pool_size=4)(x)\n",
    "    x = Conv2D(128, (3, 3))(x)\n",
    "    x = Conv2D(128, (3, 3))(x)\n",
    "    x = Conv2D(128, (3, 3))(x)\n",
    "    x = MaxPooling2D(pool_size=8)(x)\n",
    "    x = Flatten()(x)\n",
    "    x = Dense(64, activation='relu')(x)\n",
    "    predictions = Dense(10, activation='softmax')(x)\n",
    "    model = Model(inputs = input_layer, outputs = predictions)\n",
    "    return model\n",
    "model = get_model()\n",
    "model.summary()\n",
    "model.compile(loss='categorical_crossentropy', optimizer='rmsprop', metrics=['accuracy'])"
   ]
  },
  {
   "cell_type": "code",
   "execution_count": 12,
   "metadata": {},
   "outputs": [],
   "source": [
    "def _clear_dir(path):\n",
    "    if os.path.exists(path):\n",
    "        shutil.rmtree(path)\n",
    "    os.mkdir(path)"
   ]
  },
  {
   "cell_type": "code",
   "execution_count": 13,
   "metadata": {},
   "outputs": [],
   "source": [
    "def generate_driver_based_split(img_to_driver, train_drivers):\n",
    "    # 이미지 생성기를 위하여 임시 훈련/검증 폴더를 생성한다\n",
    "    def _generate_temp_folder(root_path):\n",
    "        _clear_dir(root_path)\n",
    "        for i in range(n_class):\n",
    "            os.mkdir('{}/c{}'.format(root_path, i))\n",
    "    _generate_temp_folder(temp_train_fold)\n",
    "    _generate_temp_folder(temp_valid_fold)\n",
    "\n",
    "    # 임시 훈련/검증 폴더에 데이터를 랜덤하게 복사한다\n",
    "    train_samples = 0\n",
    "    valid_samples = 0\n",
    "\n",
    "    for label in labels:\n",
    "        files = glob('{}/{}/*jpg'.format(train_path, label))\n",
    "        for fl in files:  \n",
    "            tar=\"\"\n",
    "            if np.random.randint(nfolds) != 1:\n",
    "                # 데이터의 4/5를 훈련 데이터에 추가한다\n",
    "                tar=\"{}/{}/{}\".format(temp_train_fold, label, os.path.basename(fl))\n",
    "                train_samples += 1\n",
    "            else:\n",
    "                # 데이터의 1/5를 검증 데이터에 추가한다\n",
    "                tar=\"{}/{}/{}\".format(temp_valid_fold, label, os.path.basename(fl))\n",
    "                valid_samples += 1\n",
    "            # 원본 훈련 데이터를 임시 훈련/검증 데이터에 복사한다\n",
    "            shutil.copy(fl,tar)\n",
    "\n",
    "    # 훈련/검증 데이터 개수를 출력한다\n",
    "    print('# {} train samples | {} valid samples'.format(train_samples, valid_samples))\n",
    "    return train_samples, valid_samples"
   ]
  },
  {
   "cell_type": "markdown",
   "metadata": {},
   "source": [
    "### test_generator"
   ]
  },
  {
   "cell_type": "code",
   "execution_count": 14,
   "metadata": {},
   "outputs": [
    {
     "name": "stdout",
     "output_type": "stream",
     "text": [
      "Found 30216 images belonging to 1 classes.\n"
     ]
    }
   ],
   "source": [
    "datagen=ImageDataGenerator()\n",
    "test_generator=datagen.flow_from_directory(temp_test,\n",
    "                                           target_size=(img_row_size,img_col_size),\n",
    "                                           batch_size=1,\n",
    "                                           class_mode=None,\n",
    "                                           shuffle=False)\n",
    "test_id=[os.path.basename(fl) for fl in glob(\"{}/*.jpg\".format(test_path))]"
   ]
  },
  {
   "cell_type": "code",
   "execution_count": 15,
   "metadata": {},
   "outputs": [
    {
     "name": "stdout",
     "output_type": "stream",
     "text": [
      "17921 4503\n"
     ]
    }
   ],
   "source": [
    "if make_folder:\n",
    "    kf=KFold(n_splits=nfolds,shuffle=True, random_state=20)\n",
    "    for i,(trn,val) in enumerate(kf.split(uniq_drivers)):\n",
    "        print(\"trn\",trn)\n",
    "        print(\"val\",val)\n",
    "        trn_drivers=[uniq_drivers[j] for j in trn]\n",
    "        trn_samples,val_samples=generate_driver_based_split(img_to_driver,trn_drivers)\n",
    "        break\n",
    "else:\n",
    "    trn_samples=17921\n",
    "    val_samples=4503\n",
    "    print(trn_samples,val_samples)"
   ]
  },
  {
   "cell_type": "code",
   "execution_count": 16,
   "metadata": {},
   "outputs": [
    {
     "name": "stdout",
     "output_type": "stream",
     "text": [
      "Found 17921 images belonging to 10 classes.\n",
      "Found 4503 images belonging to 10 classes.\n"
     ]
    }
   ],
   "source": [
    "train_generator=datagen.flow_from_directory(temp_train_fold,\n",
    "                                       target_size=(img_row_size,img_col_size),\n",
    "                                       batch_size=args.batch_size,\n",
    "                                       class_mode=\"categorical\",\n",
    "                                       seed=seed)\n",
    "valid_generator = datagen.flow_from_directory(\n",
    "        directory=temp_valid_fold,\n",
    "        target_size=(img_row_size, img_col_size),\n",
    "        batch_size=args.batch_size,\n",
    "        class_mode='categorical',\n",
    "        seed=seed)\n",
    "weight_path = \"{}/weight.fold_{}.h5\".format(cache, 0)\n",
    "callbacks=[EarlyStopping(monitor='val_accuracy', mode='max', verbose=1, patience=20),\n",
    "           ModelCheckpoint(weight_path,monitor='val_accuracy', verbose=1, save_best_only=True, mode='max')]\n"
   ]
  },
  {
   "cell_type": "code",
   "execution_count": null,
   "metadata": {},
   "outputs": [
    {
     "name": "stdout",
     "output_type": "stream",
     "text": [
      "Epoch 1/4\n",
      "2241/2240 [==============================] - 230s 103ms/step - loss: 15.2398 - accuracy: 0.1103 - val_loss: 2.2922 - val_accuracy: 0.1121\n",
      "\n",
      "Epoch 00001: val_accuracy improved from -inf to 0.11215, saving model to e:/kaggle_imgs/cache/d0503_1418.mvgg16.wNone.lr0.0001.s10.nf5.semiNone.b8.row224col224.rsplit0.augment0/weight.fold_0.h5\n",
      "Epoch 2/4\n",
      "1858/2240 [=======================>......] - ETA: 1:05 - loss: 2.3006 - accuracy: 0.1083"
     ]
    }
   ],
   "source": [
    "model.fit_generator(train_generator,\n",
    "                    steps_per_epoch=trn_samples/args.batch_size,\n",
    "                    epochs=4,\n",
    "                    callbacks=callbacks,\n",
    "                    verbose=1,\n",
    "                    class_weight='auto',\n",
    "                    validation_data=valid_generator,\n",
    "                    validation_steps=val_samples/args.batch_size)"
   ]
  },
  {
   "cell_type": "code",
   "execution_count": 16,
   "metadata": {},
   "outputs": [
    {
     "data": {
      "text/plain": [
       "('e:/kaggle_imgs/StateFarm/train_d0503_1739.mvgg16.wNone.lr0.0001.s10.nf5.semiNone.b8.row224col224.rsplit0.augment0',\n",
       " 'e:/kaggle_imgs/StateFarm/valid_d0503_1739.mvgg16.wNone.lr0.0001.s10.nf5.semiNone.b8.row224col224.rsplit0.augment0')"
      ]
     },
     "execution_count": 16,
     "metadata": {},
     "output_type": "execute_result"
    }
   ],
   "source": [
    "temp_train_fold,temp_valid_fold"
   ]
  },
  {
   "cell_type": "code",
   "execution_count": 18,
   "metadata": {},
   "outputs": [
    {
     "data": {
      "text/plain": [
       "2240.125"
      ]
     },
     "execution_count": 18,
     "metadata": {},
     "output_type": "execute_result"
    }
   ],
   "source": [
    "trn_samples/args.batch_size"
   ]
  },
  {
   "cell_type": "code",
   "execution_count": null,
   "metadata": {},
   "outputs": [],
   "source": []
  }
 ],
 "metadata": {
  "kernelspec": {
   "display_name": "Python 3",
   "language": "python",
   "name": "python3"
  },
  "language_info": {
   "codemirror_mode": {
    "name": "ipython",
    "version": 3
   },
   "file_extension": ".py",
   "mimetype": "text/x-python",
   "name": "python",
   "nbconvert_exporter": "python",
   "pygments_lexer": "ipython3",
   "version": "3.7.7"
  }
 },
 "nbformat": 4,
 "nbformat_minor": 4
}
