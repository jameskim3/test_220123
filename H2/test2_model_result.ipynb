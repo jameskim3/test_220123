{
 "metadata": {
  "language_info": {
   "codemirror_mode": {
    "name": "ipython",
    "version": 3
   },
   "file_extension": ".py",
   "mimetype": "text/x-python",
   "name": "python",
   "nbconvert_exporter": "python",
   "pygments_lexer": "ipython3",
   "version": 3
  },
  "orig_nbformat": 2,
  "kernelspec": {
   "name": "python_defaultSpec_1596462529195",
   "display_name": "Python 3.7.7 64-bit ('tch': conda)"
  }
 },
 "nbformat": 4,
 "nbformat_minor": 2,
 "cells": [
  {
   "cell_type": "code",
   "execution_count": 1,
   "metadata": {},
   "outputs": [],
   "source": [
    "import torch\n",
    "import torch.nn as nn\n",
    "import torchvision\n",
    "import efficientnet_pytorch\n",
    "import torchvision.models as models"
   ]
  },
  {
   "cell_type": "code",
   "execution_count": 2,
   "metadata": {},
   "outputs": [],
   "source": [
    "class Resnext50_32x4d(nn.Module):\n",
    "    def __init__(self):\n",
    "        super(Resnext50_32x4d,self).__init__()\n",
    "        self.base_model=torchvision.models.resnext50_32x4d(pretrained=True)\n",
    "        num=self.base_model.fc.in_features\n",
    "        self.base_model.fc=nn.Linear(num,4,bias=True)\n",
    "    def forward(self,image,targets):\n",
    "        out=self.base_model(image)\n",
    "        return out"
   ]
  },
  {
   "cell_type": "code",
   "execution_count": 3,
   "metadata": {},
   "outputs": [],
   "source": [
    "subject = 'H2'\n",
    "main_path = os.path.join(\"E:\\\\kaggle_imgs\", subject)\n",
    "img_path = os.path.join(main_path, \"images\")\n",
    "data_path = os.path.join(main_path, \"Data\")\n",
    "save_path = os.path.join(main_path, \"saved_models\")\n",
    "best_path = save_path+\"/200712.bin\""
   ]
  },
  {
   "cell_type": "code",
   "execution_count": 12,
   "metadata": {},
   "outputs": [
    {
     "output_type": "execute_result",
     "data": {
      "text/plain": "<All keys matched successfully>"
     },
     "metadata": {},
     "execution_count": 12
    }
   ],
   "source": [
    "model=torchvision.models.resnext50_32x4d(pretrained=True)\n",
    "num=model.fc.in_features\n",
    "model.fc=nn.Linear(num,4,bias=True)\n",
    "model_save_path=save_path+f\"/200802_Resnext50_fold_0.bin\"\n",
    "model.load_state_dict(torch.load(model_save_path))"
   ]
  },
  {
   "cell_type": "code",
   "execution_count": 13,
   "metadata": {
    "tags": []
   },
   "outputs": [
    {
     "output_type": "stream",
     "name": "stdout",
     "text": "tensor([ 1.0388, -0.2764, -0.7613, -0.8521], grad_fn=<SliceBackward>)\n"
    }
   ],
   "source": [
    "example = torch.rand(1, 3, 224, 224)\n",
    "traced_script_module = torch.jit.trace(model, example)\n",
    "output=traced_script_module(torch.ones(1,3,224,224))\n",
    "print(output[0,:5])"
   ]
  },
  {
   "cell_type": "code",
   "execution_count": null,
   "metadata": {},
   "outputs": [],
   "source": [
    "path=save_path+\"/traced_resnext50_fold_0.pt\"\n",
    "traced_script_module.save(path)"
   ]
  }
 ]
}