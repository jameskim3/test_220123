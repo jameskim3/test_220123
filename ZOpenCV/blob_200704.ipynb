{
 "cells": [
  {
   "cell_type": "code",
   "execution_count": 1,
   "metadata": {},
   "outputs": [],
   "source": [
    "import cv2\n",
    "import numpy as np\n",
    "from matplotlib import pyplot as plt\n",
    "import seaborn as sns\n",
    "import pandas as pd"
   ]
  },
  {
   "cell_type": "code",
   "execution_count": 2,
   "metadata": {},
   "outputs": [],
   "source": [
    "img_path=\"img/train_200707\"\n",
    "img_row=224#360\n",
    "img_col=224#480"
   ]
  },
  {
   "cell_type": "code",
   "execution_count": 3,
   "metadata": {},
   "outputs": [],
   "source": [
    "# xx and yy are 200x200 tables containing the x and y coordinates as values\n",
    "# mgrid is a mesh creation helper\n",
    "from PIL import Image\n",
    "from skimage.draw import (line, polygon, disk,\n",
    "                          circle_perimeter,\n",
    "                          ellipse, ellipse_perimeter,\n",
    "                          bezier_curve)\n",
    "\n",
    "def make_circle(img_id):\n",
    "    th=1000#1600\n",
    "    donut=np.zeros((th,th))\n",
    "    donut=donut==1\n",
    "    for i in range(12):\n",
    "        r=th/2-np.random.randint(th/8)\n",
    "        r2=(r)**2\n",
    "        rng1 = 12+ np.random.random()*5\n",
    "        rng2 = np.random.random()*1.5\n",
    "        rng=rng1 if i is 0 else rng2\n",
    "        rng=(th+rng)**2 - (th)**2\n",
    "        xx, yy = np.mgrid[:th, :th]\n",
    "        # circles contains the squared distance to the (100, 100) point\n",
    "        # we are just using the circle equation learnt at school\n",
    "        circle = (xx - th//2) ** 2 + (yy - th//2) ** 2\n",
    "        # donuts contains 1's and 0's organized in a donut shape\n",
    "        # you apply 2 thresholds on circle to define the shape\n",
    "        donut1= np.logical_and(circle < (r2 +rng), circle > (r2 - rng))\n",
    "        donut=np.bitwise_or(donut, donut1)\n",
    "\n",
    "#    f,ax=plt.subplots(1,2,figsize=(12,6))\n",
    "#    ax[0].imshow(donut)\n",
    "    off=30\n",
    "    partition=np.random.randint(0,4)\n",
    "\n",
    "    yy1=np.random.randint(0, off)\n",
    "    xx1=np.random.randint(0, th-img_col-off)\n",
    "\n",
    "    yy2=np.random.randint(th-img_row-off, th-img_row)\n",
    "    xx2=np.random.randint(0,th-img_col-off)\n",
    "\n",
    "    yy3=np.random.randint(0,th-img_row-off)\n",
    "    xx3=np.random.randint(0,off)\n",
    "\n",
    "    yy4=np.random.randint(0,th-img_row-off)\n",
    "    xx4=np.random.randint(th-img_col-off,th-img_col)\n",
    "\n",
    "    xx=[xx1,xx2,xx3,xx4]\n",
    "    yy=[yy1,yy2,yy3,yy4]\n",
    "\n",
    "    x_off=np.int(xx[partition])\n",
    "    y_off=np.int(yy[partition])\n",
    "    crop_img=donut[y_off:y_off+img_row,x_off:x_off+img_col]\n",
    "#     for i in range(30):\n",
    "#         nsize=5\n",
    "#         y_noise_pos=np.random.randint(0,360-nsize)\n",
    "#         x_noise_pos=np.random.randint(0,480-nsize)\n",
    "#         y_size=nsize*np.random.random()\n",
    "#         x_size=nsize*np.random.random()\n",
    "#         rr, cc = ellipse(y_noise_pos, x_noise_pos, y_size, x_size, crop_img.shape)\n",
    "#         crop_img[rr, cc] = True\n",
    "    \n",
    "#    ax[1].imshow(crop_img)\n",
    "    plt.show() \n",
    "    return crop_img\n"
   ]
  },
  {
   "cell_type": "markdown",
   "metadata": {},
   "source": [
    "## Make random image"
   ]
  },
  {
   "cell_type": "code",
   "execution_count": null,
   "metadata": {},
   "outputs": [],
   "source": [
    "for i in range(11000,11010,1):\n",
    "    #to prevent mistake\n",
    "    img=make_circle(i)\n",
    "    im=Image.fromarray(img)\n",
    "    im.save(img_path+\"%d.jpg\"%i)\n",
    "    if i%100==0:\n",
    "        print(f\"make image {i}/4000\")"
   ]
  },
  {
   "cell_type": "code",
   "execution_count": null,
   "metadata": {},
   "outputs": [],
   "source": [
    "from skimage.segmentation import flood, flood_fill\n",
    "def find_max_area(img,row,col):\n",
    "    canvas=np.zeros_like(img)\n",
    "    colors=1\n",
    "    for r in range(row):\n",
    "        for c in range(col):\n",
    "            if img[r,c]!=0 and canvas[r,c] == 0:\n",
    "                filled_checkers = flood_fill(img, (r, c), colors)\n",
    "                filled_checkers = filled_checkers==colors\n",
    "                canvas = canvas + np.uint8(filled_checkers)*colors\n",
    "                colors+=1\n",
    "    arr=[]\n",
    "    for color in range(1,colors,1):\n",
    "        arr.append((canvas==color).sum())\n",
    "    max_color=0\n",
    "    max_val=0\n",
    "    for i,val in enumerate(arr):\n",
    "        if max_val<val:\n",
    "            max_val=val\n",
    "            max_color=i\n",
    "    return canvas, max_color+1,colors"
   ]
  },
  {
   "cell_type": "markdown",
   "metadata": {},
   "source": [
    "## My Test"
   ]
  },
  {
   "cell_type": "code",
   "execution_count": null,
   "metadata": {},
   "outputs": [],
   "source": [
    "fn=img_path+\"10000.png\"\n",
    "img=Image.open(fn)\n",
    "\n",
    "f,ax=plt.subplots(1,3,figsize=(14,8))\n",
    "ax[0].imshow(img)\n",
    "img=np.uint8(img)*255\n",
    "ax[1].imshow(img)\n",
    "canvas, max_color,colors=find_max_area(img,img_row,img_col)\n",
    "ax[2].imshow((canvas==max_color))\n"
   ]
  },
  {
   "cell_type": "markdown",
   "metadata": {},
   "source": [
    "## make mask from image"
   ]
  },
  {
   "cell_type": "code",
   "execution_count": null,
   "metadata": {},
   "outputs": [],
   "source": [
    "import os\n",
    "files=os.listdir(img_path)\n",
    "for fn in files:\n",
    "    img=Image.open(img_path+fn)\n",
    "    img=np.uint8(img)*255\n",
    "    canvas, max_color,colors=find_max_area(img,img_row,img_col)\n",
    "    mask=np.uint8(canvas==max_color)\n",
    "    im=Image.fromarray(mask*255)\n",
    "    im.save(img_path+f\"{fn.split('.')[0]}_mask.png\")\n",
    "    \n"
   ]
  },
  {
   "cell_type": "code",
   "execution_count": null,
   "metadata": {},
   "outputs": [],
   "source": [
    "fn.split('.')\n"
   ]
  },
  {
   "cell_type": "code",
   "execution_count": null,
   "metadata": {},
   "outputs": [],
   "source": [
    "canvas.sum(),mask.sum()"
   ]
  },
  {
   "cell_type": "code",
   "execution_count": null,
   "metadata": {},
   "outputs": [],
   "source": [
    "colors=1\n",
    "for r in range(row):\n",
    "    for c in range(col):\n",
    "        if img[r,c]!=0 and canvas[r,c] == 0:\n",
    "            filled_checkers = flood_fill(img, (r, c), colors, tolerance=10)\n",
    "            filled_checkers = filled_checkers==colors\n",
    "            canvas = canvas + np.uint8(filled_checkers)*colors\n",
    "            colors+=1\n"
   ]
  },
  {
   "cell_type": "code",
   "execution_count": null,
   "metadata": {},
   "outputs": [],
   "source": [
    "canvas.max()"
   ]
  },
  {
   "cell_type": "code",
   "execution_count": null,
   "metadata": {},
   "outputs": [],
   "source": [
    "import numpy as np\n",
    "import matplotlib.pyplot as plt\n",
    "from skimage import data, filters\n",
    "from skimage.segmentation import flood, flood_fill\n",
    "\n",
    "\n",
    "checkers = img#data.checkerboard()\n",
    "\n",
    "# Fill a square near the middle with value 127, starting at index (76, 76)\n",
    "filled_checkers = flood_fill(checkers, (276, 276), 127)\n",
    "\n",
    "fig, ax = plt.subplots(ncols=2, figsize=(10, 5))\n",
    "\n",
    "ax[0].imshow(checkers, cmap=plt.cm.gray)\n",
    "ax[0].set_title('Original')\n",
    "ax[0].axis('off')\n",
    "\n",
    "ax[1].imshow(filled_checkers, cmap=plt.cm.gray)\n",
    "ax[1].plot(76, 76, 'wo')  # seed point\n",
    "ax[1].set_title('After flood fill')\n",
    "ax[1].axis('off')\n",
    "\n",
    "plt.show()"
   ]
  },
  {
   "cell_type": "code",
   "execution_count": null,
   "metadata": {},
   "outputs": [],
   "source": []
  },
  {
   "cell_type": "code",
   "execution_count": 4,
   "metadata": {},
   "outputs": [
    {
     "data": {
      "text/plain": [
       "(-0.5, 499.5, 499.5, -0.5)"
      ]
     },
     "execution_count": 4,
     "metadata": {},
     "output_type": "execute_result"
    },
    {
     "data": {
      "image/png": "[encoded data removed]",
      "text/plain": [
       "<Figure size 720x432 with 2 Axes>"
      ]
     },
     "metadata": {
      "needs_background": "light"
     },
     "output_type": "display_data"
    }
   ],
   "source": [
    "from skimage.draw import polygon\n",
    "from skimage.draw import (line, polygon, disk,\n",
    "                          circle_perimeter,\n",
    "                          ellipse, ellipse_perimeter,\n",
    "                          bezier_curve)\n",
    "\n",
    "fig, (ax1, ax2) = plt.subplots(ncols=2, nrows=1, figsize=(10, 6))\n",
    "img = np.zeros((500, 500, 3), dtype=np.double)\n",
    "\n",
    "\n",
    "# fill polygon\n",
    "poly = np.array((\n",
    "    (300, 300),\n",
    "    (480, 320),\n",
    "    (380, 430),\n",
    "    (220, 590),\n",
    "    (300, 300),\n",
    "))\n",
    "# rr, cc = polygon(poly[:, 0], poly[:, 1], img.shape)\n",
    "# img[rr, cc, 1] = 1\n",
    "\n",
    "# fill circle\n",
    "rr, cc = disk((200, 200), 100, shape=img.shape)\n",
    "img[rr, cc, :] = (1, 1, 0)\n",
    "\n",
    "# fill ellipse\n",
    "rr, cc = ellipse(300, 300, 100, 200, img.shape)\n",
    "img[rr, cc, 2] = 1\n",
    "\n",
    "ax1.imshow(img)\n",
    "ax1.set_title('No anti-aliasing')\n",
    "ax1.axis('off')"
   ]
  },
  {
   "cell_type": "code",
   "execution_count": null,
   "metadata": {},
   "outputs": [],
   "source": [
    "import skimage\n",
    "max_size = 50 # Assuming it's square\n",
    "max_vertices = 6 # length of your coord vector\n",
    "coords = np.random.randint(0,high=max_size, size=[2, max_vertices])\n",
    "# Here you got all the coordinates laying inside the polygon\n",
    "rr, cc = skimage.draw.polygon(coords)\n",
    "\n",
    "# Now you have to pick an element from rr and the corresponding from cc\n",
    "# The simplest way is to pick its position in rr or cc\n",
    "random_index = np.random.choice(list(range(len(rr))))\n",
    "random_point = (rr[random_index], cc[random_index])"
   ]
  },
  {
   "cell_type": "code",
   "execution_count": null,
   "metadata": {},
   "outputs": [],
   "source": [
    "import skimage"
   ]
  },
  {
   "cell_type": "code",
   "execution_count": null,
   "metadata": {},
   "outputs": [],
   "source": [
    ">>> image_shape = (128, 128)\n",
    ">>> polygon = np.array([[60, 100], [100, 40], [40, 40]])\n",
    ">>> mask = polygon2mask(image_shape, polygon)\n",
    ">>> mask.shape\n",
    "(128, 128)"
   ]
  },
  {
   "cell_type": "code",
   "execution_count": null,
   "metadata": {},
   "outputs": [],
   "source": []
  },
  {
   "cell_type": "code",
   "execution_count": null,
   "metadata": {},
   "outputs": [],
   "source": []
  },
  {
   "cell_type": "code",
   "execution_count": null,
   "metadata": {},
   "outputs": [],
   "source": []
  },
  {
   "cell_type": "code",
   "execution_count": null,
   "metadata": {},
   "outputs": [],
   "source": []
  },
  {
   "cell_type": "code",
   "execution_count": null,
   "metadata": {},
   "outputs": [],
   "source": [
    "def imshow(title, img,cmap=\"gray\"):\n",
    "    plt.title(title)\n",
    "    plt.imshow(img,cmap=cmap)"
   ]
  },
  {
   "cell_type": "code",
   "execution_count": null,
   "metadata": {},
   "outputs": [],
   "source": [
    "f,ax=plt.subplots(1,2,figsize=(15,7))\n",
    "ax[0].imshow(img)\n",
    "ax[1].imshow(thresh,cmap=\"gray\")"
   ]
  },
  {
   "cell_type": "code",
   "execution_count": null,
   "metadata": {},
   "outputs": [],
   "source": [
    "params = cv2.SimpleBlobDetector_Params()\n",
    "params.minThreshold = 10\n",
    "params.maxThreshold = 255\n",
    "params.filterByArea = False\n",
    "params.filterByCircularity = False\n",
    "params.filterByConvexity = False\n",
    "params.filterByInertia = False\n",
    "\n",
    "# params.minArea = 1\n",
    "        \n",
    "detector = cv2.SimpleBlobDetector_create(params) # Blob detector 선언\n",
    "keypoints = detector.detect(thresh)  # Blob labeling 수행\n"
   ]
  },
  {
   "cell_type": "code",
   "execution_count": null,
   "metadata": {},
   "outputs": [],
   "source": [
    "len(keypoints)"
   ]
  },
  {
   "cell_type": "code",
   "execution_count": null,
   "metadata": {},
   "outputs": [],
   "source": [
    "im_with_keypoints = \\\n",
    "cv2.drawKeypoints(thresh, keypoints, np.array([]), (255, 0, 0),\n",
    "                  cv2.DRAW_MATCHES_FLAGS_DRAW_RICH_KEYPOINTS)  # 원본 이미지에 찾은 blob 그리기\n",
    "\n",
    "plt.figure(figsize=(7,7))\n",
    "plt.imshow(im_with_keypoints)\n",
    "plt.title('Coin keypoint', size=15)\n",
    "plt.show()"
   ]
  },
  {
   "cell_type": "code",
   "execution_count": null,
   "metadata": {},
   "outputs": [],
   "source": [
    "sns.countplot(thresh.flatten())"
   ]
  },
  {
   "cell_type": "code",
   "execution_count": null,
   "metadata": {},
   "outputs": [],
   "source": [
    "num_labels, labels_im = cv2.connectedComponents(thresh)\n",
    "\n",
    "def imshow_components(labels):\n",
    "    # Map component labels to hue val\n",
    "    label_hue = np.uint8(179*labels/np.max(labels))\n",
    "    blank_ch = 255*np.ones_like(label_hue)\n",
    "    labeled_img = cv2.merge([label_hue, blank_ch, blank_ch])\n",
    "\n",
    "    # cvt to BGR for display\n",
    "    labeled_img = cv2.cvtColor(labeled_img, cv2.COLOR_HSV2BGR)\n",
    "\n",
    "    # set bg label to black\n",
    "    labeled_img[label_hue==0] = 0\n",
    "\n",
    "    imshow('labeled.png', labeled_img)\n",
    "\n",
    "imshow_components(labels_im)"
   ]
  },
  {
   "cell_type": "code",
   "execution_count": null,
   "metadata": {},
   "outputs": [],
   "source": [
    "sns.countplot(labels_im.flatten())"
   ]
  },
  {
   "cell_type": "code",
   "execution_count": null,
   "metadata": {},
   "outputs": [],
   "source": [
    "df=pd.DataFrame({\"a\":labels_im.flatten()})"
   ]
  },
  {
   "cell_type": "code",
   "execution_count": null,
   "metadata": {},
   "outputs": [],
   "source": [
    "tar=df.a.value_counts()[:4].index.tolist()[1]"
   ]
  },
  {
   "cell_type": "code",
   "execution_count": null,
   "metadata": {},
   "outputs": [],
   "source": [
    "imshow(\"sel\",(labels_im==tar).astype(np.uint8))"
   ]
  },
  {
   "cell_type": "code",
   "execution_count": null,
   "metadata": {},
   "outputs": [],
   "source": [
    "imshow(\"origin\",img)"
   ]
  },
  {
   "cell_type": "markdown",
   "metadata": {},
   "source": [
    "## Threshold Range"
   ]
  },
  {
   "cell_type": "code",
   "execution_count": null,
   "metadata": {},
   "outputs": [],
   "source": [
    "import cv2\n",
    "import numpy as np\n",
    "from matplotlib import pyplot as plt\n",
    "import seaborn as sns\n",
    "import pandas as pd\n",
    "\n",
    "img = cv2.imread('threshold.jpg')#io.imread('https://i.stack.imgur.com/J46nA.jpg')\n",
    "gray = cv2.cvtColor(img, cv2.COLOR_BGR2GRAY)\n"
   ]
  },
  {
   "cell_type": "code",
   "execution_count": null,
   "metadata": {},
   "outputs": [],
   "source": [
    "\n",
    "# Use fixed threshold to mask black areas\n",
    "_, thresh = cv2.threshold(gray, 90, 255, cv2.THRESH_BINARY)\n",
    "_, thresh2 = cv2.threshold(gray, 110, 255, cv2.THRESH_BINARY)\n",
    "thresh3=thresh-thresh2"
   ]
  },
  {
   "cell_type": "code",
   "execution_count": null,
   "metadata": {},
   "outputs": [],
   "source": [
    "f,ax=plt.subplots(1,3,figsize=(15,6))\n",
    "ax[0].imshow(thresh,cmap=\"gray\")\n",
    "ax[1].imshow(thresh2,cmap=\"gray\")\n",
    "ax[2].imshow(thresh3,cmap=\"gray\")"
   ]
  },
  {
   "cell_type": "code",
   "execution_count": null,
   "metadata": {},
   "outputs": [],
   "source": [
    "plt.imshow(thresh2,cmap=\"gray\")"
   ]
  },
  {
   "cell_type": "code",
   "execution_count": null,
   "metadata": {},
   "outputs": [],
   "source": [
    "255-gray"
   ]
  },
  {
   "cell_type": "code",
   "execution_count": null,
   "metadata": {},
   "outputs": [],
   "source": []
  }
 ],
 "metadata": {
  "kernelspec": {
   "display_name": "Python 3",
   "language": "python",
   "name": "python3"
  },
  "language_info": {
   "codemirror_mode": {
    "name": "ipython",
    "version": 3
   },
   "file_extension": ".py",
   "mimetype": "text/x-python",
   "name": "python",
   "nbconvert_exporter": "python",
   "pygments_lexer": "ipython3",
   "version": "3.7.7"
  }
 },
 "nbformat": 4,
 "nbformat_minor": 4
}
