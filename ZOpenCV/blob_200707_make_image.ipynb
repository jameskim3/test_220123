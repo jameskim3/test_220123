{
 "cells": [
  {
   "cell_type": "code",
   "execution_count": 1,
   "metadata": {},
   "outputs": [],
   "source": [
    "import cv2\n",
    "import numpy as np\n",
    "from matplotlib import pyplot as plt\n",
    "import seaborn as sns\n",
    "import pandas as pd"
   ]
  },
  {
   "cell_type": "code",
   "execution_count": 95,
   "metadata": {},
   "outputs": [],
   "source": [
    "img_path=\"img/train_200707/\"\n",
    "img_row=224#360\n",
    "img_col=224#480"
   ]
  },
  {
   "cell_type": "markdown",
   "metadata": {},
   "source": [
    "## make Circle"
   ]
  },
  {
   "cell_type": "code",
   "execution_count": 206,
   "metadata": {},
   "outputs": [],
   "source": [
    "# xx and yy are 200x200 tables containing the x and y coordinates as values\n",
    "# mgrid is a mesh creation helper\n",
    "from PIL import Image\n",
    "from skimage.draw import (line, polygon, disk,\n",
    "                          circle_perimeter,\n",
    "                          ellipse, ellipse_perimeter,\n",
    "                          bezier_curve)\n",
    "\n",
    "def make_circle(img_id):\n",
    "    th=1000#1600\n",
    "    donut=np.zeros((th,th))\n",
    "    donut=donut==1\n",
    "    for i in range(12):\n",
    "        r=th/2-np.random.randint(th/8)\n",
    "        r2=(r)**2\n",
    "        rng1 = 9+ np.random.random()*5\n",
    "        rng2 = np.random.random()*1.5\n",
    "        rng=rng1 if i is 0 else rng2\n",
    "        rng=(th+rng)**2 - (th)**2\n",
    "        xx, yy = np.mgrid[:th, :th]\n",
    "        # circles contains the squared distance to the (100, 100) point\n",
    "        # we are just using the circle equation learnt at school\n",
    "        circle = (xx - th//2) ** 2 + (yy - th//2) ** 2\n",
    "        # donuts contains 1's and 0's organized in a donut shape\n",
    "        # you apply 2 thresholds on circle to define the shape\n",
    "        donut1= np.logical_and(circle < (r2 +rng), circle > (r2 - rng))\n",
    "        donut=np.bitwise_or(donut, donut1)\n",
    "\n",
    "#    f,ax=plt.subplots(1,2,figsize=(12,6))\n",
    "#    ax[0].imshow(donut)\n",
    "    off=30\n",
    "    partition=np.random.randint(0,4)\n",
    "\n",
    "    yy1=np.random.randint(0, off)\n",
    "    xx1=np.random.randint(0, th-img_col-off)\n",
    "\n",
    "    yy2=np.random.randint(th-img_row-off, th-img_row)\n",
    "    xx2=np.random.randint(0,th-img_col-off)\n",
    "\n",
    "    yy3=np.random.randint(0,th-img_row-off)\n",
    "    xx3=np.random.randint(0,off)\n",
    "\n",
    "    yy4=np.random.randint(0,th-img_row-off)\n",
    "    xx4=np.random.randint(th-img_col-off,th-img_col)\n",
    "\n",
    "    xx=[xx1,xx2,xx3,xx4]\n",
    "    yy=[yy1,yy2,yy3,yy4]\n",
    "\n",
    "    x_off=np.int(xx[partition])\n",
    "    y_off=np.int(yy[partition])\n",
    "    crop_img=donut[y_off:y_off+img_row,x_off:x_off+img_col]\n",
    "#     for i in range(30):\n",
    "#         nsize=5\n",
    "#         y_noise_pos=np.random.randint(0,360-nsize)\n",
    "#         x_noise_pos=np.random.randint(0,480-nsize)\n",
    "#         y_size=nsize*np.random.random()\n",
    "#         x_size=nsize*np.random.random()\n",
    "#         rr, cc = ellipse(y_noise_pos, x_noise_pos, y_size, x_size, crop_img.shape)\n",
    "#         crop_img[rr, cc] = True\n",
    "    \n",
    "#    ax[1].imshow(crop_img)\n",
    "    plt.show() \n",
    "    return np.uint8(crop_img)\n"
   ]
  },
  {
   "cell_type": "markdown",
   "metadata": {},
   "source": [
    "## Make Noise Image"
   ]
  },
  {
   "cell_type": "code",
   "execution_count": 223,
   "metadata": {},
   "outputs": [],
   "source": [
    "from skimage.draw import polygon\n",
    "from skimage.draw import (line, polygon, disk,\n",
    "                          circle_perimeter,\n",
    "                          ellipse, ellipse_perimeter,\n",
    "                          bezier_curve)\n",
    "\n",
    "def make_noise_img():\n",
    "    cir=make_circle(1)\n",
    "    canvas, max_color,colors=find_max_area(cir*255,img_row,img_col)\n",
    "    mask=np.uint8(canvas==max_color)\n",
    "\n",
    "    cir=cir.reshape(img_row,img_col,1)\n",
    "    cir=np.repeat(cir,3,2)*150\n",
    "\n",
    "    img=np.zeros((img_row,img_col,3))\n",
    "    i=0\n",
    "    while(i<2000):\n",
    "\n",
    "        # fill polygon\n",
    "        nsize=1\n",
    "        y_pos=np.random.randint(0,img_row-nsize)\n",
    "        x_pos=np.random.randint(0,img_col-nsize)\n",
    "        if cir[y_pos,x_pos,0]>0:\n",
    "            continue\n",
    "        c_size=nsize*np.random.random()\n",
    "        rr, cc = disk((y_pos, x_pos), c_size, shape=img.shape)\n",
    "        r=np.random.randint(32,192,3)\n",
    "        img[rr, cc, :] = (r[0],r[1],r[2])\n",
    "        # fill ellipse\n",
    "        nsize=4\n",
    "        y_pos=np.random.randint(0,img_row-nsize)\n",
    "        x_pos=np.random.randint(0,img_col-nsize)\n",
    "        if cir[y_pos,x_pos,0]>0:\n",
    "            continue\n",
    "        y_size=nsize*np.random.random()\n",
    "        x_size=nsize*np.random.random()\n",
    "        rr, cc = ellipse(y_pos, x_pos, y_size, x_size)\n",
    "        r=np.random.randint(32,192,3)\n",
    "        img[rr, cc, :] = (r[0],r[1],r[2])\n",
    "        \n",
    "        i+=1\n",
    "        \n",
    "    img=np.uint8(img)\n",
    "    return img+cir,mask"
   ]
  },
  {
   "cell_type": "markdown",
   "metadata": {},
   "source": [
    "## Make Image Files"
   ]
  },
  {
   "cell_type": "code",
   "execution_count": 229,
   "metadata": {},
   "outputs": [
    {
     "name": "stdout",
     "output_type": "stream",
     "text": [
      "1 6\n",
      "make image 11000/4000\n",
      "3 8\n",
      "1 25\n",
      "2 40\n",
      "5 6\n",
      "4 5\n",
      "2 27\n",
      "1 8\n",
      "1 20\n",
      "7 109\n",
      "5 6\n",
      "1 21\n",
      "4 5\n",
      "3 6\n",
      "12 13\n",
      "3 4\n",
      "5 6\n",
      "7 8\n",
      "1 17\n",
      "4 5\n",
      "53 73\n",
      "4 37\n",
      "5 6\n",
      "6 7\n",
      "66 70\n",
      "5 7\n",
      "1 4\n",
      "5 6\n",
      "2 39\n",
      "2 9\n",
      "6 30\n",
      "1 8\n",
      "1 7\n",
      "3 5\n",
      "11 67\n",
      "2 6\n",
      "1 26\n",
      "1 4\n",
      "7 57\n",
      "2 8\n",
      "1 6\n",
      "32 47\n",
      "5 6\n",
      "1 6\n",
      "1 65\n",
      "4 24\n",
      "1 51\n",
      "1 6\n",
      "1 15\n",
      "2 6\n",
      "1 6\n",
      "3 69\n",
      "5 70\n",
      "1 16\n",
      "5 66\n",
      "1 45\n",
      "2 8\n",
      "1 46\n",
      "6 7\n",
      "1 5\n",
      "5 6\n",
      "2 40\n",
      "5 36\n",
      "3 5\n",
      "1 84\n",
      "2 4\n",
      "8 33\n",
      "5 6\n",
      "1 6\n",
      "3 5\n",
      "2 6\n",
      "2 4\n",
      "4 39\n",
      "8 15\n",
      "2 19\n",
      "1 61\n",
      "4 5\n",
      "5 6\n",
      "4 5\n",
      "3 6\n",
      "1 41\n",
      "1 4\n",
      "2 6\n",
      "6 7\n",
      "7 8\n",
      "1 6\n",
      "3 35\n",
      "2 4\n",
      "1 7\n",
      "1 25\n",
      "3 5\n",
      "3 7\n",
      "4 8\n",
      "1 107\n",
      "1 16\n",
      "1 7\n",
      "5 6\n",
      "5 7\n",
      "7 8\n",
      "2 4\n",
      "2 34\n",
      "make image 11100/4000\n",
      "1 5\n",
      "4 26\n",
      "3 4\n",
      "6 7\n",
      "1 9\n",
      "6 7\n",
      "6 8\n",
      "4 5\n",
      "2 3\n",
      "1 7\n",
      "3 5\n",
      "5 30\n",
      "4 5\n",
      "2 5\n",
      "5 55\n",
      "4 7\n",
      "4 6\n",
      "1 6\n",
      "30 65\n",
      "2 3\n",
      "6 7\n",
      "2 9\n",
      "5 6\n",
      "1 39\n",
      "17 46\n",
      "4 5\n",
      "41 42\n",
      "4 5\n",
      "1 53\n",
      "5 6\n",
      "4 8\n",
      "2 117\n",
      "5 6\n",
      "2 6\n",
      "3 17\n",
      "4 43\n",
      "1 98\n",
      "1 26\n",
      "4 49\n",
      "1 16\n",
      "6 7\n",
      "1 9\n",
      "1 6\n",
      "7 44\n",
      "1 33\n",
      "3 6\n",
      "4 5\n",
      "1 34\n",
      "1 86\n",
      "1 50\n",
      "4 37\n",
      "1 6\n",
      "5 74\n",
      "5 42\n",
      "1 7\n",
      "8 9\n",
      "6 7\n",
      "2 6\n",
      "6 52\n",
      "1 6\n",
      "5 7\n",
      "1 7\n",
      "3 7\n",
      "4 16\n",
      "36 69\n",
      "7 8\n",
      "4 6\n",
      "1 38\n",
      "5 7\n",
      "5 48\n",
      "3 7\n",
      "4 51\n",
      "1 18\n",
      "2 30\n",
      "1 64\n",
      "6 10\n",
      "1 7\n",
      "46 67\n",
      "5 6\n",
      "3 23\n",
      "6 7\n",
      "1 5\n",
      "3 14\n",
      "3 14\n",
      "1 5\n",
      "3 8\n",
      "37 38\n",
      "8 46\n",
      "5 31\n",
      "1 6\n",
      "5 6\n",
      "4 5\n",
      "1 48\n",
      "1 26\n",
      "1 6\n",
      "1 6\n",
      "1 32\n",
      "8 29\n",
      "3 78\n",
      "3 4\n",
      "make image 11200/4000\n",
      "30 31\n",
      "1 30\n",
      "4 33\n",
      "4 5\n",
      "6 7\n",
      "2 7\n",
      "1 38\n",
      "3 5\n",
      "19 29\n",
      "1 7\n",
      "3 4\n",
      "15 39\n",
      "7 66\n",
      "4 88\n",
      "3 6\n",
      "3 4\n",
      "1 98\n",
      "1 52\n",
      "1 7\n",
      "2 3\n",
      "1 7\n",
      "4 19\n",
      "3 43\n",
      "1 6\n",
      "1 6\n",
      "24 46\n",
      "1 6\n",
      "1 93\n",
      "3 4\n",
      "1 4\n",
      "16 24\n",
      "5 28\n",
      "2 10\n",
      "1 5\n",
      "3 4\n",
      "4 8\n",
      "5 75\n",
      "4 5\n",
      "12 75\n",
      "2 28\n",
      "6 16\n",
      "5 6\n",
      "3 5\n",
      "2 27\n",
      "17 45\n",
      "3 68\n",
      "1 5\n",
      "1 22\n",
      "2 4\n",
      "3 6\n",
      "2 8\n",
      "6 7\n",
      "1 95\n",
      "24 26\n",
      "1 59\n",
      "1 5\n",
      "3 67\n",
      "4 5\n",
      "1 7\n",
      "1 60\n",
      "2 7\n",
      "1 7\n",
      "3 11\n",
      "1 6\n",
      "1 46\n",
      "1 73\n",
      "22 41\n",
      "1 5\n",
      "13 55\n",
      "1 9\n",
      "3 4\n",
      "2 5\n",
      "2 50\n",
      "1 65\n",
      "4 6\n",
      "1 36\n",
      "3 8\n",
      "6 7\n",
      "1 124\n",
      "1 8\n",
      "1 46\n",
      "3 21\n",
      "2 4\n",
      "1 24\n",
      "1 8\n",
      "2 8\n",
      "1 6\n",
      "2 28\n",
      "2 9\n",
      "4 5\n",
      "1 19\n",
      "5 6\n",
      "5 6\n",
      "2 5\n",
      "2 11\n",
      "8 17\n",
      "3 5\n",
      "1 4\n",
      "4 6\n",
      "5 54\n",
      "make image 11300/4000\n",
      "4 78\n",
      "2 5\n",
      "1 6\n",
      "1 48\n",
      "5 9\n",
      "1 6\n",
      "5 38\n",
      "1 112\n",
      "1 57\n",
      "3 4\n",
      "4 24\n",
      "4 7\n",
      "1 32\n",
      "5 7\n",
      "1 6\n",
      "1 77\n",
      "6 7\n",
      "1 7\n",
      "1 33\n",
      "6 7\n",
      "1 5\n",
      "7 8\n",
      "1 39\n",
      "1 6\n",
      "1 95\n",
      "2 4\n",
      "4 5\n",
      "2 44\n",
      "6 37\n",
      "1 6\n",
      "5 6\n",
      "2 5\n",
      "1 73\n",
      "20 21\n",
      "1 6\n",
      "2 41\n",
      "2 29\n",
      "2 6\n",
      "1 6\n",
      "6 7\n",
      "2 6\n",
      "1 4\n",
      "2 6\n",
      "1 31\n",
      "3 7\n",
      "3 31\n",
      "1 6\n",
      "5 57\n",
      "30 31\n",
      "1 6\n",
      "4 117\n",
      "6 7\n",
      "2 6\n",
      "5 6\n",
      "4 33\n",
      "5 6\n",
      "4 14\n",
      "1 6\n",
      "2 5\n",
      "1 9\n",
      "7 8\n",
      "6 33\n",
      "1 45\n",
      "5 7\n",
      "1 5\n",
      "1 7\n",
      "1 15\n",
      "6 19\n",
      "7 8\n",
      "1 6\n",
      "1 5\n",
      "2 9\n",
      "12 15\n",
      "3 6\n",
      "7 12\n",
      "7 8\n",
      "1 41\n",
      "5 15\n",
      "4 5\n",
      "1 5\n",
      "1 42\n",
      "5 6\n",
      "1 65\n",
      "1 77\n",
      "14 25\n",
      "1 5\n",
      "40 71\n",
      "1 67\n",
      "1 8\n",
      "1 42\n",
      "69 95\n",
      "7 8\n",
      "1 6\n",
      "3 70\n",
      "4 5\n",
      "20 73\n",
      "1 6\n",
      "2 3\n",
      "5 7\n",
      "8 9\n",
      "make image 11400/4000\n",
      "1 6\n",
      "1 18\n",
      "1 7\n",
      "5 6\n",
      "7 8\n",
      "1 42\n",
      "6 7\n",
      "3 6\n",
      "6 7\n",
      "1 13\n",
      "1 83\n",
      "1 5\n",
      "1 19\n",
      "30 69\n",
      "3 56\n",
      "5 30\n",
      "1 37\n",
      "1 75\n",
      "1 14\n",
      "67 75\n",
      "51 69\n",
      "3 7\n",
      "2 7\n",
      "3 4\n",
      "3 7\n",
      "1 38\n",
      "1 20\n",
      "4 5\n",
      "3 7\n",
      "2 3\n",
      "5 40\n",
      "1 4\n",
      "2 6\n",
      "3 110\n",
      "3 6\n",
      "1 80\n",
      "4 5\n",
      "3 5\n",
      "4 68\n",
      "4 7\n",
      "2 5\n",
      "2 54\n",
      "1 8\n",
      "14 33\n",
      "2 5\n",
      "2 7\n",
      "2 7\n",
      "1 7\n",
      "1 8\n",
      "5 6\n",
      "4 5\n",
      "1 39\n",
      "6 7\n",
      "1 5\n",
      "5 12\n",
      "2 8\n",
      "4 7\n",
      "1 26\n",
      "8 11\n",
      "1 6\n",
      "3 6\n",
      "2 6\n",
      "1 5\n",
      "5 7\n",
      "11 44\n",
      "2 4\n",
      "2 6\n",
      "1 6\n",
      "1 7\n",
      "4 6\n",
      "7 26\n",
      "1 75\n",
      "1 8\n",
      "4 5\n",
      "7 38\n",
      "1 7\n",
      "3 6\n",
      "3 5\n",
      "5 6\n",
      "1 70\n",
      "1 27\n",
      "2 3\n",
      "5 26\n",
      "1 4\n",
      "6 70\n",
      "12 19\n",
      "3 53\n",
      "5 7\n",
      "5 6\n",
      "4 6\n",
      "1 46\n",
      "27 53\n",
      "1 4\n",
      "2 6\n",
      "4 5\n",
      "6 7\n",
      "1 7\n",
      "4 7\n",
      "1 18\n",
      "5 6\n",
      "make image 11500/4000\n",
      "6 7\n",
      "1 5\n",
      "3 9\n",
      "6 7\n",
      "2 7\n",
      "7 8\n",
      "5 28\n",
      "4 5\n",
      "4 7\n",
      "41 46\n",
      "8 15\n",
      "2 7\n",
      "2 7\n",
      "5 6\n",
      "5 24\n",
      "2 6\n",
      "6 7\n",
      "3 70\n",
      "4 5\n",
      "3 4\n",
      "5 6\n",
      "4 7\n",
      "4 24\n"
     ]
    },
    {
     "ename": "KeyboardInterrupt",
     "evalue": "",
     "output_type": "error",
     "traceback": [
      "\u001b[1;31m---------------------------------------------------------------------------\u001b[0m",
      "\u001b[1;31mKeyboardInterrupt\u001b[0m                         Traceback (most recent call last)",
      "\u001b[1;32m<ipython-input-229-e8ed7875a309>\u001b[0m in \u001b[0;36m<module>\u001b[1;34m\u001b[0m\n\u001b[0;32m      1\u001b[0m \u001b[1;32mfor\u001b[0m \u001b[0mi\u001b[0m \u001b[1;32min\u001b[0m \u001b[0mrange\u001b[0m\u001b[1;33m(\u001b[0m\u001b[1;36m11000\u001b[0m\u001b[1;33m,\u001b[0m\u001b[1;36m12000\u001b[0m\u001b[1;33m,\u001b[0m\u001b[1;36m1\u001b[0m\u001b[1;33m)\u001b[0m\u001b[1;33m:\u001b[0m\u001b[1;33m\u001b[0m\u001b[1;33m\u001b[0m\u001b[0m\n\u001b[0;32m      2\u001b[0m     \u001b[1;31m#to prevent mistake\u001b[0m\u001b[1;33m\u001b[0m\u001b[1;33m\u001b[0m\u001b[1;33m\u001b[0m\u001b[0m\n\u001b[1;32m----> 3\u001b[1;33m     \u001b[0mimg\u001b[0m\u001b[1;33m,\u001b[0m\u001b[0mmask\u001b[0m\u001b[1;33m=\u001b[0m\u001b[0mmake_noise_img\u001b[0m\u001b[1;33m(\u001b[0m\u001b[1;33m)\u001b[0m\u001b[1;33m\u001b[0m\u001b[1;33m\u001b[0m\u001b[0m\n\u001b[0m\u001b[0;32m      4\u001b[0m     \u001b[0mim\u001b[0m\u001b[1;33m=\u001b[0m\u001b[0mImage\u001b[0m\u001b[1;33m.\u001b[0m\u001b[0mfromarray\u001b[0m\u001b[1;33m(\u001b[0m\u001b[0mnp\u001b[0m\u001b[1;33m.\u001b[0m\u001b[0muint8\u001b[0m\u001b[1;33m(\u001b[0m\u001b[0mimg\u001b[0m\u001b[1;33m)\u001b[0m\u001b[1;33m)\u001b[0m\u001b[1;33m.\u001b[0m\u001b[0mconvert\u001b[0m\u001b[1;33m(\u001b[0m\u001b[1;34m'RGB'\u001b[0m\u001b[1;33m)\u001b[0m\u001b[1;33m\u001b[0m\u001b[1;33m\u001b[0m\u001b[0m\n\u001b[0;32m      5\u001b[0m     \u001b[0mim\u001b[0m\u001b[1;33m.\u001b[0m\u001b[0msave\u001b[0m\u001b[1;33m(\u001b[0m\u001b[0mimg_path\u001b[0m\u001b[1;33m+\u001b[0m\u001b[1;34m\"%d.jpg\"\u001b[0m\u001b[1;33m%\u001b[0m\u001b[0mi\u001b[0m\u001b[1;33m)\u001b[0m\u001b[1;33m\u001b[0m\u001b[1;33m\u001b[0m\u001b[0m\n",
      "\u001b[1;32m<ipython-input-223-4fa25e928c8b>\u001b[0m in \u001b[0;36mmake_noise_img\u001b[1;34m()\u001b[0m\n\u001b[0;32m     36\u001b[0m         \u001b[0my_size\u001b[0m\u001b[1;33m=\u001b[0m\u001b[0mnsize\u001b[0m\u001b[1;33m*\u001b[0m\u001b[0mnp\u001b[0m\u001b[1;33m.\u001b[0m\u001b[0mrandom\u001b[0m\u001b[1;33m.\u001b[0m\u001b[0mrandom\u001b[0m\u001b[1;33m(\u001b[0m\u001b[1;33m)\u001b[0m\u001b[1;33m\u001b[0m\u001b[1;33m\u001b[0m\u001b[0m\n\u001b[0;32m     37\u001b[0m         \u001b[0mx_size\u001b[0m\u001b[1;33m=\u001b[0m\u001b[0mnsize\u001b[0m\u001b[1;33m*\u001b[0m\u001b[0mnp\u001b[0m\u001b[1;33m.\u001b[0m\u001b[0mrandom\u001b[0m\u001b[1;33m.\u001b[0m\u001b[0mrandom\u001b[0m\u001b[1;33m(\u001b[0m\u001b[1;33m)\u001b[0m\u001b[1;33m\u001b[0m\u001b[1;33m\u001b[0m\u001b[0m\n\u001b[1;32m---> 38\u001b[1;33m         \u001b[0mrr\u001b[0m\u001b[1;33m,\u001b[0m \u001b[0mcc\u001b[0m \u001b[1;33m=\u001b[0m \u001b[0mellipse\u001b[0m\u001b[1;33m(\u001b[0m\u001b[0my_pos\u001b[0m\u001b[1;33m,\u001b[0m \u001b[0mx_pos\u001b[0m\u001b[1;33m,\u001b[0m \u001b[0my_size\u001b[0m\u001b[1;33m,\u001b[0m \u001b[0mx_size\u001b[0m\u001b[1;33m)\u001b[0m\u001b[1;33m\u001b[0m\u001b[1;33m\u001b[0m\u001b[0m\n\u001b[0m\u001b[0;32m     39\u001b[0m         \u001b[0mr\u001b[0m\u001b[1;33m=\u001b[0m\u001b[0mnp\u001b[0m\u001b[1;33m.\u001b[0m\u001b[0mrandom\u001b[0m\u001b[1;33m.\u001b[0m\u001b[0mrandint\u001b[0m\u001b[1;33m(\u001b[0m\u001b[1;36m32\u001b[0m\u001b[1;33m,\u001b[0m\u001b[1;36m192\u001b[0m\u001b[1;33m,\u001b[0m\u001b[1;36m3\u001b[0m\u001b[1;33m)\u001b[0m\u001b[1;33m\u001b[0m\u001b[1;33m\u001b[0m\u001b[0m\n\u001b[0;32m     40\u001b[0m         \u001b[0mimg\u001b[0m\u001b[1;33m[\u001b[0m\u001b[0mrr\u001b[0m\u001b[1;33m,\u001b[0m \u001b[0mcc\u001b[0m\u001b[1;33m,\u001b[0m \u001b[1;33m:\u001b[0m\u001b[1;33m]\u001b[0m \u001b[1;33m=\u001b[0m \u001b[1;33m(\u001b[0m\u001b[0mr\u001b[0m\u001b[1;33m[\u001b[0m\u001b[1;36m0\u001b[0m\u001b[1;33m]\u001b[0m\u001b[1;33m,\u001b[0m\u001b[0mr\u001b[0m\u001b[1;33m[\u001b[0m\u001b[1;36m1\u001b[0m\u001b[1;33m]\u001b[0m\u001b[1;33m,\u001b[0m\u001b[0mr\u001b[0m\u001b[1;33m[\u001b[0m\u001b[1;36m2\u001b[0m\u001b[1;33m]\u001b[0m\u001b[1;33m)\u001b[0m\u001b[1;33m\u001b[0m\u001b[1;33m\u001b[0m\u001b[0m\n",
      "\u001b[1;32m~\\anaconda3\\envs\\tch\\lib\\site-packages\\skimage\\draw\\draw.py\u001b[0m in \u001b[0;36mellipse\u001b[1;34m(r, c, r_radius, c_radius, shape, rotation)\u001b[0m\n\u001b[0;32m    125\u001b[0m     \u001b[1;31m# containing the ellipse.\u001b[0m\u001b[1;33m\u001b[0m\u001b[1;33m\u001b[0m\u001b[1;33m\u001b[0m\u001b[0m\n\u001b[0;32m    126\u001b[0m     \u001b[0mradii_rot\u001b[0m \u001b[1;33m=\u001b[0m \u001b[0mnp\u001b[0m\u001b[1;33m.\u001b[0m\u001b[0marray\u001b[0m\u001b[1;33m(\u001b[0m\u001b[1;33m[\u001b[0m\u001b[0mr_radius_rot\u001b[0m\u001b[1;33m,\u001b[0m \u001b[0mc_radius_rot\u001b[0m\u001b[1;33m]\u001b[0m\u001b[1;33m)\u001b[0m\u001b[1;33m\u001b[0m\u001b[1;33m\u001b[0m\u001b[0m\n\u001b[1;32m--> 127\u001b[1;33m     \u001b[0mupper_left\u001b[0m \u001b[1;33m=\u001b[0m \u001b[0mnp\u001b[0m\u001b[1;33m.\u001b[0m\u001b[0mceil\u001b[0m\u001b[1;33m(\u001b[0m\u001b[0mcenter\u001b[0m \u001b[1;33m-\u001b[0m \u001b[0mradii_rot\u001b[0m\u001b[1;33m)\u001b[0m\u001b[1;33m.\u001b[0m\u001b[0mastype\u001b[0m\u001b[1;33m(\u001b[0m\u001b[0mint\u001b[0m\u001b[1;33m)\u001b[0m\u001b[1;33m\u001b[0m\u001b[1;33m\u001b[0m\u001b[0m\n\u001b[0m\u001b[0;32m    128\u001b[0m     \u001b[0mlower_right\u001b[0m \u001b[1;33m=\u001b[0m \u001b[0mnp\u001b[0m\u001b[1;33m.\u001b[0m\u001b[0mfloor\u001b[0m\u001b[1;33m(\u001b[0m\u001b[0mcenter\u001b[0m \u001b[1;33m+\u001b[0m \u001b[0mradii_rot\u001b[0m\u001b[1;33m)\u001b[0m\u001b[1;33m.\u001b[0m\u001b[0mastype\u001b[0m\u001b[1;33m(\u001b[0m\u001b[0mint\u001b[0m\u001b[1;33m)\u001b[0m\u001b[1;33m\u001b[0m\u001b[1;33m\u001b[0m\u001b[0m\n\u001b[0;32m    129\u001b[0m \u001b[1;33m\u001b[0m\u001b[0m\n",
      "\u001b[1;31mKeyboardInterrupt\u001b[0m: "
     ]
    }
   ],
   "source": [
    "for i in range(11000,12000,1):\n",
    "    #to prevent mistake\n",
    "    img,mask=make_noise_img()    \n",
    "    im=Image.fromarray(np.uint8(img)).convert('RGB')\n",
    "    im.save(img_path+\"%d.jpg\"%i)\n",
    "    im=Image.fromarray(mask*255)\n",
    "    im.save(img_path+f\"{i}_mask.png\")\n",
    "    if i%100==0:\n",
    "        print(f\"make image {i}/4000\")\n",
    "        "
   ]
  },
  {
   "cell_type": "code",
   "execution_count": 225,
   "metadata": {},
   "outputs": [
    {
     "data": {
      "image/png": "[encoded data removed]",
      "text/plain": [
       "<PIL.Image.Image image mode=RGB size=224x224 at 0x1B516A77648>"
      ]
     },
     "execution_count": 225,
     "metadata": {},
     "output_type": "execute_result"
    }
   ],
   "source": [
    "im"
   ]
  },
  {
   "cell_type": "code",
   "execution_count": 226,
   "metadata": {},
   "outputs": [
    {
     "data": {
      "text/plain": [
       "<matplotlib.image.AxesImage at 0x1b516a6e288>"
      ]
     },
     "execution_count": 226,
     "metadata": {},
     "output_type": "execute_result"
    },
    {
     "data": {
      "image/png": "[encoded data removed]",
      "text/plain": [
       "<Figure size 432x288 with 1 Axes>"
      ]
     },
     "metadata": {
      "needs_background": "light"
     },
     "output_type": "display_data"
    }
   ],
   "source": [
    "plt.imshow(mask)"
   ]
  },
  {
   "cell_type": "code",
   "execution_count": null,
   "metadata": {},
   "outputs": [],
   "source": []
  },
  {
   "cell_type": "code",
   "execution_count": null,
   "metadata": {},
   "outputs": [],
   "source": []
  },
  {
   "cell_type": "code",
   "execution_count": null,
   "metadata": {},
   "outputs": [],
   "source": []
  },
  {
   "cell_type": "code",
   "execution_count": 187,
   "metadata": {},
   "outputs": [],
   "source": [
    "from skimage.segmentation import flood, flood_fill\n",
    "def find_max_area(img,row,col):\n",
    "    canvas=np.zeros_like(img)\n",
    "    colors=1\n",
    "    for r in range(row):\n",
    "        for c in range(col):\n",
    "            if img[r,c]!=0 and canvas[r,c] == 0:\n",
    "                filled_checkers = flood_fill(img, (r, c), colors)\n",
    "                filled_checkers = filled_checkers==colors\n",
    "                canvas = canvas + np.uint8(filled_checkers)*colors\n",
    "                colors+=1\n",
    "    arr=[]\n",
    "    for color in range(1,colors,1):\n",
    "        arr.append((canvas==color).sum())\n",
    "    max_color=0\n",
    "    max_val=0\n",
    "    for i,val in enumerate(arr):\n",
    "        if max_val<val:\n",
    "            max_val=val\n",
    "            max_color=i\n",
    "    return canvas, max_color+1,colors"
   ]
  },
  {
   "cell_type": "code",
   "execution_count": null,
   "metadata": {},
   "outputs": [],
   "source": [
    "import os\n",
    "files=os.listdir(img_path)\n",
    "for fn in files:\n",
    "    img=Image.open(img_path+fn)\n",
    "    img=np.uint8(img)*255\n",
    "    canvas, max_color,colors=find_max_area(img,img_row,img_col)\n",
    "    mask=np.uint8(canvas==max_color)\n",
    "    im=Image.fromarray(mask*255)\n",
    "    im.save(img_path+f\"{fn.split('.')[0]}_mask.png\")"
   ]
  },
  {
   "cell_type": "code",
   "execution_count": null,
   "metadata": {},
   "outputs": [],
   "source": []
  },
  {
   "cell_type": "code",
   "execution_count": null,
   "metadata": {},
   "outputs": [],
   "source": []
  },
  {
   "cell_type": "markdown",
   "metadata": {},
   "source": [
    "## Make Noise"
   ]
  },
  {
   "cell_type": "code",
   "execution_count": 86,
   "metadata": {},
   "outputs": [
    {
     "data": {
      "text/plain": [
       "<matplotlib.image.AxesImage at 0x1b5159ec388>"
      ]
     },
     "execution_count": 86,
     "metadata": {},
     "output_type": "execute_result"
    },
    {
     "data": {
      "image/png": "[encoded data removed]",
      "text/plain": [
       "<Figure size 432x288 with 1 Axes>"
      ]
     },
     "metadata": {
      "needs_background": "light"
     },
     "output_type": "display_data"
    }
   ],
   "source": []
  },
  {
   "cell_type": "code",
   "execution_count": 87,
   "metadata": {},
   "outputs": [],
   "source": [
    "from PIL import  ImageEnhance\n",
    "PIL_image = Image.fromarray(np.uint8(img+cir)).convert('RGB')"
   ]
  },
  {
   "cell_type": "code",
   "execution_count": 92,
   "metadata": {},
   "outputs": [],
   "source": [
    "enhancer = ImageEnhance.Brightness(PIL_image)\n",
    "factor = 3 #gives original image\n",
    "im_output = enhancer.enhance(factor)"
   ]
  },
  {
   "cell_type": "code",
   "execution_count": 93,
   "metadata": {},
   "outputs": [
    {
     "data": {
      "image/png": "[encoded data removed]",
      "text/plain": [
       "<PIL.Image.Image image mode=RGB size=224x224 at 0x1B515BA0248>"
      ]
     },
     "execution_count": 93,
     "metadata": {},
     "output_type": "execute_result"
    }
   ],
   "source": [
    "im_output"
   ]
  },
  {
   "cell_type": "code",
   "execution_count": null,
   "metadata": {},
   "outputs": [],
   "source": [
    "plt.imshow(cir)"
   ]
  },
  {
   "cell_type": "code",
   "execution_count": null,
   "metadata": {},
   "outputs": [],
   "source": [
    "plt.imshow(img)"
   ]
  },
  {
   "cell_type": "code",
   "execution_count": 22,
   "metadata": {},
   "outputs": [
    {
     "data": {
      "text/plain": [
       "array([[[  0,   0,   0],\n",
       "        [  0,   0,   0],\n",
       "        [  0,   0,   0],\n",
       "        ...,\n",
       "        [255, 255, 255],\n",
       "        [255, 255, 255],\n",
       "        [255, 255, 255]],\n",
       "\n",
       "       [[  0,   0,   0],\n",
       "        [  0,   0,   0],\n",
       "        [  0,   0,   0],\n",
       "        ...,\n",
       "        [255, 255, 255],\n",
       "        [255, 255, 255],\n",
       "        [255, 255, 255]],\n",
       "\n",
       "       [[  0,   0,   0],\n",
       "        [  0,   0,   0],\n",
       "        [  0,   0,   0],\n",
       "        ...,\n",
       "        [255, 255, 255],\n",
       "        [255, 255, 255],\n",
       "        [255, 255, 255]],\n",
       "\n",
       "       ...,\n",
       "\n",
       "       [[  0,   0,   0],\n",
       "        [  0,   0,   0],\n",
       "        [  0,   0,   0],\n",
       "        ...,\n",
       "        [  0,   0,   0],\n",
       "        [  0,   0,   0],\n",
       "        [  0,   0,   0]],\n",
       "\n",
       "       [[255, 255, 255],\n",
       "        [255, 255, 255],\n",
       "        [255, 255, 255],\n",
       "        ...,\n",
       "        [  0,   0,   0],\n",
       "        [  0,   0,   0],\n",
       "        [  0,   0,   0]],\n",
       "\n",
       "       [[255, 255, 255],\n",
       "        [255, 255, 255],\n",
       "        [255, 255, 255],\n",
       "        ...,\n",
       "        [  0,   0,   0],\n",
       "        [  0,   0,   0],\n",
       "        [  0,   0,   0]]], dtype=uint8)"
      ]
     },
     "execution_count": 22,
     "metadata": {},
     "output_type": "execute_result"
    }
   ],
   "source": [
    "cir"
   ]
  },
  {
   "cell_type": "code",
   "execution_count": 41,
   "metadata": {},
   "outputs": [
    {
     "data": {
      "text/plain": [
       "0.0"
      ]
     },
     "execution_count": 41,
     "metadata": {},
     "output_type": "execute_result"
    }
   ],
   "source": [
    "img.min()"
   ]
  },
  {
   "cell_type": "markdown",
   "metadata": {},
   "source": [
    "## Make random image"
   ]
  },
  {
   "cell_type": "code",
   "execution_count": null,
   "metadata": {},
   "outputs": [],
   "source": []
  },
  {
   "cell_type": "code",
   "execution_count": null,
   "metadata": {},
   "outputs": [],
   "source": []
  },
  {
   "cell_type": "markdown",
   "metadata": {},
   "source": [
    "## My Test"
   ]
  },
  {
   "cell_type": "code",
   "execution_count": null,
   "metadata": {},
   "outputs": [],
   "source": [
    "fn=img_path+\"10000.png\"\n",
    "img=Image.open(fn)\n",
    "\n",
    "f,ax=plt.subplots(1,3,figsize=(14,8))\n",
    "ax[0].imshow(img)\n",
    "img=np.uint8(img)*255\n",
    "ax[1].imshow(img)\n",
    "canvas, max_color,colors=find_max_area(img,img_row,img_col)\n",
    "ax[2].imshow((canvas==max_color))\n"
   ]
  },
  {
   "cell_type": "markdown",
   "metadata": {},
   "source": [
    "## make mask from image"
   ]
  },
  {
   "cell_type": "code",
   "execution_count": null,
   "metadata": {},
   "outputs": [],
   "source": [
    "\n",
    "    \n"
   ]
  },
  {
   "cell_type": "code",
   "execution_count": null,
   "metadata": {},
   "outputs": [],
   "source": [
    "fn.split('.')\n"
   ]
  },
  {
   "cell_type": "code",
   "execution_count": null,
   "metadata": {},
   "outputs": [],
   "source": [
    "canvas.sum(),mask.sum()"
   ]
  },
  {
   "cell_type": "code",
   "execution_count": null,
   "metadata": {},
   "outputs": [],
   "source": [
    "colors=1\n",
    "for r in range(row):\n",
    "    for c in range(col):\n",
    "        if img[r,c]!=0 and canvas[r,c] == 0:\n",
    "            filled_checkers = flood_fill(img, (r, c), colors, tolerance=10)\n",
    "            filled_checkers = filled_checkers==colors\n",
    "            canvas = canvas + np.uint8(filled_checkers)*colors\n",
    "            colors+=1\n"
   ]
  },
  {
   "cell_type": "code",
   "execution_count": null,
   "metadata": {},
   "outputs": [],
   "source": [
    "canvas.max()"
   ]
  },
  {
   "cell_type": "code",
   "execution_count": null,
   "metadata": {},
   "outputs": [],
   "source": [
    "import numpy as np\n",
    "import matplotlib.pyplot as plt\n",
    "from skimage import data, filters\n",
    "from skimage.segmentation import flood, flood_fill\n",
    "\n",
    "\n",
    "checkers = img#data.checkerboard()\n",
    "\n",
    "# Fill a square near the middle with value 127, starting at index (76, 76)\n",
    "filled_checkers = flood_fill(checkers, (276, 276), 127)\n",
    "\n",
    "fig, ax = plt.subplots(ncols=2, figsize=(10, 5))\n",
    "\n",
    "ax[0].imshow(checkers, cmap=plt.cm.gray)\n",
    "ax[0].set_title('Original')\n",
    "ax[0].axis('off')\n",
    "\n",
    "ax[1].imshow(filled_checkers, cmap=plt.cm.gray)\n",
    "ax[1].plot(76, 76, 'wo')  # seed point\n",
    "ax[1].set_title('After flood fill')\n",
    "ax[1].axis('off')\n",
    "\n",
    "plt.show()"
   ]
  },
  {
   "cell_type": "code",
   "execution_count": null,
   "metadata": {},
   "outputs": [],
   "source": []
  },
  {
   "cell_type": "code",
   "execution_count": null,
   "metadata": {},
   "outputs": [],
   "source": [
    "from skimage.draw import polygon\n",
    "from skimage.draw import (line, polygon, disk,\n",
    "                          circle_perimeter,\n",
    "                          ellipse, ellipse_perimeter,\n",
    "                          bezier_curve)\n",
    "\n",
    "fig, (ax1, ax2) = plt.subplots(ncols=2, nrows=1, figsize=(10, 6))\n",
    "img = np.zeros((500, 500, 3), dtype=np.double)\n",
    "\n",
    "\n",
    "# fill polygon\n",
    "poly = np.array((\n",
    "    (300, 300),\n",
    "    (480, 320),\n",
    "    (380, 430),\n",
    "    (220, 590),\n",
    "    (300, 300),\n",
    "))\n",
    "# rr, cc = polygon(poly[:, 0], poly[:, 1], img.shape)\n",
    "# img[rr, cc, 1] = 1\n",
    "\n",
    "# fill circle\n",
    "rr, cc = disk((200, 200), 100, shape=img.shape)\n",
    "img[rr, cc, :] = (1, 1, 0)\n",
    "\n",
    "# fill ellipse\n",
    "rr, cc = ellipse(300, 300, 100, 200, img.shape)\n",
    "img[rr, cc, 2] = 1\n",
    "\n",
    "ax1.imshow(img)\n",
    "ax1.set_title('No anti-aliasing')\n",
    "ax1.axis('off')"
   ]
  },
  {
   "cell_type": "code",
   "execution_count": null,
   "metadata": {},
   "outputs": [],
   "source": [
    "import skimage\n",
    "max_size = 50 # Assuming it's square\n",
    "max_vertices = 6 # length of your coord vector\n",
    "coords = np.random.randint(0,high=max_size, size=[2, max_vertices])\n",
    "# Here you got all the coordinates laying inside the polygon\n",
    "rr, cc = skimage.draw.polygon(coords)\n",
    "\n",
    "# Now you have to pick an element from rr and the corresponding from cc\n",
    "# The simplest way is to pick its position in rr or cc\n",
    "random_index = np.random.choice(list(range(len(rr))))\n",
    "random_point = (rr[random_index], cc[random_index])"
   ]
  },
  {
   "cell_type": "code",
   "execution_count": null,
   "metadata": {},
   "outputs": [],
   "source": [
    "import skimage"
   ]
  },
  {
   "cell_type": "code",
   "execution_count": null,
   "metadata": {},
   "outputs": [],
   "source": [
    ">>> image_shape = (128, 128)\n",
    ">>> polygon = np.array([[60, 100], [100, 40], [40, 40]])\n",
    ">>> mask = polygon2mask(image_shape, polygon)\n",
    ">>> mask.shape\n",
    "(128, 128)"
   ]
  },
  {
   "cell_type": "code",
   "execution_count": null,
   "metadata": {},
   "outputs": [],
   "source": []
  },
  {
   "cell_type": "code",
   "execution_count": null,
   "metadata": {},
   "outputs": [],
   "source": []
  },
  {
   "cell_type": "code",
   "execution_count": null,
   "metadata": {},
   "outputs": [],
   "source": []
  },
  {
   "cell_type": "code",
   "execution_count": null,
   "metadata": {},
   "outputs": [],
   "source": []
  },
  {
   "cell_type": "code",
   "execution_count": null,
   "metadata": {},
   "outputs": [],
   "source": [
    "def imshow(title, img,cmap=\"gray\"):\n",
    "    plt.title(title)\n",
    "    plt.imshow(img,cmap=cmap)"
   ]
  },
  {
   "cell_type": "code",
   "execution_count": null,
   "metadata": {},
   "outputs": [],
   "source": [
    "f,ax=plt.subplots(1,2,figsize=(15,7))\n",
    "ax[0].imshow(img)\n",
    "ax[1].imshow(thresh,cmap=\"gray\")"
   ]
  },
  {
   "cell_type": "code",
   "execution_count": null,
   "metadata": {},
   "outputs": [],
   "source": [
    "params = cv2.SimpleBlobDetector_Params()\n",
    "params.minThreshold = 10\n",
    "params.maxThreshold = 255\n",
    "params.filterByArea = False\n",
    "params.filterByCircularity = False\n",
    "params.filterByConvexity = False\n",
    "params.filterByInertia = False\n",
    "\n",
    "# params.minArea = 1\n",
    "        \n",
    "detector = cv2.SimpleBlobDetector_create(params) # Blob detector 선언\n",
    "keypoints = detector.detect(thresh)  # Blob labeling 수행\n"
   ]
  },
  {
   "cell_type": "code",
   "execution_count": null,
   "metadata": {},
   "outputs": [],
   "source": [
    "len(keypoints)"
   ]
  },
  {
   "cell_type": "code",
   "execution_count": null,
   "metadata": {},
   "outputs": [],
   "source": [
    "im_with_keypoints = \\\n",
    "cv2.drawKeypoints(thresh, keypoints, np.array([]), (255, 0, 0),\n",
    "                  cv2.DRAW_MATCHES_FLAGS_DRAW_RICH_KEYPOINTS)  # 원본 이미지에 찾은 blob 그리기\n",
    "\n",
    "plt.figure(figsize=(7,7))\n",
    "plt.imshow(im_with_keypoints)\n",
    "plt.title('Coin keypoint', size=15)\n",
    "plt.show()"
   ]
  },
  {
   "cell_type": "code",
   "execution_count": null,
   "metadata": {},
   "outputs": [],
   "source": [
    "sns.countplot(thresh.flatten())"
   ]
  },
  {
   "cell_type": "code",
   "execution_count": null,
   "metadata": {},
   "outputs": [],
   "source": [
    "num_labels, labels_im = cv2.connectedComponents(thresh)\n",
    "\n",
    "def imshow_components(labels):\n",
    "    # Map component labels to hue val\n",
    "    label_hue = np.uint8(179*labels/np.max(labels))\n",
    "    blank_ch = 255*np.ones_like(label_hue)\n",
    "    labeled_img = cv2.merge([label_hue, blank_ch, blank_ch])\n",
    "\n",
    "    # cvt to BGR for display\n",
    "    labeled_img = cv2.cvtColor(labeled_img, cv2.COLOR_HSV2BGR)\n",
    "\n",
    "    # set bg label to black\n",
    "    labeled_img[label_hue==0] = 0\n",
    "\n",
    "    imshow('labeled.png', labeled_img)\n",
    "\n",
    "imshow_components(labels_im)"
   ]
  },
  {
   "cell_type": "code",
   "execution_count": null,
   "metadata": {},
   "outputs": [],
   "source": [
    "sns.countplot(labels_im.flatten())"
   ]
  },
  {
   "cell_type": "code",
   "execution_count": null,
   "metadata": {},
   "outputs": [],
   "source": [
    "df=pd.DataFrame({\"a\":labels_im.flatten()})"
   ]
  },
  {
   "cell_type": "code",
   "execution_count": null,
   "metadata": {},
   "outputs": [],
   "source": [
    "tar=df.a.value_counts()[:4].index.tolist()[1]"
   ]
  },
  {
   "cell_type": "code",
   "execution_count": null,
   "metadata": {},
   "outputs": [],
   "source": [
    "imshow(\"sel\",(labels_im==tar).astype(np.uint8))"
   ]
  },
  {
   "cell_type": "code",
   "execution_count": null,
   "metadata": {},
   "outputs": [],
   "source": [
    "imshow(\"origin\",img)"
   ]
  },
  {
   "cell_type": "markdown",
   "metadata": {},
   "source": [
    "## Threshold Range"
   ]
  },
  {
   "cell_type": "code",
   "execution_count": null,
   "metadata": {},
   "outputs": [],
   "source": [
    "import cv2\n",
    "import numpy as np\n",
    "from matplotlib import pyplot as plt\n",
    "import seaborn as sns\n",
    "import pandas as pd\n",
    "\n",
    "img = cv2.imread('threshold.jpg')#io.imread('https://i.stack.imgur.com/J46nA.jpg')\n",
    "gray = cv2.cvtColor(img, cv2.COLOR_BGR2GRAY)\n"
   ]
  },
  {
   "cell_type": "code",
   "execution_count": null,
   "metadata": {},
   "outputs": [],
   "source": [
    "\n",
    "# Use fixed threshold to mask black areas\n",
    "_, thresh = cv2.threshold(gray, 90, 255, cv2.THRESH_BINARY)\n",
    "_, thresh2 = cv2.threshold(gray, 110, 255, cv2.THRESH_BINARY)\n",
    "thresh3=thresh-thresh2"
   ]
  },
  {
   "cell_type": "code",
   "execution_count": null,
   "metadata": {},
   "outputs": [],
   "source": [
    "f,ax=plt.subplots(1,3,figsize=(15,6))\n",
    "ax[0].imshow(thresh,cmap=\"gray\")\n",
    "ax[1].imshow(thresh2,cmap=\"gray\")\n",
    "ax[2].imshow(thresh3,cmap=\"gray\")"
   ]
  },
  {
   "cell_type": "code",
   "execution_count": null,
   "metadata": {},
   "outputs": [],
   "source": [
    "plt.imshow(thresh2,cmap=\"gray\")"
   ]
  },
  {
   "cell_type": "code",
   "execution_count": null,
   "metadata": {},
   "outputs": [],
   "source": [
    "255-gray"
   ]
  },
  {
   "cell_type": "code",
   "execution_count": null,
   "metadata": {},
   "outputs": [],
   "source": []
  }
 ],
 "metadata": {
  "kernelspec": {
   "display_name": "Python 3",
   "language": "python",
   "name": "python3"
  },
  "language_info": {
   "codemirror_mode": {
    "name": "ipython",
    "version": 3
   },
   "file_extension": ".py",
   "mimetype": "text/x-python",
   "name": "python",
   "nbconvert_exporter": "python",
   "pygments_lexer": "ipython3",
   "version": "3.7.7"
  }
 },
 "nbformat": 4,
 "nbformat_minor": 4
}
