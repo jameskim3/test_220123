{
 "cells": [
  {
   "cell_type": "code",
   "execution_count": 1,
   "metadata": {},
   "outputs": [],
   "source": [
    "import pandas as pd\n",
    "import numpy as np\n",
    "import seaborn as sns\n",
    "import matplotlib.pyplot as plt\n",
    "from scipy import stats\n",
    "from  scipy.stats import norm,skew\n",
    "import time"
   ]
  },
  {
   "cell_type": "code",
   "execution_count": 72,
   "metadata": {},
   "outputs": [],
   "source": [
    "train=pd.read_csv(\"data/train.csv\", parse_dates=[\"datetime\"])\n",
    "test=pd.read_csv(\"data/test.csv\", parse_dates=[\"datetime\"])\n",
    "train[\"cnt\"]=train[\"count\"]\n",
    "train.drop([\"count\"],axis=1,inplace=True)"
   ]
  },
  {
   "cell_type": "code",
   "execution_count": 73,
   "metadata": {},
   "outputs": [
    {
     "name": "stdout",
     "output_type": "stream",
     "text": [
      "10886 6493\n"
     ]
    }
   ],
   "source": [
    "n_train=train.shape[0]\n",
    "n_test=test.shape[0]\n",
    "y_train=train.cnt.values\n",
    "test_id=test.datetime\n",
    "print (n_train,n_test)"
   ]
  },
  {
   "cell_type": "code",
   "execution_count": 74,
   "metadata": {},
   "outputs": [],
   "source": [
    "target_col=[\"casual\",\"registered\",\"cnt\"]\n",
    "for col in target_col:\n",
    "    train[\"%s_log\"%col]=np.log(train[col]+1)"
   ]
  },
  {
   "cell_type": "code",
   "execution_count": 75,
   "metadata": {},
   "outputs": [],
   "source": [
    "for df in [train,test]:\n",
    "    df[\"year\"],df[\"month\"],df[\"hour\"],df[\"dayofweek\"]=\\\n",
    "        df.datetime.dt.year,df.datetime.dt.month,\\\n",
    "        df.datetime.dt.hour,df.datetime.dt.dayofweek"
   ]
  },
  {
   "cell_type": "code",
   "execution_count": 76,
   "metadata": {},
   "outputs": [],
   "source": [
    "all_data= [train,test]"
   ]
  },
  {
   "cell_type": "code",
   "execution_count": 77,
   "metadata": {},
   "outputs": [],
   "source": [
    "for df in all_data:\n",
    "    df[\"year_season\"]=df[\"year\"]+df[\"season\"]/10"
   ]
  },
  {
   "cell_type": "code",
   "execution_count": 78,
   "metadata": {},
   "outputs": [],
   "source": [
    "for df in all_data:\n",
    "    df[\"hour_workingday_casual\"]=df[[\"hour\"]].apply(\n",
    "        lambda x : int (10<=x[\"hour\"]<=19),axis=1)"
   ]
  },
  {
   "cell_type": "code",
   "execution_count": 79,
   "metadata": {},
   "outputs": [],
   "source": [
    "for df in all_data:\n",
    "    df[\"hour_working_registered\"]=df[[\"hour\",\"workingday\"]].apply(\n",
    "    lambda x : int (\n",
    "                (x[\"workingday\"]==1 and (x[\"hour\"]==8 or 17<=x[\"hour\"]<=18))\n",
    "                or (x[\"workingday\"]==0 and 10<=x[\"hour\"]<=19)), axis=1)"
   ]
  },
  {
   "cell_type": "code",
   "execution_count": 80,
   "metadata": {},
   "outputs": [],
   "source": [
    "by_season=train.groupby(\"year_season\")[[\"cnt\"]].median()"
   ]
  },
  {
   "cell_type": "code",
   "execution_count": 81,
   "metadata": {},
   "outputs": [],
   "source": [
    "by_season.columns=[\"count_season\"]"
   ]
  },
  {
   "cell_type": "code",
   "execution_count": 82,
   "metadata": {},
   "outputs": [],
   "source": [
    "train=train.join(by_season,on=\"year_season\")\n",
    "test=test.join(by_season,on=\"year_season\")"
   ]
  },
  {
   "cell_type": "code",
   "execution_count": 87,
   "metadata": {},
   "outputs": [
    {
     "name": "stderr",
     "output_type": "stream",
     "text": [
      "c:\\python\\python36\\lib\\site-packages\\sklearn\\ensemble\\weight_boosting.py:29: DeprecationWarning: numpy.core.umath_tests is an internal NumPy module and should not be imported. It will be removed in a future NumPy release.\n",
      "  from numpy.core.umath_tests import inner1d\n"
     ]
    }
   ],
   "source": [
    "from sklearn.ensemble import RandomForestRegressor, GradientBoostingRegressor"
   ]
  },
  {
   "cell_type": "code",
   "execution_count": 93,
   "metadata": {},
   "outputs": [],
   "source": [
    "def rmsle(y, y_pred):\n",
    "    return np.sqrt(np.mean(np.square(np.log(y + 1) - np.log(y_pred + 1))))"
   ]
  },
  {
   "cell_type": "code",
   "execution_count": 94,
   "metadata": {},
   "outputs": [],
   "source": [
    "preds={}\n",
    "regs={\"gbt\":GradientBoostingRegressor(random_state=10),\n",
    "     \"rf\":RandomForestRegressor(random_state=0,n_jobs=-1)}"
   ]
  },
  {
   "cell_type": "code",
   "execution_count": 97,
   "metadata": {},
   "outputs": [
    {
     "name": "stdout",
     "output_type": "stream",
     "text": [
      "gbt 1.0138250367012605\n",
      "rf 0.9892892189048377\n"
     ]
    }
   ],
   "source": [
    "for name,reg in regs.items():\n",
    "    features=[\"season\",\"holiday\",\"workingday\",\"weather\",\n",
    "             \"temp\",\"atemp\",\"humidity\",\"windspeed\",\"year\",\"hour\",\n",
    "             \"dayofweek\",\"hour_workingday_casual\",\"count_season\"]\n",
    "    if name==\"gbt\":\n",
    "        reg.set_params(n_estimators=1000,min_samples_leaf=6)\n",
    "    elif name==\"rf\":\n",
    "        reg.set_params(n_estimators=1000,min_samples_leaf=2)\n",
    "    reg.fit(train[features],train[\"casual_log\"])    \n",
    "    pred_casual=reg.predict(test[features])\n",
    "    pred_casual=np.exp(pred_casual)-1\n",
    "    pred_casual[pred_casual<0]=0\n",
    "    \n",
    "    train_pred_casual=reg.predict(train[features])\n",
    "    train_pred_casual=np.exp(train_pred_casual)-1\n",
    "    \n",
    "    features=[\"season\",\"holiday\",\"workingday\",\"weather\",\n",
    "             \"temp\",\"atemp\",\"humidity\",\"windspeed\",\"year\",\"hour\",\n",
    "             \"dayofweek\",\"hour_working_registered\",\"count_season\"]\n",
    "    if name==\"gbt\":\n",
    "        reg.set_params(n_estimators=1000,min_samples_leaf=6)\n",
    "    elif name==\"rf\":\n",
    "        reg.set_params(n_estimators=1000,min_samples_leaf=2)\n",
    "    reg.fit(train[features],train[\"registered_log\"])\n",
    "    pred_registered=reg.predict(test[features])\n",
    "    pred_registered=np.exp(pred_registered)-1\n",
    "    pred_registered[pred_registered<0]=0\n",
    "    preds[name]=pred_casual+pred_registered\n",
    "\n",
    "    train_pred_registered=reg.predict(train[features])\n",
    "    train_pred_registered=np.exp(train_pred_registered)-1\n",
    "    print(name,rmsle(train_pred_casual*0.7+train_pred_registered*0.3, y_train))\n",
    "    \n",
    "    \n",
    "pred=0.7*preds[\"gbt\"]+0.3*preds[\"rf\"]    "
   ]
  },
  {
   "cell_type": "code",
   "execution_count": 98,
   "metadata": {},
   "outputs": [],
   "source": [
    "sub = pd.DataFrame()\n",
    "sub['datetime'] = test_id\n",
    "sub['count'] = pred\n",
    "\n",
    "from datetime import datetime\n",
    "now=datetime.now()\n",
    "sub.to_csv(\"data/{0:02d}{1:02d}{2:02d}{3:02d}_ensemble_submission.csv\".format(now.year,now.month,now.day,now.hour),index=False)"
   ]
  },
  {
   "cell_type": "code",
   "execution_count": null,
   "metadata": {},
   "outputs": [],
   "source": []
  },
  {
   "cell_type": "code",
   "execution_count": 99,
   "metadata": {},
   "outputs": [
    {
     "data": {
      "text/plain": [
       "0.007382343894186404"
      ]
     },
     "execution_count": 99,
     "metadata": {},
     "output_type": "execute_result"
    }
   ],
   "source": [
    "24/3251"
   ]
  },
  {
   "cell_type": "code",
   "execution_count": null,
   "metadata": {},
   "outputs": [],
   "source": []
  }
 ],
 "metadata": {
  "kernelspec": {
   "display_name": "Python 3",
   "language": "python",
   "name": "python3"
  },
  "language_info": {
   "codemirror_mode": {
    "name": "ipython",
    "version": 3
   },
   "file_extension": ".py",
   "mimetype": "text/x-python",
   "name": "python",
   "nbconvert_exporter": "python",
   "pygments_lexer": "ipython3",
   "version": "3.6.4"
  }
 },
 "nbformat": 4,
 "nbformat_minor": 2
}
