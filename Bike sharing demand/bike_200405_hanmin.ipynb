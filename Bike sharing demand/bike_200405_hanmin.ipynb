{
 "cells": [
  {
   "cell_type": "code",
   "execution_count": null,
   "metadata": {},
   "outputs": [],
   "source": [
    "import numpy as np\n",
    "import pandas as pd\n",
    "from sklearn.ensemble import RandomForestRegressor, GradientBoostingRegressor\n",
    "\n",
    "train = pd.read_csv(\"../input/bike-sharing-demand/train.csv\")\n",
    "test = pd.read_csv(\"../input/bike-sharing-demand/test.csv\")\n",
    "for col in ['casual', 'registered', 'count']:\n",
    "    train['%s_log' % col] = np.log(train[col] + 1)\n",
    "for df in [train, test]:\n",
    "    date = pd.DatetimeIndex(df['datetime'])\n",
    "    df['year'], df['month'], df['hour'], df['dayofweek'] = \\\n",
    "        date.year, date.month, date.hour, date.dayofweek\n",
    "    df['year_season'] = df['year'] + df['season'] / 10\n",
    "    df['hour_workingday_casual'] = df[['hour', 'workingday']].apply(\n",
    "        lambda x: int(10 <= x['hour'] <= 19), axis=1)\n",
    "    df['hour_workingday_registered'] = df[['hour', 'workingday']].apply(\n",
    "      lambda x: int(\n",
    "        (x['workingday'] == 1 and (x['hour'] == 8 or 17 <= x['hour'] <= 18))\n",
    "        or (x['workingday'] == 0 and 10 <= x['hour'] <= 19)), axis=1)\n",
    "by_season = train.groupby('year_season')[['count']].median()\n",
    "by_season.columns = ['count_season']\n",
    "train = train.join(by_season, on='year_season')\n",
    "test = test.join(by_season, on='year_season')\n",
    "\n",
    "preds = {}\n",
    "regs = {\"gbdt\": GradientBoostingRegressor(random_state=0),\n",
    "        \"rf\": RandomForestRegressor(random_state=0, n_jobs=-1)}\n",
    "for name, reg in regs.items():\n",
    "    features = ['season', 'holiday', 'workingday', 'weather',\n",
    "                'temp', 'atemp', 'humidity', 'windspeed', 'year', 'hour',\n",
    "                'dayofweek', 'hour_workingday_casual', 'count_season']\n",
    "    if name == 'gbdt':\n",
    "        reg.set_params(n_estimators=1000, min_samples_leaf=6)\n",
    "    elif name == 'rf':\n",
    "        reg.set_params(n_estimators=1000, min_samples_leaf=2)\n",
    "    reg.fit(train[features], train['casual_log'])\n",
    "    pred_casual = reg.predict(test[features])\n",
    "    pred_casual = np.exp(pred_casual) - 1\n",
    "    pred_casual[pred_casual < 0] = 0\n",
    "    features = ['season', 'holiday', 'workingday', 'weather',\n",
    "                'temp', 'atemp', 'humidity', 'windspeed', 'year', 'hour',\n",
    "                'dayofweek', 'hour_workingday_registered', 'count_season']\n",
    "    if name == 'gbdt':\n",
    "        reg.set_params(n_estimators=1000, min_samples_leaf=6)\n",
    "    elif name == 'rf':\n",
    "        reg.set_params(n_estimators=1000, min_samples_leaf=2)\n",
    "    reg.fit(train[features], train['registered_log'])\n",
    "    pred_registered = reg.predict(test[features])\n",
    "    pred_registered = np.exp(pred_registered) - 1\n",
    "    pred_registered[pred_registered < 0] = 0\n",
    "    preds[name] = pred_casual + pred_registered\n",
    "pred = 0.7 * preds['gbdt'] + 0.3 * preds['rf']\n",
    "submission = pd.DataFrame({'datetime': test.datetime, 'count': pred},\n",
    "                          columns=['datetime', 'count'])\n",
    "submission.to_csv(\"submission.csv\", index=False)"
   ]
  }
 ],
 "metadata": {
  "kernelspec": {
   "display_name": "Python 3",
   "language": "python",
   "name": "python3"
  },
  "language_info": {
   "codemirror_mode": {
    "name": "ipython",
    "version": 3
   },
   "file_extension": ".py",
   "mimetype": "text/x-python",
   "name": "python",
   "nbconvert_exporter": "python",
   "pygments_lexer": "ipython3",
   "version": "3.6.4"
  }
 },
 "nbformat": 4,
 "nbformat_minor": 2
}
