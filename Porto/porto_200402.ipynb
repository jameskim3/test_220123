{
 "cells": [
  {
   "cell_type": "code",
   "execution_count": null,
   "metadata": {},
   "outputs": [],
   "source": [
    "import pandas as pd\n",
    "import numpy as np\n",
    "train=pd.read_csv(\"data/train.csv\",na_values=[\"-1\",\"-1.0\"])\n",
    "test=pd.read_csv(\"data/test.csv\",na_values=[\"-1\",\"-1.0\"])\n",
    "\n",
    "train.shape,test.shape"
   ]
  },
  {
   "cell_type": "code",
   "execution_count": null,
   "metadata": {},
   "outputs": [],
   "source": [
    "import matplotlib.pyplot as plt\n",
    "import seaborn as sns"
   ]
  },
  {
   "cell_type": "code",
   "execution_count": null,
   "metadata": {},
   "outputs": [],
   "source": [
    "train.head()"
   ]
  },
  {
   "cell_type": "code",
   "execution_count": null,
   "metadata": {},
   "outputs": [],
   "source": [
    "train.info()"
   ]
  },
  {
   "cell_type": "code",
   "execution_count": null,
   "metadata": {},
   "outputs": [],
   "source": [
    "train.describe()"
   ]
  },
  {
   "cell_type": "code",
   "execution_count": null,
   "metadata": {},
   "outputs": [],
   "source": [
    "train.target.sum()/train.shape[0]"
   ]
  },
  {
   "cell_type": "code",
   "execution_count": null,
   "metadata": {},
   "outputs": [],
   "source": [
    "binary = ['ps_ind_06_bin', 'ps_ind_07_bin', 'ps_ind_08_bin', 'ps_ind_09_bin', 'ps_ind_10_bin', 'ps_ind_11_bin',\n",
    "          'ps_ind_12_bin', 'ps_ind_13_bin', 'ps_ind_16_bin', 'ps_ind_17_bin', 'ps_ind_18_bin', 'ps_calc_15_bin', \n",
    "          'ps_calc_16_bin', 'ps_calc_17_bin', 'ps_calc_18_bin', 'ps_calc_19_bin', 'ps_calc_20_bin']\n",
    "# 범주형 변수\n",
    "category = ['ps_ind_02_cat', 'ps_ind_04_cat', 'ps_ind_05_cat', 'ps_car_01_cat', 'ps_car_02_cat', 'ps_car_03_cat', \n",
    "            'ps_car_04_cat', 'ps_car_05_cat', 'ps_car_06_cat', 'ps_car_07_cat', 'ps_car_08_cat', 'ps_car_09_cat', \n",
    "            'ps_car_10_cat', 'ps_car_11_cat']\n",
    "# 정수형 변수\n",
    "integer = ['ps_ind_01', 'ps_ind_03', 'ps_ind_14', 'ps_ind_15', 'ps_calc_04', 'ps_calc_05', 'ps_calc_06', \n",
    "           'ps_calc_07', 'ps_calc_08', 'ps_calc_09', 'ps_calc_10', 'ps_calc_11', 'ps_calc_12', 'ps_calc_13', \n",
    "           'ps_calc_14', 'ps_car_11']\n",
    "# 소수형 변수\n",
    "floats = ['ps_reg_01', 'ps_reg_02', 'ps_reg_03', 'ps_calc_01', 'ps_calc_02', 'ps_calc_03', 'ps_car_12', 'ps_car_13',\n",
    "          'ps_car_14', 'ps_car_15']"
   ]
  },
  {
   "cell_type": "markdown",
   "metadata": {},
   "source": [
    "## 단일 변수 히스토그램"
   ]
  },
  {
   "cell_type": "code",
   "execution_count": null,
   "metadata": {},
   "outputs": [],
   "source": [
    "test[\"target\"]=np.nan\n",
    "all_data=pd.concat([train,test],axis=0)"
   ]
  },
  {
   "cell_type": "code",
   "execution_count": null,
   "metadata": {},
   "outputs": [],
   "source": [
    "def bar_plot(col,data,hue=None):\n",
    "    f,ax=plt.subplots(figsize=(10,5))\n",
    "    sns.countplot(x=col,hue=hue,data=data,alpha=0.5)\n",
    "    plt.show()\n",
    "def dist_plot(col,data):\n",
    "    f,ax=plt.subplots(figsize=(10,5))\n",
    "    sns.distplot(data[col].dropna(),kde=False,bins=10)\n",
    "    plt.show()   "
   ]
  },
  {
   "cell_type": "code",
   "execution_count": null,
   "metadata": {},
   "outputs": [],
   "source": [
    "for col in binary+category+integer:\n",
    "    bar_plot(col,train)"
   ]
  },
  {
   "cell_type": "code",
   "execution_count": null,
   "metadata": {},
   "outputs": [],
   "source": [
    "for col in floats:\n",
    "    dist_plot(col,train)"
   ]
  },
  {
   "cell_type": "markdown",
   "metadata": {},
   "source": [
    "## 변수간 상관 관계"
   ]
  },
  {
   "cell_type": "code",
   "execution_count": null,
   "metadata": {},
   "outputs": [],
   "source": [
    "corr=all_data.corr()\n",
    "cmap=sns.color_palette(\"Blues\")\n",
    "f,ax=plt.subplots(figsize=(10,7))\n",
    "sns.heatmap(corr,cmap=cmap)"
   ]
  },
  {
   "cell_type": "code",
   "execution_count": null,
   "metadata": {},
   "outputs": [],
   "source": [
    "features = ['ps_ind_06_bin', 'ps_ind_07_bin', 'ps_ind_08_bin', 'ps_ind_09_bin', \n",
    "          'ps_ind_12_bin', 'ps_ind_13_bin', 'ps_ind_16_bin', 'ps_ind_17_bin', 'ps_ind_18_bin',\n",
    "          'ps_ind_02_cat', 'ps_ind_04_cat', 'ps_ind_05_cat', 'ps_car_01_cat', 'ps_car_02_cat', 'ps_car_03_cat', \n",
    "          'ps_car_04_cat', 'ps_car_05_cat', 'ps_car_06_cat', 'ps_car_07_cat', 'ps_car_08_cat', 'ps_car_09_cat', \n",
    "          'ps_car_11_cat', 'ps_ind_01', 'ps_ind_03', 'ps_ind_14', 'ps_ind_15', 'ps_car_11',\n",
    "          'ps_reg_01', 'ps_reg_02', 'ps_reg_03', 'ps_car_12', 'ps_car_13',\n",
    "          'ps_car_14', 'ps_car_15']"
   ]
  },
  {
   "cell_type": "code",
   "execution_count": null,
   "metadata": {},
   "outputs": [],
   "source": [
    "corr_sub=all_data[features].corr()\n",
    "f,ax=plt.subplots(figsize=(10,7))\n",
    "sns.heatmap(corr_sub,cmap=cmap)"
   ]
  },
  {
   "cell_type": "markdown",
   "metadata": {},
   "source": [
    "## 단일 변수 vs 타겟 변수"
   ]
  },
  {
   "cell_type": "code",
   "execution_count": null,
   "metadata": {},
   "outputs": [],
   "source": [
    "def bar_plot_ci(col,data):\n",
    "    f,ax=plt.subplots(figsize=(10,5))\n",
    "    sns.barplot(x=col,y=\"target\",data=data)\n",
    "    plt.show()"
   ]
  },
  {
   "cell_type": "code",
   "execution_count": null,
   "metadata": {},
   "outputs": [],
   "source": [
    "for col in binary+category+integer:\n",
    "    bar_plot_ci(col,all_data)"
   ]
  },
  {
   "cell_type": "code",
   "execution_count": null,
   "metadata": {},
   "outputs": [],
   "source": [
    "tar=[\"ps_ind_16_bin\",\"ps_ind_06_bin\",\"ps_ind_11_bin\",\"ps_calc_18_bin\"]\n",
    "for col in tar:\n",
    "    bar_plot_ci(col,all_data)"
   ]
  },
  {
   "cell_type": "code",
   "execution_count": null,
   "metadata": {},
   "outputs": [],
   "source": [
    "features = ['ps_ind_06_bin', 'ps_ind_07_bin', 'ps_ind_08_bin', 'ps_ind_09_bin', 'ps_ind_12_bin', \n",
    "            'ps_ind_16_bin', 'ps_ind_17_bin', 'ps_ind_18_bin', 'ps_ind_04_cat', 'ps_ind_05_cat', \n",
    "            'ps_car_01_cat', 'ps_car_02_cat', 'ps_car_03_cat', 'ps_car_04_cat', 'ps_car_06_cat', \n",
    "            'ps_car_07_cat', 'ps_car_08_cat', 'ps_car_09_cat', 'ps_car_11_cat', 'ps_ind_01', \n",
    "            'ps_ind_03', 'ps_ind_15', 'ps_car_11']"
   ]
  },
  {
   "cell_type": "markdown",
   "metadata": {},
   "source": [
    "## 훈련데이터 vs 테스트데이터"
   ]
  },
  {
   "cell_type": "code",
   "execution_count": null,
   "metadata": {},
   "outputs": [],
   "source": [
    "all_data[\"is_tst\"]=all_data[\"target\"].isnull()\n",
    "for col in binaryrcategorygory+integer:\n",
    "    bar_plot(col, all_data,\"is_tst\")"
   ]
  },
  {
   "cell_type": "markdown",
   "metadata": {},
   "source": [
    "## Baseline Model"
   ]
  },
  {
   "cell_type": "code",
   "execution_count": null,
   "metadata": {},
   "outputs": [],
   "source": [
    "train=pd.read_csv(\"data/train.csv\")\n",
    "y_train=train[\"target\"]\n",
    "train_id=train.id\n",
    "del train[\"target\"],train[\"id\"]\n",
    "\n",
    "test=pd.read_csv(\"data/test.csv\")\n",
    "test_id=test.id\n",
    "del test[\"id\"]"
   ]
  },
  {
   "cell_type": "code",
   "execution_count": null,
   "metadata": {},
   "outputs": [],
   "source": [
    "train[\"missing\"]=(train==-1).sum(axis=1).astype(float)\n",
    "test[\"missing\"]=(train==-1).sum(axis=1).astype(float)\n",
    "\n",
    "bin_features=[c for c in train.columns if \"bin\" in c]\n",
    "train[\"bin_sum\"]=train[bin_features].sum(axis=1)\n",
    "test[\"bin_sum\"]=test[bin_features].sum(axis=1)"
   ]
  },
  {
   "cell_type": "code",
   "execution_count": null,
   "metadata": {},
   "outputs": [],
   "source": [
    "features = ['ps_ind_06_bin', 'ps_ind_07_bin', 'ps_ind_08_bin', 'ps_ind_09_bin', 'ps_ind_12_bin', \n",
    "            'ps_ind_16_bin', 'ps_ind_17_bin', 'ps_ind_18_bin', 'ps_ind_04_cat', 'ps_ind_05_cat', \n",
    "            'ps_car_01_cat', 'ps_car_02_cat', 'ps_car_03_cat', 'ps_car_04_cat', 'ps_car_06_cat', \n",
    "            'ps_car_07_cat', 'ps_car_08_cat', 'ps_car_09_cat', 'ps_car_11_cat', 'ps_ind_01', \n",
    "            'ps_ind_03', 'ps_ind_15', 'ps_car_11']"
   ]
  },
  {
   "cell_type": "code",
   "execution_count": null,
   "metadata": {},
   "outputs": [],
   "source": [
    "import lightgbm as lgbm\n",
    "num_boost_round=10000\n",
    "params={\n",
    "    \"objective\":\"binary\",\n",
    "    \"boosting_type\":\"gbdt\",\n",
    "    \"learning_rate\":0.1,\n",
    "    \"num_leaves\":15,\n",
    "    \"max_bin\":256,\n",
    "    \"feature_fraction\":0.6,\n",
    "    \"verbosity\":0,\n",
    "    \"drop_rate\":0.1,\n",
    "    \"is_unbalance\":False,\n",
    "    \"max_drop\":50,\n",
    "    \"min_child_samples\":10,\n",
    "    \"min_child_weight\":150,\n",
    "    \"min_split_gain\":0,\n",
    "    \"subsample\":0.9,\n",
    "    \"seed\":2018\n",
    "}"
   ]
  },
  {
   "cell_type": "code",
   "execution_count": null,
   "metadata": {},
   "outputs": [],
   "source": [
    "from sklearn.model_selection import StratifiedKFold\n",
    "NFOLDS=5\n",
    "kfold=StratifiedKFold(n_splits=NFOLDS,shuffle=True,random_state=218)\n",
    "kf=kfold.split(train,y_train)"
   ]
  },
  {
   "cell_type": "code",
   "execution_count": null,
   "metadata": {},
   "outputs": [],
   "source": [
    "cv_train=np.zeros(len(y_train))\n",
    "cv_pred=np.zeros(len(test_id))\n",
    "best_trees=[]\n",
    "fold_scores=[]"
   ]
  },
  {
   "cell_type": "code",
   "execution_count": null,
   "metadata": {},
   "outputs": [],
   "source": [
    "kfold,kf"
   ]
  },
  {
   "cell_type": "code",
   "execution_count": null,
   "metadata": {},
   "outputs": [],
   "source": [
    "kfold"
   ]
  },
  {
   "cell_type": "code",
   "execution_count": null,
   "metadata": {},
   "outputs": [],
   "source": [
    "kf"
   ]
  },
  {
   "cell_type": "code",
   "execution_count": null,
   "metadata": {},
   "outputs": [],
   "source": [
    "def Gini(y_true, y_pred):\n",
    "    # check and get number of samples\n",
    "    assert y_true.shape == y_pred.shape\n",
    "    n_samples = y_true.shape[0]\n",
    "\n",
    "    # sort rows on prediction column\n",
    "    # (from largest to smallest)\n",
    "    arr = np.array([y_true, y_pred]).transpose()\n",
    "    true_order = arr[arr[:, 0].argsort()][::-1, 0]\n",
    "    pred_order = arr[arr[:, 1].argsort()][::-1, 0]\n",
    "\n",
    "    # get Lorenz curves\n",
    "    L_true = np.cumsum(true_order) * 1. / np.sum(true_order)\n",
    "    L_pred = np.cumsum(pred_order) * 1. / np.sum(pred_order)\n",
    "    L_ones = np.linspace(1 / n_samples, 1, n_samples)\n",
    "\n",
    "    # get Gini coefficients (area between curves)\n",
    "    G_true = np.sum(L_ones - L_true)\n",
    "    G_pred = np.sum(L_ones - L_pred)\n",
    "\n",
    "    # normalize to true Gini coefficient\n",
    "    return G_pred * 1. / G_true\n",
    "\n",
    "def evalerror(preds, dtrain):\n",
    "    labels = dtrain.get_label()\n",
    "    return 'gini', Gini(labels, preds), True"
   ]
  },
  {
   "cell_type": "code",
   "execution_count": null,
   "metadata": {},
   "outputs": [],
   "source": [
    "for i,(train_fold,validate) in enumerate(kf):\n",
    "    x_train,x_validate,label_train,label_validate=\\\n",
    "    train.iloc[train_fold,:],train.iloc[validate,:],y_train[train_fold],y_train[validate]\n",
    "    \n",
    "    for feature in features:\n",
    "        map_dic=pd.DataFrame([x_train[feature],label_train]).T.groupby(feature).agg('mean')\n",
    "        map_dic=map_dic.to_dict()[\"target\"]\n",
    "        x_train[feature+\"_target_enc\"]=x_train[feature].apply(lambda x:map_dic.get(x,0))\n",
    "        x_validate[feature+\"_target_enc\"]=x_validate[feature].apply(lambda x : map_dic.get(x,0))\n",
    "        test[feature+\"_target_end\"]=test[feature].apply(lambda x:map_dic.get(x,0))\n",
    "\n",
    "    dtrain=lgbm.Dataset(x_train,label_train)\n",
    "    dvalid=lgbm.Dataset(x_validate,label_validate,reference=dtrain)\n",
    "\n",
    "    bst=lgbm.train(params,dtrain,num_boost_round,valid_sets=dvalid,feval=evalerror,verbose_eval=100,early_stopping_rounds=100)\n",
    "    best_trees.append(bst.best_iteration)\n",
    "    cv_pred+= bst.predict(test,num_iteration=bst.best_iteration)\n",
    "    cv_train[validate] += bst.predict(x_validate)\n",
    "    \n",
    "    score=Gini(label_validate,cv_train[validate])\n",
    "    print(score)\n",
    "    fold_scores.append(score)\n",
    "    "
   ]
  },
  {
   "cell_type": "code",
   "execution_count": null,
   "metadata": {},
   "outputs": [],
   "source": [
    "train.columns"
   ]
  },
  {
   "cell_type": "code",
   "execution_count": null,
   "metadata": {},
   "outputs": [],
   "source": [
    "cv_pred"
   ]
  },
  {
   "cell_type": "code",
   "execution_count": null,
   "metadata": {},
   "outputs": [],
   "source": []
  }
 ],
 "metadata": {
  "kernelspec": {
   "display_name": "Python 3",
   "language": "python",
   "name": "python3"
  },
  "language_info": {
   "codemirror_mode": {
    "name": "ipython",
    "version": 3
   },
   "file_extension": ".py",
   "mimetype": "text/x-python",
   "name": "python",
   "nbconvert_exporter": "python",
   "pygments_lexer": "ipython3",
   "version": "3.7.7"
  }
 },
 "nbformat": 4,
 "nbformat_minor": 2
}
