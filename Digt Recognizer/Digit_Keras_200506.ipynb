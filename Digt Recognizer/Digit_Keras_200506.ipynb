{
 "cells": [
  {
   "cell_type": "code",
   "execution_count": 15,
   "metadata": {},
   "outputs": [],
   "source": [
    "img_rows = 28\n",
    "img_cols = 28\n",
    "color_type = 1\n",
    "batch_size=64\n",
    "epochs=32\n",
    "cache = 'e:/kaggle_imgs/cache/digit'"
   ]
  },
  {
   "cell_type": "code",
   "execution_count": 2,
   "metadata": {},
   "outputs": [],
   "source": [
    "import pandas as pd\n",
    "import numpy as np\n",
    "import matplotlib.pyplot as plt\n",
    "import seaborn as sns\n",
    "np.random.seed(2)\n",
    "from sklearn.model_selection import train_test_split\n",
    "from sklearn.metrics import confusion_matrix\n",
    "import itertools\n",
    "from pickle import load, dump"
   ]
  },
  {
   "cell_type": "code",
   "execution_count": 3,
   "metadata": {},
   "outputs": [
    {
     "name": "stderr",
     "output_type": "stream",
     "text": [
      "Using TensorFlow backend.\n"
     ]
    }
   ],
   "source": [
    "from keras.utils.np_utils import to_categorical # convert to one-hot-encoding\n",
    "from keras.models import Sequential,Model\n",
    "from keras.layers import Dense, Dropout, Flatten, Conv2D, MaxPool2D,Input\n",
    "from keras.optimizers import RMSprop\n",
    "from keras.preprocessing.image import ImageDataGenerator\n",
    "from keras.callbacks import ReduceLROnPlateau\n",
    "from keras.utils import np_utils\n",
    "from keras.callbacks import ModelCheckpoint, EarlyStopping"
   ]
  },
  {
   "cell_type": "code",
   "execution_count": 4,
   "metadata": {},
   "outputs": [],
   "source": [
    "# import module\n",
    "import os\n",
    "import cv2"
   ]
  },
  {
   "cell_type": "code",
   "execution_count": 6,
   "metadata": {},
   "outputs": [],
   "source": [
    "train = pd.read_csv(\"data/train.csv\")\n",
    "test = pd.read_csv(\"data/test.csv\")\n",
    "y_train=train.label\n",
    "x_train=train.drop(labels = [\"label\"],axis = 1) \n",
    "del train\n",
    "x_train = x_train / 255.0\n",
    "test = test / 255.0\n",
    "x_train = x_train.values.reshape(-1,28,28,1)\n",
    "test = test.values.reshape(-1,28,28,1)\n",
    "y_train = to_categorical(y_train, num_classes = 10)\n",
    "train_images, valid_images, train_labels, valid_labels = train_test_split(x_train, y_train, \n",
    "                                                  test_size = 0.1, \n",
    "                                                  random_state=2)"
   ]
  },
  {
   "cell_type": "code",
   "execution_count": 7,
   "metadata": {},
   "outputs": [
    {
     "name": "stdout",
     "output_type": "stream",
     "text": [
      "stats:\n",
      "37800 train images\n",
      "4200 validation images\n",
      "28000 test images\n",
      "train_images.shape = (37800, 28, 28, 1)\n",
      "train_labels.shape = (37800, 10)\n",
      "valid_images.shape = (4200, 28, 28, 1)\n",
      "valid_labels.shape = (4200, 10)\n"
     ]
    }
   ],
   "source": [
    "# stats\n",
    "train_size = len(train_images)\n",
    "valid_size = len(valid_images)\n",
    "test_size = (test.shape[0])\n",
    "print('stats:', flush=True)\n",
    "print('{} train images'.format(train_size), flush=True)\n",
    "print('{} validation images'.format(valid_size), flush=True)\n",
    "print('{} test images'.format(test_size), flush=True)\n",
    "print('train_images.shape = {}'.format(train_images.shape), flush=True)\n",
    "print('train_labels.shape = {}'.format(train_labels.shape), flush=True)\n",
    "print('valid_images.shape = {}'.format(valid_images.shape), flush=True)\n",
    "print('valid_labels.shape = {}'.format(valid_labels.shape), flush=True)"
   ]
  },
  {
   "cell_type": "code",
   "execution_count": 8,
   "metadata": {},
   "outputs": [],
   "source": [
    "import shutil\n",
    "if os.path.exists(cache):\n",
    "    shutil.rmtree(cache)\n",
    "os.mkdir(cache)\n",
    "saved_path=\"{}/saved_models\".format(cache)\n",
    "if not os.path.exists(saved_path):\n",
    "    os.makedirs(saved_path)\n",
    "filepath='{}/weights_best.hdf5'.format(saved_path)"
   ]
  },
  {
   "cell_type": "code",
   "execution_count": 9,
   "metadata": {},
   "outputs": [],
   "source": [
    "checkpoint = ModelCheckpoint(filepath=filepath, \n",
    "                               monitor='val_loss', mode='min',\n",
    "                               verbose=1, save_best_only=True)\n",
    "es = EarlyStopping(monitor='val_accuracy', mode='max', verbose=1, patience=20)\n",
    "learning_rate_reduction=ReduceLROnPlateau(monitor=\"val_acc\",\n",
    "                                          patience=3,\n",
    "                                          verbose=1,\n",
    "                                          factor=0.5,\n",
    "                                          min_lr=0.00001)\n",
    "callbacks = [checkpoint, es,learning_rate_reduction]"
   ]
  },
  {
   "cell_type": "code",
   "execution_count": 10,
   "metadata": {},
   "outputs": [
    {
     "name": "stdout",
     "output_type": "stream",
     "text": [
      "Model: \"sequential_1\"\n",
      "_________________________________________________________________\n",
      "Layer (type)                 Output Shape              Param #   \n",
      "=================================================================\n",
      "conv2d_1 (Conv2D)            (None, 28, 28, 32)        832       \n",
      "_________________________________________________________________\n",
      "conv2d_2 (Conv2D)            (None, 28, 28, 32)        25632     \n",
      "_________________________________________________________________\n",
      "max_pooling2d_1 (MaxPooling2 (None, 14, 14, 32)        0         \n",
      "_________________________________________________________________\n",
      "dropout_1 (Dropout)          (None, 14, 14, 32)        0         \n",
      "_________________________________________________________________\n",
      "conv2d_3 (Conv2D)            (None, 14, 14, 64)        18496     \n",
      "_________________________________________________________________\n",
      "conv2d_4 (Conv2D)            (None, 14, 14, 64)        36928     \n",
      "_________________________________________________________________\n",
      "max_pooling2d_2 (MaxPooling2 (None, 7, 7, 64)          0         \n",
      "_________________________________________________________________\n",
      "dropout_2 (Dropout)          (None, 7, 7, 64)          0         \n",
      "_________________________________________________________________\n",
      "flatten_1 (Flatten)          (None, 3136)              0         \n",
      "_________________________________________________________________\n",
      "dense_1 (Dense)              (None, 256)               803072    \n",
      "_________________________________________________________________\n",
      "dropout_3 (Dropout)          (None, 256)               0         \n",
      "_________________________________________________________________\n",
      "dense_2 (Dense)              (None, 10)                2570      \n",
      "=================================================================\n",
      "Total params: 887,530\n",
      "Trainable params: 887,530\n",
      "Non-trainable params: 0\n",
      "_________________________________________________________________\n"
     ]
    }
   ],
   "source": [
    "# def get_model():\n",
    "#     input_layer = Input((img_rows, img_cols, color_type))\n",
    "#     x = Conv2D(32, (5, 5),padding=\"Same\",activation=\"relu\",input_shape=(28,28,1))(input_layer)\n",
    "#     x = Conv2D(32, (5, 5),padding=\"Same\",activation=\"relu\")(input_layer)\n",
    "#     x = MaxPool2D(pool_size=(2,2))(x)\n",
    "#     x = Dropout(0.25)(x)\n",
    "#     x = Conv2D(64, (3, 3),padding=\"Same\",activation=\"relu\")(input_layer)\n",
    "#     x = Conv2D(64, (3, 3),padding=\"Same\",activation=\"relu\")(input_layer)\n",
    "#     x = MaxPool2D(pool_size=(2,2),strides=(2,2))(x)\n",
    "#     x = Dropout(0.25)(x)\n",
    "#     x = Flatten()(x)\n",
    "#     x = Dense(256, activation='relu')(x)\n",
    "#     x = Dropout(0.5)(x)\n",
    "#     predictions = Dense(10, activation='softmax')(x)\n",
    "#     return model\n",
    "def get_model():\n",
    "    model = Sequential()\n",
    "\n",
    "    model.add(Conv2D(filters = 32, kernel_size = (5,5),padding = 'Same', \n",
    "                     activation ='relu', input_shape = (28,28,1)))\n",
    "    model.add(Conv2D(filters = 32, kernel_size = (5,5),padding = 'Same', \n",
    "                     activation ='relu'))\n",
    "    model.add(MaxPool2D(pool_size=(2,2)))\n",
    "    model.add(Dropout(0.25))\n",
    "\n",
    "\n",
    "    model.add(Conv2D(filters = 64, kernel_size = (3,3),padding = 'Same', \n",
    "                     activation ='relu'))\n",
    "    model.add(Conv2D(filters = 64, kernel_size = (3,3),padding = 'Same', \n",
    "                     activation ='relu'))\n",
    "    model.add(MaxPool2D(pool_size=(2,2), strides=(2,2)))\n",
    "    model.add(Dropout(0.25))\n",
    "\n",
    "\n",
    "    model.add(Flatten())\n",
    "    model.add(Dense(256, activation = \"relu\"))\n",
    "    model.add(Dropout(0.5))\n",
    "    model.add(Dense(10, activation = \"softmax\"))\n",
    "    return model\n",
    "\n",
    "\n",
    "model = get_model()\n",
    "model.summary()\n",
    "model.compile(loss='categorical_crossentropy', optimizer='rmsprop', metrics=['accuracy'])"
   ]
  },
  {
   "cell_type": "code",
   "execution_count": 11,
   "metadata": {},
   "outputs": [],
   "source": [
    "# data augmentation configuration\n",
    "datagen = ImageDataGenerator(\n",
    "        featurewise_center=False,  # set input mean to 0 over the dataset\n",
    "        samplewise_center=False,  # set each sample mean to 0\n",
    "        featurewise_std_normalization=False,  # divide inputs by std of the dataset\n",
    "        samplewise_std_normalization=False,  # divide each input by its std\n",
    "        zca_whitening=False,  # apply ZCA whitening\n",
    "        rotation_range=10,  # randomly rotate images in the range (degrees, 0 to 180)\n",
    "        zoom_range = 0.1, # Randomly zoom image \n",
    "        width_shift_range=0.1,  # randomly shift images horizontally (fraction of total width)\n",
    "        height_shift_range=0.1,  # randomly shift images vertically (fraction of total height)\n",
    "        horizontal_flip=False,  # randomly flip images\n",
    "        vertical_flip=False)  # randomly flip images\n",
    "\n",
    "\n",
    "datagen.fit(train_images)"
   ]
  },
  {
   "cell_type": "code",
   "execution_count": 12,
   "metadata": {},
   "outputs": [],
   "source": [
    "training_generator = datagen.flow(train_images, train_labels, batch_size=batch_size)\n",
    "validation_data = (valid_images,valid_labels)"
   ]
  },
  {
   "cell_type": "code",
   "execution_count": 16,
   "metadata": {},
   "outputs": [
    {
     "name": "stdout",
     "output_type": "stream",
     "text": [
      "Epoch 1/32\n",
      "590/590 [==============================] - 12s 21ms/step - loss: 0.3997 - accuracy: 0.8721 - val_loss: 0.0729 - val_accuracy: 0.9764\n",
      "\n",
      "Epoch 00001: val_loss improved from inf to 0.07293, saving model to e:/kaggle_imgs/cache/digit/saved_models/weights_best.hdf5\n",
      "Epoch 2/32\n",
      "  2/590 [..............................] - ETA: 35s - loss: 0.1651 - accuracy: 0.9531"
     ]
    },
    {
     "name": "stderr",
     "output_type": "stream",
     "text": [
      "C:\\Users\\ipofri-desktop\\anaconda3\\lib\\site-packages\\keras\\callbacks\\callbacks.py:1042: RuntimeWarning: Reduce LR on plateau conditioned on metric `val_acc` which is not available. Available metrics are: val_loss,val_accuracy,loss,accuracy,lr\n",
      "  (self.monitor, ','.join(list(logs.keys()))), RuntimeWarning\n"
     ]
    },
    {
     "name": "stdout",
     "output_type": "stream",
     "text": [
      "590/590 [==============================] - 9s 16ms/step - loss: 0.1286 - accuracy: 0.9620 - val_loss: 0.0504 - val_accuracy: 0.9852\n",
      "\n",
      "Epoch 00002: val_loss improved from 0.07293 to 0.05043, saving model to e:/kaggle_imgs/cache/digit/saved_models/weights_best.hdf5\n",
      "Epoch 3/32\n",
      "590/590 [==============================] - 9s 15ms/step - loss: 0.0940 - accuracy: 0.9728 - val_loss: 0.0404 - val_accuracy: 0.9876\n",
      "\n",
      "Epoch 00003: val_loss improved from 0.05043 to 0.04037, saving model to e:/kaggle_imgs/cache/digit/saved_models/weights_best.hdf5\n",
      "Epoch 4/32\n",
      "590/590 [==============================] - 9s 16ms/step - loss: 0.0805 - accuracy: 0.9763 - val_loss: 0.0553 - val_accuracy: 0.9848\n",
      "\n",
      "Epoch 00004: val_loss did not improve from 0.04037\n",
      "Epoch 5/32\n",
      "590/590 [==============================] - 9s 15ms/step - loss: 0.0764 - accuracy: 0.9779 - val_loss: 0.0418 - val_accuracy: 0.9895\n",
      "\n",
      "Epoch 00005: val_loss did not improve from 0.04037\n",
      "Epoch 6/32\n",
      "590/590 [==============================] - 9s 16ms/step - loss: 0.0721 - accuracy: 0.9795 - val_loss: 0.0300 - val_accuracy: 0.9926\n",
      "\n",
      "Epoch 00006: val_loss improved from 0.04037 to 0.03000, saving model to e:/kaggle_imgs/cache/digit/saved_models/weights_best.hdf5\n",
      "Epoch 7/32\n",
      "590/590 [==============================] - 10s 17ms/step - loss: 0.0705 - accuracy: 0.9792 - val_loss: 0.0318 - val_accuracy: 0.9912\n",
      "\n",
      "Epoch 00007: val_loss did not improve from 0.03000\n",
      "Epoch 8/32\n",
      "590/590 [==============================] - 10s 17ms/step - loss: 0.0715 - accuracy: 0.9811 - val_loss: 0.0299 - val_accuracy: 0.9912\n",
      "\n",
      "Epoch 00008: val_loss improved from 0.03000 to 0.02986, saving model to e:/kaggle_imgs/cache/digit/saved_models/weights_best.hdf5\n",
      "Epoch 9/32\n",
      "590/590 [==============================] - 10s 17ms/step - loss: 0.0661 - accuracy: 0.9816 - val_loss: 0.0279 - val_accuracy: 0.9910\n",
      "\n",
      "Epoch 00009: val_loss improved from 0.02986 to 0.02788, saving model to e:/kaggle_imgs/cache/digit/saved_models/weights_best.hdf5\n",
      "Epoch 10/32\n",
      "590/590 [==============================] - 10s 16ms/step - loss: 0.0651 - accuracy: 0.9811 - val_loss: 0.0285 - val_accuracy: 0.9926\n",
      "\n",
      "Epoch 00010: val_loss did not improve from 0.02788\n",
      "Epoch 11/32\n",
      "590/590 [==============================] - 10s 17ms/step - loss: 0.0665 - accuracy: 0.9814 - val_loss: 0.0442 - val_accuracy: 0.9917\n",
      "\n",
      "Epoch 00011: val_loss did not improve from 0.02788\n",
      "Epoch 12/32\n",
      "590/590 [==============================] - 10s 17ms/step - loss: 0.0704 - accuracy: 0.9811 - val_loss: 0.0326 - val_accuracy: 0.9921\n",
      "\n",
      "Epoch 00012: val_loss did not improve from 0.02788\n",
      "Epoch 13/32\n",
      "590/590 [==============================] - 10s 17ms/step - loss: 0.0692 - accuracy: 0.9815 - val_loss: 0.0417 - val_accuracy: 0.9893\n",
      "\n",
      "Epoch 00013: val_loss did not improve from 0.02788\n",
      "Epoch 14/32\n",
      "590/590 [==============================] - 9s 16ms/step - loss: 0.0739 - accuracy: 0.9810 - val_loss: 0.0219 - val_accuracy: 0.9945\n",
      "\n",
      "Epoch 00014: val_loss improved from 0.02788 to 0.02193, saving model to e:/kaggle_imgs/cache/digit/saved_models/weights_best.hdf5\n",
      "Epoch 15/32\n",
      "590/590 [==============================] - 9s 15ms/step - loss: 0.0786 - accuracy: 0.9800 - val_loss: 0.0360 - val_accuracy: 0.9910\n",
      "\n",
      "Epoch 00015: val_loss did not improve from 0.02193\n",
      "Epoch 16/32\n",
      "590/590 [==============================] - 9s 16ms/step - loss: 0.0748 - accuracy: 0.9806 - val_loss: 0.0296 - val_accuracy: 0.9948\n",
      "\n",
      "Epoch 00016: val_loss did not improve from 0.02193\n",
      "Epoch 17/32\n",
      "590/590 [==============================] - 9s 16ms/step - loss: 0.0824 - accuracy: 0.9796 - val_loss: 0.0341 - val_accuracy: 0.9912\n",
      "\n",
      "Epoch 00017: val_loss did not improve from 0.02193\n",
      "Epoch 18/32\n",
      "590/590 [==============================] - 9s 15ms/step - loss: 0.0830 - accuracy: 0.9788 - val_loss: 0.0547 - val_accuracy: 0.9924\n",
      "\n",
      "Epoch 00018: val_loss did not improve from 0.02193\n",
      "Epoch 19/32\n",
      "590/590 [==============================] - 10s 17ms/step - loss: 0.0782 - accuracy: 0.9804 - val_loss: 0.0519 - val_accuracy: 0.9890\n",
      "\n",
      "Epoch 00019: val_loss did not improve from 0.02193\n",
      "Epoch 20/32\n",
      "590/590 [==============================] - 10s 17ms/step - loss: 0.0840 - accuracy: 0.9785 - val_loss: 0.0465 - val_accuracy: 0.9907\n",
      "\n",
      "Epoch 00020: val_loss did not improve from 0.02193\n",
      "Epoch 21/32\n",
      "590/590 [==============================] - 10s 17ms/step - loss: 0.0835 - accuracy: 0.9789 - val_loss: 0.0704 - val_accuracy: 0.9883\n",
      "\n",
      "Epoch 00021: val_loss did not improve from 0.02193\n",
      "Epoch 22/32\n",
      "590/590 [==============================] - 10s 17ms/step - loss: 0.0914 - accuracy: 0.9793 - val_loss: 0.0415 - val_accuracy: 0.9869\n",
      "\n",
      "Epoch 00022: val_loss did not improve from 0.02193\n",
      "Epoch 23/32\n",
      "590/590 [==============================] - 10s 16ms/step - loss: 0.0893 - accuracy: 0.9789 - val_loss: 0.0416 - val_accuracy: 0.9912\n",
      "\n",
      "Epoch 00023: val_loss did not improve from 0.02193\n",
      "Epoch 24/32\n",
      "590/590 [==============================] - 10s 17ms/step - loss: 0.0918 - accuracy: 0.9773 - val_loss: 0.0686 - val_accuracy: 0.9876\n",
      "\n",
      "Epoch 00024: val_loss did not improve from 0.02193\n",
      "Epoch 25/32\n",
      "590/590 [==============================] - 10s 17ms/step - loss: 0.0986 - accuracy: 0.9773 - val_loss: 0.0544 - val_accuracy: 0.9890\n",
      "\n",
      "Epoch 00025: val_loss did not improve from 0.02193\n",
      "Epoch 26/32\n",
      "590/590 [==============================] - 10s 16ms/step - loss: 0.0941 - accuracy: 0.9775 - val_loss: 0.1348 - val_accuracy: 0.9871\n",
      "\n",
      "Epoch 00026: val_loss did not improve from 0.02193\n",
      "Epoch 27/32\n",
      "590/590 [==============================] - 9s 16ms/step - loss: 0.0987 - accuracy: 0.9772 - val_loss: 0.0491 - val_accuracy: 0.9905\n",
      "\n",
      "Epoch 00027: val_loss did not improve from 0.02193\n",
      "Epoch 28/32\n",
      "590/590 [==============================] - 9s 15ms/step - loss: 0.1004 - accuracy: 0.9761 - val_loss: 0.0459 - val_accuracy: 0.9890\n",
      "\n",
      "Epoch 00028: val_loss did not improve from 0.02193\n",
      "Epoch 29/32\n",
      "590/590 [==============================] - 10s 16ms/step - loss: 0.1062 - accuracy: 0.9749 - val_loss: 0.0402 - val_accuracy: 0.9921\n",
      "\n",
      "Epoch 00029: val_loss did not improve from 0.02193\n",
      "Epoch 30/32\n",
      "590/590 [==============================] - 9s 15ms/step - loss: 0.1058 - accuracy: 0.9751 - val_loss: 0.0985 - val_accuracy: 0.9838\n",
      "\n",
      "Epoch 00030: val_loss did not improve from 0.02193\n",
      "Epoch 31/32\n",
      "590/590 [==============================] - 9s 16ms/step - loss: 0.1025 - accuracy: 0.9772 - val_loss: 0.0687 - val_accuracy: 0.9900\n",
      "\n",
      "Epoch 00031: val_loss did not improve from 0.02193\n",
      "Epoch 32/32\n",
      "590/590 [==============================] - 10s 17ms/step - loss: 0.1070 - accuracy: 0.9762 - val_loss: 0.0669 - val_accuracy: 0.9895\n",
      "\n",
      "Epoch 00032: val_loss did not improve from 0.02193\n"
     ]
    }
   ],
   "source": [
    "history = model.fit_generator(\n",
    "    training_generator,\n",
    "    epochs = epochs, \n",
    "    validation_data = validation_data,\n",
    "    verbose = 1,\n",
    "    steps_per_epoch = train_images.shape[0] // batch_size,\n",
    "    callbacks=callbacks,\n",
    "    validation_steps = valid_images.shape[0] // batch_size)"
   ]
  },
  {
   "cell_type": "code",
   "execution_count": 17,
   "metadata": {},
   "outputs": [
    {
     "data": {
      "image/png": "[encoded data removed]",
      "text/plain": [
       "<Figure size 432x288 with 1 Axes>"
      ]
     },
     "metadata": {
      "needs_background": "light"
     },
     "output_type": "display_data"
    },
    {
     "data": {
      "text/plain": [
       "<matplotlib.legend.Legend at 0x15b26897708>"
      ]
     },
     "execution_count": 17,
     "metadata": {},
     "output_type": "execute_result"
    },
    {
     "data": {
      "image/png": "[encoded data removed]",
      "text/plain": [
       "<Figure size 432x288 with 1 Axes>"
      ]
     },
     "metadata": {
      "needs_background": "light"
     },
     "output_type": "display_data"
    }
   ],
   "source": [
    "# plot history\n",
    "plt.plot(history.history['accuracy'])\n",
    "plt.plot(history.history['val_accuracy'])\n",
    "plt.title('Model accuracy')\n",
    "plt.ylabel('accuracy')\n",
    "plt.xlabel('epoch')\n",
    "plt.legend(['train', 'test'], loc='upper left')\n",
    "plt.show()\n",
    "\n",
    "plt.plot(history.history['loss'])\n",
    "plt.plot(history.history['val_loss'])\n",
    "plt.title('Model loss')\n",
    "plt.ylabel('loss')\n",
    "plt.xlabel('epoch')\n",
    "plt.legend(['train', 'test'], loc='upper left')"
   ]
  },
  {
   "cell_type": "code",
   "execution_count": 22,
   "metadata": {},
   "outputs": [],
   "source": [
    "model.load_weights(filepath)\n",
    "results=model.predict(test)\n",
    "results=np.argmax(results,axis=1)\n",
    "results=pd.Series(results,name=\"Label\")"
   ]
  },
  {
   "cell_type": "code",
   "execution_count": 23,
   "metadata": {},
   "outputs": [],
   "source": [
    "submission=pd.DataFrame({\"ImageId\":pd.Series(range(1,28001)),\"Label\":results.values})"
   ]
  },
  {
   "cell_type": "code",
   "execution_count": 24,
   "metadata": {},
   "outputs": [],
   "source": [
    "from datetime import datetime\n",
    "now=datetime.now()\n",
    "submission.to_csv(\"data/{0:02d}{1:02d}{2:02d}{3:02d}_keras_submission.csv\".format(now.year,now.month,now.day,now.hour),index=False)"
   ]
  },
  {
   "cell_type": "code",
   "execution_count": 25,
   "metadata": {},
   "outputs": [
    {
     "data": {
      "text/plain": [
       "0.22443977591036415"
      ]
     },
     "execution_count": 25,
     "metadata": {},
     "output_type": "execute_result"
    }
   ],
   "source": [
    "641/2856"
   ]
  },
  {
   "cell_type": "code",
   "execution_count": null,
   "metadata": {},
   "outputs": [],
   "source": []
  }
 ],
 "metadata": {
  "kernelspec": {
   "display_name": "Python 3",
   "language": "python",
   "name": "python3"
  },
  "language_info": {
   "codemirror_mode": {
    "name": "ipython",
    "version": 3
   },
   "file_extension": ".py",
   "mimetype": "text/x-python",
   "name": "python",
   "nbconvert_exporter": "python",
   "pygments_lexer": "ipython3",
   "version": "3.7.7"
  }
 },
 "nbformat": 4,
 "nbformat_minor": 4
}
