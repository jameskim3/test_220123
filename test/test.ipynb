{
 "cells": [
  {
   "cell_type": "code",
   "execution_count": 2,
   "source": [
    "import pandas as pd"
   ],
   "outputs": [],
   "metadata": {}
  },
  {
   "cell_type": "code",
   "execution_count": 10,
   "source": [
    "path1=\"C:\\\\Users\\\\ipofr\\\\Downloads\\\\sd\\\\mkv\"\r\n",
    "path2=\"C:\\\\Users\\\\ipofr\\\\Downloads\\\\sd\\\\smi\"\r\n"
   ],
   "outputs": [],
   "metadata": {}
  },
  {
   "cell_type": "code",
   "execution_count": 11,
   "source": [
    "import os"
   ],
   "outputs": [],
   "metadata": {}
  },
  {
   "cell_type": "code",
   "execution_count": 12,
   "source": [
    "files1=os.listdir(path1)\r\n",
    "files2=os.listdir(path2)\r\n"
   ],
   "outputs": [],
   "metadata": {}
  },
  {
   "cell_type": "code",
   "execution_count": 21,
   "source": [
    "\r\n",
    "filename1=[]\r\n",
    "for f in files1:\r\n",
    "   l1=len(f)\r\n",
    "   filename1.append(f[:-4])\r\n",
    "   "
   ],
   "outputs": [],
   "metadata": {}
  },
  {
   "cell_type": "code",
   "execution_count": 39,
   "source": [
    "for i,f in enumerate(files2):\r\n",
    "    f1=os.path.join(path2,f)\r\n",
    "    f2=os.path.join(path2,filename1[i])\r\n",
    "    os.rename(f1,f2+\".smi\")\r\n"
   ],
   "outputs": [],
   "metadata": {}
  },
  {
   "cell_type": "code",
   "execution_count": null,
   "source": [],
   "outputs": [],
   "metadata": {}
  }
 ],
 "metadata": {
  "orig_nbformat": 4,
  "language_info": {
   "name": "python",
   "version": "3.8.10",
   "mimetype": "text/x-python",
   "codemirror_mode": {
    "name": "ipython",
    "version": 3
   },
   "pygments_lexer": "ipython3",
   "nbconvert_exporter": "python",
   "file_extension": ".py"
  },
  "kernelspec": {
   "name": "python3",
   "display_name": "Python 3.8.10 64-bit ('tch38': conda)"
  },
  "interpreter": {
   "hash": "318cf3de6d0a79980e53c1022e9a9bd2b66c638045de2aca848fbac357dae712"
  }
 },
 "nbformat": 4,
 "nbformat_minor": 2
}