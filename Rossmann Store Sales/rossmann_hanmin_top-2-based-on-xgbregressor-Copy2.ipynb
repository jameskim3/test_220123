{
 "cells": [
  {
   "cell_type": "code",
   "execution_count": 1,
   "metadata": {
    "_cell_guid": "b1076dfc-b9ad-4769-8c92-a6c4dae69d19",
    "_uuid": "8f2839f25d086af736a60e9eeb907d3b93b6e0e5"
   },
   "outputs": [],
   "source": [
    "# This Python 3 environment comes with many helpful analytics libraries installed\n",
    "# It is defined by the kaggle/python docker image: https://github.com/kaggle/docker-python\n",
    "# For example, here's several helpful packages to load in \n",
    "\n",
    "import numpy as np # linear algebra\n",
    "import pandas as pd # data processing, CSV file I/O (e.g. pd.read_csv)\n",
    "\n",
    "# Input data files are available in the \"../input/\" directory.\n",
    "# For example, running this (by clicking run or pressing Shift+Enter) will list all files under the input directory\n",
    "\n",
    "import os\n",
    "for dirname, _, filenames in os.walk('/kaggle/input'):\n",
    "    for filename in filenames:\n",
    "        print(os.path.join(dirname, filename))\n",
    "\n",
    "# Any results you write to the current directory are saved as output."
   ]
  },
  {
   "cell_type": "code",
   "execution_count": 2,
   "metadata": {
    "_cell_guid": "79c7e3d0-c299-4dcb-8224-4455121ee9b0",
    "_uuid": "d629ff2d2480ee46fbb7e2d37f6b5fab8052498a"
   },
   "outputs": [],
   "source": [
    "import os\n",
    "os.environ[\"CUDA_VISIBLE_DEVICES\"] = \"0\"\n",
    "import numpy as np\n",
    "import pandas as pd\n",
    "pd.set_option(\"display.max_columns\", None)\n",
    "from sklearn.compose import ColumnTransformer\n",
    "from sklearn.preprocessing import OrdinalEncoder, OneHotEncoder, LabelEncoder\n",
    "from sklearn.model_selection import train_test_split\n",
    "import xgboost as xgb\n",
    "import lightgbm as lgb\n",
    "import catboost as ctb"
   ]
  },
  {
   "cell_type": "code",
   "execution_count": 3,
   "metadata": {},
   "outputs": [],
   "source": [
    "X_train = pd.read_csv(\"data/train.csv\", parse_dates=[2], low_memory=False)\n",
    "X_test = pd.read_csv(\"data/test.csv\", parse_dates=[3], low_memory=False)\n",
    "store = pd.read_csv(\"data/store.csv\")"
   ]
  },
  {
   "cell_type": "code",
   "execution_count": 4,
   "metadata": {},
   "outputs": [
    {
     "name": "stdout",
     "output_type": "stream",
     "text": [
      "2013-01-01 00:00:00 2015-07-31 00:00:00\n"
     ]
    }
   ],
   "source": [
    "print(X_train[\"Date\"].min(), X_train[\"Date\"].max())\n",
    "X_train.sort_values([\"Date\"], inplace=True, kind=\"mergesort\")\n",
    "X_train.reset_index(drop=True, inplace=True)"
   ]
  },
  {
   "cell_type": "code",
   "execution_count": 5,
   "metadata": {},
   "outputs": [],
   "source": [
    "X_test[\"Open\"] = X_test[\"Open\"].fillna(1)"
   ]
  },
  {
   "cell_type": "code",
   "execution_count": 6,
   "metadata": {},
   "outputs": [],
   "source": [
    "# TODO: how do handle missing values regarding competitor store\n",
    "store.fillna(0, inplace=True)"
   ]
  },
  {
   "cell_type": "code",
   "execution_count": 7,
   "metadata": {},
   "outputs": [],
   "source": [
    "X_train = pd.merge(X_train, store, on=\"Store\", how=\"left\")\n",
    "X_test = pd.merge(X_test, store, on=\"Store\", how=\"left\")"
   ]
  },
  {
   "cell_type": "code",
   "execution_count": 8,
   "metadata": {},
   "outputs": [],
   "source": [
    "for df in [X_train, X_test]:\n",
    "    df['year'] = df['Date'].dt.year\n",
    "    df['month'] = df['Date'].dt.month\n",
    "    df['day'] = df['Date'].dt.day\n",
    "    assert np.all(df[\"DayOfWeek\"] - 1 == df['Date'].dt.dayofweek)\n",
    "    df['dayofyear'] = df['Date'].dt.dayofyear\n",
    "    df['weekofyear'] = df['Date'].dt.weekofyear\n",
    "    df.drop(\"Date\", axis=1, inplace=True)"
   ]
  },
  {
   "cell_type": "code",
   "execution_count": 9,
   "metadata": {},
   "outputs": [],
   "source": [
    "for df in [X_train, X_test]:\n",
    "    df[\"CompetitionOpen\"] = ((df[\"year\"] - df[\"CompetitionOpenSinceYear\"]) * 12\n",
    "                             + (df[\"month\"] - df[\"CompetitionOpenSinceMonth\"]))\n",
    "    df[\"CompetitionOpen\"] = df[\"CompetitionOpen\"].apply(lambda x: x if x > 0 else 0)\n",
    "    df[\"PromoOpen\"] = ((df[\"year\"] - df[\"Promo2SinceYear\"]) * 12\n",
    "                       + (df[\"weekofyear\"] - df[\"Promo2SinceWeek\"]) / 4)\n",
    "    df[\"PromoOpen\"] = df[\"PromoOpen\"].apply(lambda x: x if x > 0 else 0)"
   ]
  },
  {
   "cell_type": "code",
   "execution_count": 10,
   "metadata": {},
   "outputs": [],
   "source": [
    "month2str = {1:'Jan', 2:'Feb', 3:'Mar', 4:'Apr', 5:'May', 6:'Jun',\n",
    "             7:'Jul', 8:'Aug', 9:'Sept', 10:'Oct', 11:'Nov', 12:'Dec'}\n",
    "def check(row):\n",
    "    if isinstance(row['PromoInterval'], str) and month2str[row['month']] in row['PromoInterval']:\n",
    "        if (row['year'] > row['Promo2SinceYear'] or\n",
    "            (row['year'] == row['Promo2SinceYear'] and row['weekofyear'] > row['Promo2SinceWeek'])):\n",
    "            return 1\n",
    "    return 0\n",
    "for df in [X_train, X_test]:\n",
    "    df['IsPromoMonth'] = df.apply(lambda row: check(row), axis=1) \n",
    "    #df.drop(\"PromoInterval\", axis=1, inplace=True)"
   ]
  },
  {
   "cell_type": "code",
   "execution_count": 11,
   "metadata": {},
   "outputs": [],
   "source": [
    "groups = X_train[[\"Store\", \"Open\"]].groupby(\"Store\").mean()\n",
    "groups.rename(columns={\"Open\":\"shopavgopen\"}, inplace=True)\n",
    "X_train = pd.merge(X_train, groups, how=\"left\", on=\"Store\")\n",
    "X_test = pd.merge(X_test, groups, how=\"left\", on=\"Store\")"
   ]
  },
  {
   "cell_type": "code",
   "execution_count": 12,
   "metadata": {},
   "outputs": [],
   "source": [
    "groups = X_train[[\"Store\", \"Sales\", \"Customers\"]].groupby(\"Store\").sum()\n",
    "groups[\"shopavgsalespercustomer\"] = groups[\"Sales\"] / groups[\"Customers\"]\n",
    "del groups[\"Sales\"], groups[\"Customers\"]\n",
    "X_train = pd.merge(X_train, groups, how=\"left\", on=\"Store\")\n",
    "X_test = pd.merge(X_test, groups, how=\"left\", on=\"Store\")"
   ]
  },
  {
   "cell_type": "code",
   "execution_count": 13,
   "metadata": {},
   "outputs": [],
   "source": [
    "groups = X_train[[\"Store\", \"SchoolHoliday\"]].groupby(\"Store\").mean()\n",
    "groups.rename(columns={\"SchoolHoliday\":\"shopavgschoolholiday\"}, inplace=True)\n",
    "X_train = pd.merge(X_train, groups, how=\"left\", on=\"Store\")\n",
    "X_test = pd.merge(X_test, groups, how=\"left\", on=\"Store\")"
   ]
  },
  {
   "cell_type": "code",
   "execution_count": 14,
   "metadata": {},
   "outputs": [],
   "source": [
    "groups1 = X_train[[\"Store\", \"Sales\"]].groupby(\"Store\").sum()\n",
    "groups2 = X_train[X_train[\"StateHoliday\"] != \"0\"][[\"Store\", \"Sales\"]].groupby(\"Store\").sum()\n",
    "groups = pd.merge(groups1, groups2, on=\"Store\")\n",
    "groups[\"shopsalesholiday\"] = groups[\"Sales_y\"] / groups[\"Sales_x\"]\n",
    "del groups[\"Sales_x\"], groups[\"Sales_y\"]\n",
    "X_train = pd.merge(X_train, groups, how=\"left\", on=\"Store\")\n",
    "X_test = pd.merge(X_test, groups, how=\"left\", on=\"Store\")"
   ]
  },
  {
   "cell_type": "code",
   "execution_count": 15,
   "metadata": {},
   "outputs": [],
   "source": [
    "groups1 = X_train[[\"Store\", \"Sales\"]].groupby(\"Store\").sum()\n",
    "groups2 = X_train[X_train[\"IsPromoMonth\"] == 1][[\"Store\", \"Sales\"]].groupby(\"Store\").sum()\n",
    "groups = pd.merge(groups1, groups2, on=\"Store\")\n",
    "groups[\"shopsalespromo\"] = groups[\"Sales_y\"] / groups[\"Sales_x\"]\n",
    "del groups[\"Sales_x\"], groups[\"Sales_y\"]\n",
    "X_train = pd.merge(X_train, groups, how=\"left\", on=\"Store\")\n",
    "X_test = pd.merge(X_test, groups, how=\"left\", on=\"Store\")"
   ]
  },
  {
   "cell_type": "code",
   "execution_count": 16,
   "metadata": {},
   "outputs": [],
   "source": [
    "groups1 = X_train[[\"Store\", \"Sales\"]].groupby(\"Store\").sum()\n",
    "groups2 = X_train[X_train[\"DayOfWeek\"] == 6][[\"Store\", \"Sales\"]].groupby(\"Store\").sum()\n",
    "groups = pd.merge(groups1, groups2, on=\"Store\")\n",
    "groups[\"shopsalessaturday\"] = groups[\"Sales_y\"] / groups[\"Sales_x\"]\n",
    "del groups[\"Sales_x\"], groups[\"Sales_y\"]\n",
    "X_train = pd.merge(X_train, groups, how=\"left\", on=\"Store\")\n",
    "X_test = pd.merge(X_test, groups, how=\"left\", on=\"Store\")"
   ]
  },
  {
   "cell_type": "code",
   "execution_count": 17,
   "metadata": {},
   "outputs": [],
   "source": [
    "assert np.all(X_train[X_train[\"Open\"] == 0][\"Sales\"] == 0)\n",
    "# X_train = X_train[X_train[\"Open\"] == 1]\n",
    "X_train = X_train[X_train[\"Sales\"] != 0]\n",
    "del X_train[\"Open\"]\n",
    "test_close_ind = np.where(X_test[\"Open\"] == 0)[0]\n",
    "del X_test[\"Open\"]"
   ]
  },
  {
   "cell_type": "code",
   "execution_count": 18,
   "metadata": {},
   "outputs": [],
   "source": [
    "for col in [\"StateHoliday\", \"StoreType\", \"Assortment\", \"DayOfWeek\", \"month\", \"PromoInterval\"]:\n",
    "    for val in X_train[col].unique():\n",
    "        new_col_name = col + \"_\" + str(val)\n",
    "        X_train[new_col_name] = (X_train[col] == val).astype(int)\n",
    "        X_test[new_col_name] = (X_test[col] == val).astype(int)\n",
    "del X_train[\"PromoInterval\"], X_test[\"PromoInterval\"]"
   ]
  },
  {
   "cell_type": "code",
   "execution_count": 19,
   "metadata": {},
   "outputs": [],
   "source": [
    "for col in [\"StateHoliday\", \"StoreType\", \"Assortment\"]:\n",
    "    le = LabelEncoder()\n",
    "    X_train[col] = le.fit_transform(X_train[col])\n",
    "    X_test[col] = le.transform(X_test[col])"
   ]
  },
  {
   "cell_type": "code",
   "execution_count": 20,
   "metadata": {},
   "outputs": [
    {
     "data": {
      "text/plain": [
       "array([1, 0, 2, 3], dtype=int64)"
      ]
     },
     "execution_count": 20,
     "metadata": {},
     "output_type": "execute_result"
    }
   ],
   "source": [
    "X_train.StateHoliday.unique()"
   ]
  },
  {
   "cell_type": "code",
   "execution_count": 21,
   "metadata": {},
   "outputs": [],
   "source": [
    "y_train = np.array(X_train[\"Sales\"])\n",
    "X_train.drop(\"Sales\", axis=1, inplace=True)\n",
    "X_train.drop(\"Customers\", axis=1, inplace=True)\n",
    "test_ID = X_test[\"Id\"]\n",
    "X_test.drop(\"Id\", axis=1, inplace=True)"
   ]
  },
  {
   "cell_type": "code",
   "execution_count": 22,
   "metadata": {},
   "outputs": [],
   "source": [
    "y_train = np.log1p(y_train)"
   ]
  },
  {
   "cell_type": "code",
   "execution_count": 23,
   "metadata": {},
   "outputs": [],
   "source": [
    "def rmspe(y_true, y_pred):\n",
    "    y_pred = y_pred[y_true != 0]\n",
    "    y_true = y_true[y_true != 0]\n",
    "    err = np.sqrt(np.mean((1 - y_pred / y_true) ** 2))\n",
    "    return err\n",
    "\n",
    "def rmspe_xgb(y_pred, y_true):\n",
    "    y_true = y_true.get_label()\n",
    "    err = rmspe(np.expm1(y_true), np.expm1(y_pred))\n",
    "    return \"rmspe\", err"
   ]
  },
  {
   "cell_type": "code",
   "execution_count": 23,
   "metadata": {},
   "outputs": [
    {
     "name": "stdout",
     "output_type": "stream",
     "text": [
      "[0]\tvalidation_0-rmse:8.02077\tvalidation_1-rmse:8.02757\tvalidation_0-rmspe:0.999809\tvalidation_1-rmspe:0.999811\n",
      "Multiple eval metrics have been passed: 'validation_1-rmspe' will be used for early stopping.\n",
      "\n",
      "Will train until validation_1-rmspe hasn't improved in 100 rounds.\n",
      "[100]\tvalidation_0-rmse:0.430125\tvalidation_1-rmse:0.43425\tvalidation_0-rmspe:0.350737\tvalidation_1-rmspe:0.336794\n",
      "[200]\tvalidation_0-rmse:0.141981\tvalidation_1-rmse:0.158175\tvalidation_0-rmspe:0.195848\tvalidation_1-rmspe:0.163966\n",
      "[300]\tvalidation_0-rmse:0.114181\tvalidation_1-rmse:0.137274\tvalidation_0-rmspe:0.160282\tvalidation_1-rmspe:0.146742\n",
      "[400]\tvalidation_0-rmse:0.100477\tvalidation_1-rmse:0.12694\tvalidation_0-rmspe:0.138859\tvalidation_1-rmspe:0.136147\n",
      "[500]\tvalidation_0-rmse:0.092947\tvalidation_1-rmse:0.121752\tvalidation_0-rmspe:0.129171\tvalidation_1-rmspe:0.130501\n",
      "[600]\tvalidation_0-rmse:0.087929\tvalidation_1-rmse:0.118553\tvalidation_0-rmspe:0.117172\tvalidation_1-rmspe:0.126874\n",
      "[700]\tvalidation_0-rmse:0.084329\tvalidation_1-rmse:0.116878\tvalidation_0-rmspe:0.112752\tvalidation_1-rmspe:0.125002\n",
      "[800]\tvalidation_0-rmse:0.0814\tvalidation_1-rmse:0.115553\tvalidation_0-rmspe:0.104072\tvalidation_1-rmspe:0.123431\n",
      "[900]\tvalidation_0-rmse:0.079004\tvalidation_1-rmse:0.114725\tvalidation_0-rmspe:0.096149\tvalidation_1-rmspe:0.122418\n",
      "[1000]\tvalidation_0-rmse:0.077044\tvalidation_1-rmse:0.114332\tvalidation_0-rmspe:0.091597\tvalidation_1-rmspe:0.12197\n",
      "[1100]\tvalidation_0-rmse:0.075368\tvalidation_1-rmse:0.114077\tvalidation_0-rmspe:0.086087\tvalidation_1-rmspe:0.121693\n",
      "[1200]\tvalidation_0-rmse:0.073721\tvalidation_1-rmse:0.113949\tvalidation_0-rmspe:0.082623\tvalidation_1-rmspe:0.121424\n",
      "[1300]\tvalidation_0-rmse:0.072289\tvalidation_1-rmse:0.113727\tvalidation_0-rmspe:0.080621\tvalidation_1-rmspe:0.121046\n",
      "[1400]\tvalidation_0-rmse:0.070938\tvalidation_1-rmse:0.113614\tvalidation_0-rmspe:0.077969\tvalidation_1-rmspe:0.120903\n",
      "[1500]\tvalidation_0-rmse:0.069765\tvalidation_1-rmse:0.113542\tvalidation_0-rmspe:0.075794\tvalidation_1-rmspe:0.120824\n",
      "[1600]\tvalidation_0-rmse:0.068643\tvalidation_1-rmse:0.113494\tvalidation_0-rmspe:0.074091\tvalidation_1-rmspe:0.120786\n",
      "[1700]\tvalidation_0-rmse:0.067626\tvalidation_1-rmse:0.113485\tvalidation_0-rmspe:0.072667\tvalidation_1-rmspe:0.120798\n",
      "[1800]\tvalidation_0-rmse:0.066578\tvalidation_1-rmse:0.113428\tvalidation_0-rmspe:0.071176\tvalidation_1-rmspe:0.120738\n",
      "[1900]\tvalidation_0-rmse:0.065651\tvalidation_1-rmse:0.113422\tvalidation_0-rmspe:0.069754\tvalidation_1-rmspe:0.120706\n",
      "[2000]\tvalidation_0-rmse:0.064726\tvalidation_1-rmse:0.113433\tvalidation_0-rmspe:0.068504\tvalidation_1-rmspe:0.120733\n",
      "Stopping. Best iteration:\n",
      "[1932]\tvalidation_0-rmse:0.065349\tvalidation_1-rmse:0.113408\tvalidation_0-rmspe:0.069334\tvalidation_1-rmspe:0.120674\n",
      "\n"
     ]
    }
   ],
   "source": [
    "valid_mask = (X_train[\"year\"] == 2015) & (X_train[\"dayofyear\"] >= 171)  # last 6 weeks\n",
    "X_train_1, y_train_1 = X_train[~valid_mask], y_train[~valid_mask]\n",
    "X_train_2, y_train_2 = X_train[valid_mask], y_train[valid_mask]\n",
    "reg = xgb.XGBRegressor(n_estimators=5000, objective=\"reg:squarederror\", max_depth=10,\n",
    "                       learning_rate=0.03, colsample_bytree=0.7, subsample=0.9,\n",
    "                       random_state=0, tree_method=\"gpu_hist\")\n",
    "reg.fit(X_train_1, y_train_1, eval_set=[(X_train_1, y_train_1), (X_train_2, y_train_2)],\n",
    "        eval_metric=rmspe_xgb, early_stopping_rounds=100, verbose=100)\n",
    "best_iteration = reg.best_iteration"
   ]
  },
  {
   "cell_type": "code",
   "execution_count": 24,
   "metadata": {},
   "outputs": [],
   "source": [
    "pred = np.expm1(reg.predict(X_test))\n",
    "pred[test_close_ind] = 0\n",
    "submission = pd.DataFrame({\"Id\": test_ID, \"Sales\": pred},\n",
    "                          columns=[\"Id\", \"Sales\"])\n",
    "# 0.11690 0.11939\n",
    "submission.to_csv(\"submission_1.csv\", index=False)"
   ]
  },
  {
   "cell_type": "code",
   "execution_count": 25,
   "metadata": {},
   "outputs": [],
   "source": [
    "pred = np.expm1(reg.predict(X_test) * 0.995)\n",
    "pred[test_close_ind] = 0\n",
    "submission = pd.DataFrame({\"Id\": test_ID, \"Sales\": pred},\n",
    "                          columns=[\"Id\", \"Sales\"])\n",
    "# 0.11392 0.11196\n",
    "submission.to_csv(\"submission_2.csv\", index=False)"
   ]
  },
  {
   "cell_type": "code",
   "execution_count": 26,
   "metadata": {},
   "outputs": [
    {
     "name": "stdout",
     "output_type": "stream",
     "text": [
      "[0]\tvalidation_0-rmse:8.02108\tvalidation_0-rmspe:0.999809\n",
      "Multiple eval metrics have been passed: 'validation_0-rmspe' will be used for early stopping.\n",
      "\n",
      "Will train until validation_0-rmspe hasn't improved in 100 rounds.\n",
      "[100]\tvalidation_0-rmse:0.429682\tvalidation_0-rmspe:0.349311\n",
      "[200]\tvalidation_0-rmse:0.139622\tvalidation_0-rmspe:0.188643\n",
      "[300]\tvalidation_0-rmse:0.113257\tvalidation_0-rmspe:0.154623\n",
      "[400]\tvalidation_0-rmse:0.100437\tvalidation_0-rmspe:0.133807\n",
      "[500]\tvalidation_0-rmse:0.09279\tvalidation_0-rmspe:0.121839\n",
      "[600]\tvalidation_0-rmse:0.088033\tvalidation_0-rmspe:0.116136\n",
      "[700]\tvalidation_0-rmse:0.084607\tvalidation_0-rmspe:0.111777\n",
      "[800]\tvalidation_0-rmse:0.08179\tvalidation_0-rmspe:0.106001\n",
      "[900]\tvalidation_0-rmse:0.079466\tvalidation_0-rmspe:0.097585\n",
      "[1000]\tvalidation_0-rmse:0.077493\tvalidation_0-rmspe:0.093323\n",
      "[1100]\tvalidation_0-rmse:0.075755\tvalidation_0-rmspe:0.08843\n",
      "[1200]\tvalidation_0-rmse:0.074093\tvalidation_0-rmspe:0.086009\n",
      "[1300]\tvalidation_0-rmse:0.072653\tvalidation_0-rmspe:0.08268\n",
      "[1400]\tvalidation_0-rmse:0.071284\tvalidation_0-rmspe:0.07936\n",
      "[1500]\tvalidation_0-rmse:0.070101\tvalidation_0-rmspe:0.076577\n",
      "[1600]\tvalidation_0-rmse:0.068988\tvalidation_0-rmspe:0.07491\n",
      "[1700]\tvalidation_0-rmse:0.067985\tvalidation_0-rmspe:0.073388\n",
      "[1800]\tvalidation_0-rmse:0.067023\tvalidation_0-rmspe:0.071887\n",
      "[1900]\tvalidation_0-rmse:0.066137\tvalidation_0-rmspe:0.070451\n",
      "[1931]\tvalidation_0-rmse:0.065869\tvalidation_0-rmspe:0.070139\n"
     ]
    },
    {
     "data": {
      "text/plain": [
       "XGBRegressor(base_score=0.5, booster='gbtree', colsample_bylevel=1,\n",
       "             colsample_bynode=1, colsample_bytree=0.7, gamma=0,\n",
       "             importance_type='gain', learning_rate=0.03, max_delta_step=0,\n",
       "             max_depth=10, min_child_weight=1, missing=None, n_estimators=1932,\n",
       "             n_jobs=1, nthread=None, objective='reg:squarederror',\n",
       "             random_state=0, reg_alpha=0, reg_lambda=1, scale_pos_weight=1,\n",
       "             seed=None, silent=None, subsample=0.9, tree_method='gpu_hist',\n",
       "             verbosity=1)"
      ]
     },
     "execution_count": 26,
     "metadata": {},
     "output_type": "execute_result"
    }
   ],
   "source": [
    "X_train, y_train = X_train[y_train != 0], y_train[y_train != 0]\n",
    "reg = xgb.XGBRegressor(n_estimators=best_iteration, objective=\"reg:squarederror\", max_depth=10,\n",
    "                       learning_rate=0.03, colsample_bytree=0.7, subsample=0.9,\n",
    "                       random_state=0, tree_method=\"gpu_hist\")\n",
    "reg.fit(X_train, y_train, eval_set=[(X_train, y_train)],\n",
    "        eval_metric=rmspe_xgb, early_stopping_rounds=100, verbose=100)"
   ]
  },
  {
   "cell_type": "code",
   "execution_count": 27,
   "metadata": {},
   "outputs": [],
   "source": [
    "pred = np.expm1(reg.predict(X_test))\n",
    "pred[test_close_ind] = 0\n",
    "submission = pd.DataFrame({\"Id\": test_ID, \"Sales\": pred},\n",
    "                          columns=[\"Id\", \"Sales\"])\n",
    "# 0.11357 0.10751\n",
    "submission.to_csv(\"submission_3.csv\", index=False)"
   ]
  },
  {
   "cell_type": "code",
   "execution_count": 28,
   "metadata": {},
   "outputs": [],
   "source": [
    "pred = np.expm1(reg.predict(X_test) * 0.995)\n",
    "pred[test_close_ind] = 0\n",
    "submission = pd.DataFrame({\"Id\": test_ID, \"Sales\": pred},\n",
    "                          columns=[\"Id\", \"Sales\"])\n",
    "# 0.11245 0.10437\n",
    "submission.to_csv(\"submission_4.csv\", index=False)"
   ]
  },
  {
   "cell_type": "code",
   "execution_count": 29,
   "metadata": {},
   "outputs": [
    {
     "name": "stdout",
     "output_type": "stream",
     "text": [
      "=== model 0 ===\n",
      "[0]\tvalidation_0-rmse:8.02077\tvalidation_1-rmse:8.02757\tvalidation_0-rmspe:0.999809\tvalidation_1-rmspe:0.999811\n",
      "Multiple eval metrics have been passed: 'validation_1-rmspe' will be used for early stopping.\n",
      "\n",
      "Will train until validation_1-rmspe hasn't improved in 100 rounds.\n",
      "[100]\tvalidation_0-rmse:0.430125\tvalidation_1-rmse:0.43425\tvalidation_0-rmspe:0.350737\tvalidation_1-rmspe:0.336794\n",
      "[200]\tvalidation_0-rmse:0.141981\tvalidation_1-rmse:0.158175\tvalidation_0-rmspe:0.195848\tvalidation_1-rmspe:0.163966\n",
      "[300]\tvalidation_0-rmse:0.114181\tvalidation_1-rmse:0.137274\tvalidation_0-rmspe:0.160282\tvalidation_1-rmspe:0.146742\n",
      "[400]\tvalidation_0-rmse:0.100477\tvalidation_1-rmse:0.12694\tvalidation_0-rmspe:0.138859\tvalidation_1-rmspe:0.136147\n",
      "[500]\tvalidation_0-rmse:0.092947\tvalidation_1-rmse:0.121752\tvalidation_0-rmspe:0.129171\tvalidation_1-rmspe:0.130501\n",
      "[600]\tvalidation_0-rmse:0.087929\tvalidation_1-rmse:0.118553\tvalidation_0-rmspe:0.117172\tvalidation_1-rmspe:0.126874\n",
      "[700]\tvalidation_0-rmse:0.084329\tvalidation_1-rmse:0.116878\tvalidation_0-rmspe:0.112752\tvalidation_1-rmspe:0.125002\n",
      "[800]\tvalidation_0-rmse:0.0814\tvalidation_1-rmse:0.115553\tvalidation_0-rmspe:0.104072\tvalidation_1-rmspe:0.123431\n",
      "[900]\tvalidation_0-rmse:0.079004\tvalidation_1-rmse:0.114725\tvalidation_0-rmspe:0.096149\tvalidation_1-rmspe:0.122418\n",
      "[1000]\tvalidation_0-rmse:0.077044\tvalidation_1-rmse:0.114332\tvalidation_0-rmspe:0.091597\tvalidation_1-rmspe:0.12197\n",
      "[1100]\tvalidation_0-rmse:0.075368\tvalidation_1-rmse:0.114077\tvalidation_0-rmspe:0.086087\tvalidation_1-rmspe:0.121693\n",
      "[1200]\tvalidation_0-rmse:0.073721\tvalidation_1-rmse:0.113949\tvalidation_0-rmspe:0.082623\tvalidation_1-rmspe:0.121424\n",
      "[1300]\tvalidation_0-rmse:0.072289\tvalidation_1-rmse:0.113727\tvalidation_0-rmspe:0.080621\tvalidation_1-rmspe:0.121046\n",
      "[1400]\tvalidation_0-rmse:0.070938\tvalidation_1-rmse:0.113614\tvalidation_0-rmspe:0.077969\tvalidation_1-rmspe:0.120903\n",
      "[1500]\tvalidation_0-rmse:0.069765\tvalidation_1-rmse:0.113542\tvalidation_0-rmspe:0.075794\tvalidation_1-rmspe:0.120824\n",
      "[1600]\tvalidation_0-rmse:0.068643\tvalidation_1-rmse:0.113494\tvalidation_0-rmspe:0.074091\tvalidation_1-rmspe:0.120786\n",
      "[1700]\tvalidation_0-rmse:0.067626\tvalidation_1-rmse:0.113485\tvalidation_0-rmspe:0.072667\tvalidation_1-rmspe:0.120798\n",
      "[1800]\tvalidation_0-rmse:0.066578\tvalidation_1-rmse:0.113428\tvalidation_0-rmspe:0.071176\tvalidation_1-rmspe:0.120738\n",
      "[1900]\tvalidation_0-rmse:0.065651\tvalidation_1-rmse:0.113422\tvalidation_0-rmspe:0.069754\tvalidation_1-rmspe:0.120706\n",
      "[2000]\tvalidation_0-rmse:0.064726\tvalidation_1-rmse:0.113433\tvalidation_0-rmspe:0.068504\tvalidation_1-rmspe:0.120733\n",
      "Stopping. Best iteration:\n",
      "[1932]\tvalidation_0-rmse:0.065349\tvalidation_1-rmse:0.113408\tvalidation_0-rmspe:0.069334\tvalidation_1-rmspe:0.120674\n",
      "\n",
      "[0]\tvalidation_0-rmse:8.02108\tvalidation_0-rmspe:0.999809\n",
      "Multiple eval metrics have been passed: 'validation_0-rmspe' will be used for early stopping.\n",
      "\n",
      "Will train until validation_0-rmspe hasn't improved in 100 rounds.\n",
      "[100]\tvalidation_0-rmse:0.429682\tvalidation_0-rmspe:0.349311\n",
      "[200]\tvalidation_0-rmse:0.139622\tvalidation_0-rmspe:0.188643\n",
      "[300]\tvalidation_0-rmse:0.113257\tvalidation_0-rmspe:0.154623\n",
      "[400]\tvalidation_0-rmse:0.100437\tvalidation_0-rmspe:0.133807\n",
      "[500]\tvalidation_0-rmse:0.09279\tvalidation_0-rmspe:0.121839\n",
      "[600]\tvalidation_0-rmse:0.088033\tvalidation_0-rmspe:0.116136\n",
      "[700]\tvalidation_0-rmse:0.084607\tvalidation_0-rmspe:0.111777\n",
      "[800]\tvalidation_0-rmse:0.08179\tvalidation_0-rmspe:0.106001\n",
      "[900]\tvalidation_0-rmse:0.079466\tvalidation_0-rmspe:0.097585\n",
      "[1000]\tvalidation_0-rmse:0.077493\tvalidation_0-rmspe:0.093323\n",
      "[1100]\tvalidation_0-rmse:0.075755\tvalidation_0-rmspe:0.08843\n",
      "[1200]\tvalidation_0-rmse:0.074093\tvalidation_0-rmspe:0.086009\n",
      "[1300]\tvalidation_0-rmse:0.072653\tvalidation_0-rmspe:0.08268\n",
      "[1400]\tvalidation_0-rmse:0.071284\tvalidation_0-rmspe:0.07936\n",
      "[1500]\tvalidation_0-rmse:0.070101\tvalidation_0-rmspe:0.076577\n",
      "[1600]\tvalidation_0-rmse:0.068988\tvalidation_0-rmspe:0.07491\n",
      "[1700]\tvalidation_0-rmse:0.067985\tvalidation_0-rmspe:0.073388\n",
      "[1800]\tvalidation_0-rmse:0.067023\tvalidation_0-rmspe:0.071887\n",
      "[1900]\tvalidation_0-rmse:0.066137\tvalidation_0-rmspe:0.070451\n",
      "[1931]\tvalidation_0-rmse:0.065869\tvalidation_0-rmspe:0.070139\n",
      "=== model 1 ===\n",
      "[0]\tvalidation_0-rmse:8.02084\tvalidation_1-rmse:8.02709\tvalidation_0-rmspe:0.999809\tvalidation_1-rmspe:0.999811\n",
      "Multiple eval metrics have been passed: 'validation_1-rmspe' will be used for early stopping.\n",
      "\n",
      "Will train until validation_1-rmspe hasn't improved in 100 rounds.\n",
      "[100]\tvalidation_0-rmse:0.429423\tvalidation_1-rmse:0.433436\tvalidation_0-rmspe:0.348844\tvalidation_1-rmspe:0.336588\n",
      "[200]\tvalidation_0-rmse:0.138852\tvalidation_1-rmse:0.153397\tvalidation_0-rmspe:0.18039\tvalidation_1-rmspe:0.158101\n",
      "[300]\tvalidation_0-rmse:0.112515\tvalidation_1-rmse:0.13295\tvalidation_0-rmspe:0.150352\tvalidation_1-rmspe:0.141456\n",
      "[400]\tvalidation_0-rmse:0.099898\tvalidation_1-rmse:0.123989\tvalidation_0-rmspe:0.132109\tvalidation_1-rmspe:0.132217\n",
      "[500]\tvalidation_0-rmse:0.092273\tvalidation_1-rmse:0.118781\tvalidation_0-rmspe:0.120856\tvalidation_1-rmspe:0.126583\n",
      "[600]\tvalidation_0-rmse:0.087573\tvalidation_1-rmse:0.115826\tvalidation_0-rmspe:0.114163\tvalidation_1-rmspe:0.123262\n",
      "[700]\tvalidation_0-rmse:0.084031\tvalidation_1-rmse:0.114249\tvalidation_0-rmspe:0.106924\tvalidation_1-rmspe:0.12143\n",
      "[800]\tvalidation_0-rmse:0.081263\tvalidation_1-rmse:0.113104\tvalidation_0-rmspe:0.100627\tvalidation_1-rmspe:0.120086\n",
      "[900]\tvalidation_0-rmse:0.079024\tvalidation_1-rmse:0.112388\tvalidation_0-rmspe:0.095319\tvalidation_1-rmspe:0.119205\n",
      "[1000]\tvalidation_0-rmse:0.07692\tvalidation_1-rmse:0.111775\tvalidation_0-rmspe:0.091593\tvalidation_1-rmspe:0.118497\n",
      "[1100]\tvalidation_0-rmse:0.075142\tvalidation_1-rmse:0.111259\tvalidation_0-rmspe:0.088214\tvalidation_1-rmspe:0.117872\n",
      "[1200]\tvalidation_0-rmse:0.073609\tvalidation_1-rmse:0.111012\tvalidation_0-rmspe:0.083954\tvalidation_1-rmspe:0.117597\n",
      "[1300]\tvalidation_0-rmse:0.072197\tvalidation_1-rmse:0.11091\tvalidation_0-rmspe:0.080928\tvalidation_1-rmspe:0.117443\n",
      "[1400]\tvalidation_0-rmse:0.070874\tvalidation_1-rmse:0.110746\tvalidation_0-rmspe:0.078536\tvalidation_1-rmspe:0.117263\n",
      "[1500]\tvalidation_0-rmse:0.069674\tvalidation_1-rmse:0.110692\tvalidation_0-rmspe:0.076458\tvalidation_1-rmspe:0.117227\n",
      "[1600]\tvalidation_0-rmse:0.068579\tvalidation_1-rmse:0.110627\tvalidation_0-rmspe:0.074588\tvalidation_1-rmspe:0.117137\n",
      "[1700]\tvalidation_0-rmse:0.067495\tvalidation_1-rmse:0.110535\tvalidation_0-rmspe:0.072601\tvalidation_1-rmspe:0.117028\n",
      "[1800]\tvalidation_0-rmse:0.066531\tvalidation_1-rmse:0.110508\tvalidation_0-rmspe:0.071189\tvalidation_1-rmspe:0.117009\n",
      "[1900]\tvalidation_0-rmse:0.065594\tvalidation_1-rmse:0.110503\tvalidation_0-rmspe:0.06985\tvalidation_1-rmspe:0.117015\n",
      "Stopping. Best iteration:\n",
      "[1828]\tvalidation_0-rmse:0.066272\tvalidation_1-rmse:0.110483\tvalidation_0-rmspe:0.070717\tvalidation_1-rmspe:0.116973\n",
      "\n",
      "[0]\tvalidation_0-rmse:8.02115\tvalidation_0-rmspe:0.999809\n",
      "Multiple eval metrics have been passed: 'validation_0-rmspe' will be used for early stopping.\n",
      "\n",
      "Will train until validation_0-rmspe hasn't improved in 100 rounds.\n",
      "[100]\tvalidation_0-rmse:0.428983\tvalidation_0-rmspe:0.347973\n",
      "[200]\tvalidation_0-rmse:0.141165\tvalidation_0-rmspe:0.180801\n",
      "[300]\tvalidation_0-rmse:0.11374\tvalidation_0-rmspe:0.158434\n",
      "[400]\tvalidation_0-rmse:0.101042\tvalidation_0-rmspe:0.143556\n",
      "[500]\tvalidation_0-rmse:0.093068\tvalidation_0-rmspe:0.134417\n",
      "[600]\tvalidation_0-rmse:0.088064\tvalidation_0-rmspe:0.124884\n",
      "[700]\tvalidation_0-rmse:0.08427\tvalidation_0-rmspe:0.115457\n",
      "[800]\tvalidation_0-rmse:0.081365\tvalidation_0-rmspe:0.109275\n",
      "[900]\tvalidation_0-rmse:0.07915\tvalidation_0-rmspe:0.102108\n",
      "[1000]\tvalidation_0-rmse:0.077106\tvalidation_0-rmspe:0.091638\n",
      "[1100]\tvalidation_0-rmse:0.075409\tvalidation_0-rmspe:0.088167\n",
      "[1200]\tvalidation_0-rmse:0.073889\tvalidation_0-rmspe:0.085172\n",
      "[1300]\tvalidation_0-rmse:0.072481\tvalidation_0-rmspe:0.081831\n",
      "[1400]\tvalidation_0-rmse:0.071211\tvalidation_0-rmspe:0.079227\n",
      "[1500]\tvalidation_0-rmse:0.07005\tvalidation_0-rmspe:0.076803\n",
      "[1600]\tvalidation_0-rmse:0.068889\tvalidation_0-rmspe:0.074536\n",
      "[1700]\tvalidation_0-rmse:0.067847\tvalidation_0-rmspe:0.072964\n",
      "[1800]\tvalidation_0-rmse:0.066924\tvalidation_0-rmspe:0.071631\n",
      "[1827]\tvalidation_0-rmse:0.066696\tvalidation_0-rmspe:0.071339\n",
      "=== model 2 ===\n",
      "[0]\tvalidation_0-rmse:8.02074\tvalidation_1-rmse:8.02708\tvalidation_0-rmspe:0.999809\tvalidation_1-rmspe:0.999811\n",
      "Multiple eval metrics have been passed: 'validation_1-rmspe' will be used for early stopping.\n",
      "\n",
      "Will train until validation_1-rmspe hasn't improved in 100 rounds.\n",
      "[100]\tvalidation_0-rmse:0.429385\tvalidation_1-rmse:0.434705\tvalidation_0-rmspe:0.349973\tvalidation_1-rmspe:0.337313\n",
      "[200]\tvalidation_0-rmse:0.141495\tvalidation_1-rmse:0.156311\tvalidation_0-rmspe:0.195136\tvalidation_1-rmspe:0.161345\n",
      "[300]\tvalidation_0-rmse:0.114809\tvalidation_1-rmse:0.135856\tvalidation_0-rmspe:0.165446\tvalidation_1-rmspe:0.144693\n",
      "[400]\tvalidation_0-rmse:0.10095\tvalidation_1-rmse:0.126581\tvalidation_0-rmspe:0.144348\tvalidation_1-rmspe:0.135614\n",
      "[500]\tvalidation_0-rmse:0.09268\tvalidation_1-rmse:0.121598\tvalidation_0-rmspe:0.131743\tvalidation_1-rmspe:0.130394\n",
      "[600]\tvalidation_0-rmse:0.087621\tvalidation_1-rmse:0.118717\tvalidation_0-rmspe:0.122771\tvalidation_1-rmspe:0.127171\n",
      "[700]\tvalidation_0-rmse:0.084193\tvalidation_1-rmse:0.116984\tvalidation_0-rmspe:0.115266\tvalidation_1-rmspe:0.125206\n",
      "[800]\tvalidation_0-rmse:0.081535\tvalidation_1-rmse:0.115871\tvalidation_0-rmspe:0.10282\tvalidation_1-rmspe:0.123996\n",
      "[900]\tvalidation_0-rmse:0.079281\tvalidation_1-rmse:0.115376\tvalidation_0-rmspe:0.098675\tvalidation_1-rmspe:0.123438\n",
      "[1000]\tvalidation_0-rmse:0.077204\tvalidation_1-rmse:0.115045\tvalidation_0-rmspe:0.092188\tvalidation_1-rmspe:0.123133\n",
      "[1100]\tvalidation_0-rmse:0.075369\tvalidation_1-rmse:0.114735\tvalidation_0-rmspe:0.087653\tvalidation_1-rmspe:0.122766\n",
      "[1200]\tvalidation_0-rmse:0.073757\tvalidation_1-rmse:0.114487\tvalidation_0-rmspe:0.083546\tvalidation_1-rmspe:0.122479\n",
      "[1300]\tvalidation_0-rmse:0.072381\tvalidation_1-rmse:0.114316\tvalidation_0-rmspe:0.081052\tvalidation_1-rmspe:0.122305\n",
      "[1400]\tvalidation_0-rmse:0.071042\tvalidation_1-rmse:0.114162\tvalidation_0-rmspe:0.078579\tvalidation_1-rmspe:0.122107\n",
      "[1500]\tvalidation_0-rmse:0.069854\tvalidation_1-rmse:0.114112\tvalidation_0-rmspe:0.076368\tvalidation_1-rmspe:0.12207\n",
      "[1600]\tvalidation_0-rmse:0.068708\tvalidation_1-rmse:0.114006\tvalidation_0-rmspe:0.074282\tvalidation_1-rmspe:0.121939\n",
      "Stopping. Best iteration:\n",
      "[1594]\tvalidation_0-rmse:0.06878\tvalidation_1-rmse:0.113992\tvalidation_0-rmspe:0.074385\tvalidation_1-rmspe:0.121931\n",
      "\n",
      "[0]\tvalidation_0-rmse:8.02105\tvalidation_0-rmspe:0.999809\n",
      "Multiple eval metrics have been passed: 'validation_0-rmspe' will be used for early stopping.\n",
      "\n",
      "Will train until validation_0-rmspe hasn't improved in 100 rounds.\n",
      "[100]\tvalidation_0-rmse:0.429139\tvalidation_0-rmspe:0.348273\n",
      "[200]\tvalidation_0-rmse:0.141733\tvalidation_0-rmspe:0.186087\n",
      "[300]\tvalidation_0-rmse:0.11485\tvalidation_0-rmspe:0.163217\n",
      "[400]\tvalidation_0-rmse:0.100092\tvalidation_0-rmspe:0.146563\n",
      "[500]\tvalidation_0-rmse:0.092911\tvalidation_0-rmspe:0.132139\n",
      "[600]\tvalidation_0-rmse:0.088089\tvalidation_0-rmspe:0.117336\n",
      "[700]\tvalidation_0-rmse:0.084531\tvalidation_0-rmspe:0.112705\n",
      "[800]\tvalidation_0-rmse:0.081808\tvalidation_0-rmspe:0.109229\n",
      "[900]\tvalidation_0-rmse:0.079418\tvalidation_0-rmspe:0.100591\n",
      "[1000]\tvalidation_0-rmse:0.077538\tvalidation_0-rmspe:0.094451\n",
      "[1100]\tvalidation_0-rmse:0.075802\tvalidation_0-rmspe:0.090821\n",
      "[1200]\tvalidation_0-rmse:0.074197\tvalidation_0-rmspe:0.086957\n",
      "[1300]\tvalidation_0-rmse:0.072715\tvalidation_0-rmspe:0.083661\n",
      "[1400]\tvalidation_0-rmse:0.071393\tvalidation_0-rmspe:0.081492\n",
      "[1500]\tvalidation_0-rmse:0.070155\tvalidation_0-rmspe:0.078796\n",
      "[1593]\tvalidation_0-rmse:0.069104\tvalidation_0-rmspe:0.07597\n",
      "=== model 3 ===\n",
      "[0]\tvalidation_0-rmse:8.02072\tvalidation_1-rmse:8.02803\tvalidation_0-rmspe:0.999809\tvalidation_1-rmspe:0.999811\n",
      "Multiple eval metrics have been passed: 'validation_1-rmspe' will be used for early stopping.\n",
      "\n",
      "Will train until validation_1-rmspe hasn't improved in 100 rounds.\n",
      "[100]\tvalidation_0-rmse:0.429291\tvalidation_1-rmse:0.433759\tvalidation_0-rmspe:0.349237\tvalidation_1-rmspe:0.336618\n",
      "[200]\tvalidation_0-rmse:0.14018\tvalidation_1-rmse:0.156403\tvalidation_0-rmspe:0.182756\tvalidation_1-rmspe:0.161307\n",
      "[300]\tvalidation_0-rmse:0.113061\tvalidation_1-rmse:0.135823\tvalidation_0-rmspe:0.150252\tvalidation_1-rmspe:0.144819\n",
      "[400]\tvalidation_0-rmse:0.100354\tvalidation_1-rmse:0.126281\tvalidation_0-rmspe:0.133212\tvalidation_1-rmspe:0.135029\n",
      "[500]\tvalidation_0-rmse:0.092189\tvalidation_1-rmse:0.12094\tvalidation_0-rmspe:0.123525\tvalidation_1-rmspe:0.129108\n",
      "[600]\tvalidation_0-rmse:0.08735\tvalidation_1-rmse:0.117662\tvalidation_0-rmspe:0.113926\tvalidation_1-rmspe:0.125329\n",
      "[700]\tvalidation_0-rmse:0.083786\tvalidation_1-rmse:0.115822\tvalidation_0-rmspe:0.107974\tvalidation_1-rmspe:0.123132\n",
      "[800]\tvalidation_0-rmse:0.081147\tvalidation_1-rmse:0.114739\tvalidation_0-rmspe:0.101513\tvalidation_1-rmspe:0.121855\n",
      "[900]\tvalidation_0-rmse:0.07887\tvalidation_1-rmse:0.11399\tvalidation_0-rmspe:0.095186\tvalidation_1-rmspe:0.120947\n",
      "[1000]\tvalidation_0-rmse:0.076976\tvalidation_1-rmse:0.113496\tvalidation_0-rmspe:0.090545\tvalidation_1-rmspe:0.120442\n",
      "[1100]\tvalidation_0-rmse:0.07529\tvalidation_1-rmse:0.113065\tvalidation_0-rmspe:0.086859\tvalidation_1-rmspe:0.119916\n",
      "[1200]\tvalidation_0-rmse:0.073673\tvalidation_1-rmse:0.112776\tvalidation_0-rmspe:0.083719\tvalidation_1-rmspe:0.119562\n",
      "[1300]\tvalidation_0-rmse:0.072192\tvalidation_1-rmse:0.112506\tvalidation_0-rmspe:0.080413\tvalidation_1-rmspe:0.119377\n",
      "[1400]\tvalidation_0-rmse:0.070907\tvalidation_1-rmse:0.112397\tvalidation_0-rmspe:0.078353\tvalidation_1-rmspe:0.119267\n",
      "[1500]\tvalidation_0-rmse:0.069752\tvalidation_1-rmse:0.112298\tvalidation_0-rmspe:0.076589\tvalidation_1-rmspe:0.119163\n",
      "Stopping. Best iteration:\n",
      "[1429]\tvalidation_0-rmse:0.070551\tvalidation_1-rmse:0.112299\tvalidation_0-rmspe:0.077846\tvalidation_1-rmspe:0.119151\n",
      "\n",
      "[0]\tvalidation_0-rmse:8.02104\tvalidation_0-rmspe:0.999809\n",
      "Multiple eval metrics have been passed: 'validation_0-rmspe' will be used for early stopping.\n",
      "\n",
      "Will train until validation_0-rmspe hasn't improved in 100 rounds.\n",
      "[100]\tvalidation_0-rmse:0.428426\tvalidation_0-rmspe:0.349289\n",
      "[200]\tvalidation_0-rmse:0.139883\tvalidation_0-rmspe:0.188822\n",
      "[300]\tvalidation_0-rmse:0.113467\tvalidation_0-rmspe:0.159928\n",
      "[400]\tvalidation_0-rmse:0.100155\tvalidation_0-rmspe:0.14066\n",
      "[500]\tvalidation_0-rmse:0.092586\tvalidation_0-rmspe:0.125369\n",
      "[600]\tvalidation_0-rmse:0.087858\tvalidation_0-rmspe:0.113276\n",
      "[700]\tvalidation_0-rmse:0.084336\tvalidation_0-rmspe:0.108606\n",
      "[800]\tvalidation_0-rmse:0.08156\tvalidation_0-rmspe:0.099778\n",
      "[900]\tvalidation_0-rmse:0.079193\tvalidation_0-rmspe:0.093952\n",
      "[1000]\tvalidation_0-rmse:0.077215\tvalidation_0-rmspe:0.089832\n",
      "[1100]\tvalidation_0-rmse:0.075519\tvalidation_0-rmspe:0.086525\n",
      "[1200]\tvalidation_0-rmse:0.073919\tvalidation_0-rmspe:0.083878\n",
      "[1300]\tvalidation_0-rmse:0.072522\tvalidation_0-rmspe:0.081194\n",
      "[1400]\tvalidation_0-rmse:0.071218\tvalidation_0-rmspe:0.079003\n",
      "[1428]\tvalidation_0-rmse:0.070862\tvalidation_0-rmspe:0.078274\n",
      "=== model 4 ===\n",
      "[0]\tvalidation_0-rmse:8.02072\tvalidation_1-rmse:8.02791\tvalidation_0-rmspe:0.999809\tvalidation_1-rmspe:0.999811\n",
      "Multiple eval metrics have been passed: 'validation_1-rmspe' will be used for early stopping.\n",
      "\n",
      "Will train until validation_1-rmspe hasn't improved in 100 rounds.\n",
      "[100]\tvalidation_0-rmse:0.430463\tvalidation_1-rmse:0.437724\tvalidation_0-rmspe:0.349866\tvalidation_1-rmspe:0.33895\n",
      "[200]\tvalidation_0-rmse:0.143181\tvalidation_1-rmse:0.159569\tvalidation_0-rmspe:0.187004\tvalidation_1-rmspe:0.163984\n",
      "[300]\tvalidation_0-rmse:0.115121\tvalidation_1-rmse:0.137371\tvalidation_0-rmspe:0.159722\tvalidation_1-rmspe:0.14604\n",
      "[400]\tvalidation_0-rmse:0.101377\tvalidation_1-rmse:0.127115\tvalidation_0-rmspe:0.138205\tvalidation_1-rmspe:0.135389\n",
      "[500]\tvalidation_0-rmse:0.093129\tvalidation_1-rmse:0.121546\tvalidation_0-rmspe:0.127724\tvalidation_1-rmspe:0.129459\n",
      "[600]\tvalidation_0-rmse:0.088023\tvalidation_1-rmse:0.118312\tvalidation_0-rmspe:0.121358\tvalidation_1-rmspe:0.125832\n",
      "[700]\tvalidation_0-rmse:0.084438\tvalidation_1-rmse:0.116296\tvalidation_0-rmspe:0.110576\tvalidation_1-rmspe:0.123393\n",
      "[800]\tvalidation_0-rmse:0.081565\tvalidation_1-rmse:0.115315\tvalidation_0-rmspe:0.1026\tvalidation_1-rmspe:0.122166\n",
      "[900]\tvalidation_0-rmse:0.079206\tvalidation_1-rmse:0.114579\tvalidation_0-rmspe:0.096807\tvalidation_1-rmspe:0.121416\n",
      "[1000]\tvalidation_0-rmse:0.077078\tvalidation_1-rmse:0.1141\tvalidation_0-rmspe:0.093514\tvalidation_1-rmspe:0.120863\n",
      "[1100]\tvalidation_0-rmse:0.07535\tvalidation_1-rmse:0.113763\tvalidation_0-rmspe:0.088232\tvalidation_1-rmspe:0.120466\n",
      "[1200]\tvalidation_0-rmse:0.07382\tvalidation_1-rmse:0.113489\tvalidation_0-rmspe:0.084833\tvalidation_1-rmspe:0.120186\n",
      "[1300]\tvalidation_0-rmse:0.072323\tvalidation_1-rmse:0.11332\tvalidation_0-rmspe:0.081628\tvalidation_1-rmspe:0.120027\n",
      "[1400]\tvalidation_0-rmse:0.071071\tvalidation_1-rmse:0.113217\tvalidation_0-rmspe:0.079383\tvalidation_1-rmspe:0.119887\n",
      "[1500]\tvalidation_0-rmse:0.069864\tvalidation_1-rmse:0.113141\tvalidation_0-rmspe:0.077796\tvalidation_1-rmspe:0.119769\n",
      "[1600]\tvalidation_0-rmse:0.068777\tvalidation_1-rmse:0.113071\tvalidation_0-rmspe:0.075726\tvalidation_1-rmspe:0.119645\n",
      "[1700]\tvalidation_0-rmse:0.067705\tvalidation_1-rmse:0.11301\tvalidation_0-rmspe:0.073447\tvalidation_1-rmspe:0.119593\n",
      "[1800]\tvalidation_0-rmse:0.066726\tvalidation_1-rmse:0.112957\tvalidation_0-rmspe:0.07194\tvalidation_1-rmspe:0.11955\n",
      "[1900]\tvalidation_0-rmse:0.065795\tvalidation_1-rmse:0.112853\tvalidation_0-rmspe:0.070464\tvalidation_1-rmspe:0.119449\n",
      "[2000]\tvalidation_0-rmse:0.064947\tvalidation_1-rmse:0.112829\tvalidation_0-rmspe:0.069152\tvalidation_1-rmspe:0.119447\n",
      "[2100]\tvalidation_0-rmse:0.064095\tvalidation_1-rmse:0.112795\tvalidation_0-rmspe:0.067864\tvalidation_1-rmspe:0.119384\n",
      "[2200]\tvalidation_0-rmse:0.06327\tvalidation_1-rmse:0.112762\tvalidation_0-rmspe:0.066659\tvalidation_1-rmspe:0.119337\n",
      "[2300]\tvalidation_0-rmse:0.062523\tvalidation_1-rmse:0.112787\tvalidation_0-rmspe:0.065678\tvalidation_1-rmspe:0.119361\n",
      "Stopping. Best iteration:\n",
      "[2237]\tvalidation_0-rmse:0.062981\tvalidation_1-rmse:0.112765\tvalidation_0-rmspe:0.066274\tvalidation_1-rmspe:0.11933\n",
      "\n",
      "[0]\tvalidation_0-rmse:8.02102\tvalidation_0-rmspe:0.999809\n",
      "Multiple eval metrics have been passed: 'validation_0-rmspe' will be used for early stopping.\n",
      "\n",
      "Will train until validation_0-rmspe hasn't improved in 100 rounds.\n",
      "[100]\tvalidation_0-rmse:0.429767\tvalidation_0-rmspe:0.348799\n",
      "[200]\tvalidation_0-rmse:0.141219\tvalidation_0-rmspe:0.18706\n",
      "[300]\tvalidation_0-rmse:0.114235\tvalidation_0-rmspe:0.156765\n",
      "[400]\tvalidation_0-rmse:0.101217\tvalidation_0-rmspe:0.141855\n",
      "[500]\tvalidation_0-rmse:0.093102\tvalidation_0-rmspe:0.122848\n",
      "[600]\tvalidation_0-rmse:0.088042\tvalidation_0-rmspe:0.114489\n",
      "[700]\tvalidation_0-rmse:0.084436\tvalidation_0-rmspe:0.108408\n",
      "[800]\tvalidation_0-rmse:0.081687\tvalidation_0-rmspe:0.104786\n",
      "[900]\tvalidation_0-rmse:0.079331\tvalidation_0-rmspe:0.096822\n",
      "[1000]\tvalidation_0-rmse:0.077283\tvalidation_0-rmspe:0.092567\n",
      "[1100]\tvalidation_0-rmse:0.075586\tvalidation_0-rmspe:0.088161\n",
      "[1200]\tvalidation_0-rmse:0.074045\tvalidation_0-rmspe:0.085245\n",
      "[1300]\tvalidation_0-rmse:0.072612\tvalidation_0-rmspe:0.081772\n",
      "[1400]\tvalidation_0-rmse:0.071352\tvalidation_0-rmspe:0.079064\n",
      "[1500]\tvalidation_0-rmse:0.070122\tvalidation_0-rmspe:0.07678\n",
      "[1600]\tvalidation_0-rmse:0.069072\tvalidation_0-rmspe:0.075193\n",
      "[1700]\tvalidation_0-rmse:0.068044\tvalidation_0-rmspe:0.073607\n",
      "[1800]\tvalidation_0-rmse:0.067074\tvalidation_0-rmspe:0.072088\n",
      "[1900]\tvalidation_0-rmse:0.066137\tvalidation_0-rmspe:0.070678\n",
      "[2000]\tvalidation_0-rmse:0.065278\tvalidation_0-rmspe:0.069515\n",
      "[2100]\tvalidation_0-rmse:0.064422\tvalidation_0-rmspe:0.068246\n",
      "[2200]\tvalidation_0-rmse:0.063661\tvalidation_0-rmspe:0.06729\n",
      "[2236]\tvalidation_0-rmse:0.063362\tvalidation_0-rmspe:0.066796\n"
     ]
    }
   ],
   "source": [
    "pred = np.zeros(X_test.shape[0])\n",
    "n_models = 5\n",
    "for i in range(n_models):\n",
    "    print(\"=== model \" + str(i) + \" ===\")\n",
    "    reg = xgb.XGBRegressor(n_estimators=5000, objective=\"reg:squarederror\", max_depth=10,\n",
    "                           learning_rate=0.03, colsample_bytree=0.7, subsample=0.9,\n",
    "                           random_state=i, tree_method=\"gpu_hist\")\n",
    "    reg.fit(X_train_1, y_train_1, eval_set=[(X_train_1, y_train_1), (X_train_2, y_train_2)],\n",
    "            eval_metric=rmspe_xgb, early_stopping_rounds=100, verbose=100)\n",
    "    best_iteration = reg.best_iteration\n",
    "    reg = xgb.XGBRegressor(n_estimators=best_iteration, objective=\"reg:squarederror\", max_depth=10,\n",
    "                           learning_rate=0.03, colsample_bytree=0.7, subsample=0.9,\n",
    "                           random_state=i, tree_method=\"gpu_hist\")\n",
    "    reg.fit(X_train, y_train, eval_set=[(X_train, y_train)],\n",
    "            eval_metric=rmspe_xgb, early_stopping_rounds=100, verbose=100)\n",
    "    pred += np.expm1(reg.predict(X_test) * 0.995)\n",
    "pred /= n_models\n",
    "pred[test_close_ind] = 0\n",
    "submission = pd.DataFrame({\"Id\": test_ID, \"Sales\": pred},\n",
    "                           columns=[\"Id\", \"Sales\"])\n",
    "# 0.11180 0.10257\n",
    "submission.to_csv(\"submission_5.csv\", index=False)"
   ]
  }
 ],
 "metadata": {
  "kernelspec": {
   "display_name": "Python 3",
   "language": "python",
   "name": "python3"
  },
  "language_info": {
   "codemirror_mode": {
    "name": "ipython",
    "version": 3
   },
   "file_extension": ".py",
   "mimetype": "text/x-python",
   "name": "python",
   "nbconvert_exporter": "python",
   "pygments_lexer": "ipython3",
   "version": "3.6.4"
  }
 },
 "nbformat": 4,
 "nbformat_minor": 1
}
